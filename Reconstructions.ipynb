{
 "cells": [
  {
   "cell_type": "markdown",
   "metadata": {
    "Collapsed": "false"
   },
   "source": [
    "# Reconstructions.ipynb\n",
    "\n",
    "### Given Bilby parameter estimation results, plot reconstructions using the surrogate model\n",
    "\n",
    "Maria Okounkova (mokounkova@flatironinstitute.org)"
   ]
  },
  {
   "cell_type": "code",
   "execution_count": 21,
   "metadata": {
    "Collapsed": "false"
   },
   "outputs": [
    {
     "name": "stderr",
     "output_type": "stream",
     "text": [
      "/home/maria.okounkova/.local/lib/python3.6/site-packages/gwsurrogate/new/precessing_surrogate.py:245: H5pyDeprecationWarning: dataset.value has been deprecated. Use dataset[()] instead.\n",
      "  self.t = h5file['t_ds'].value\n",
      "/home/maria.okounkova/.local/lib/python3.6/site-packages/gwsurrogate/new/precessing_surrogate.py:272: H5pyDeprecationWarning: dataset.value has been deprecated. Use dataset[()] instead.\n",
      "  'coefs': group['%s_coefs'%(key)].value,\n",
      "/home/maria.okounkova/.local/lib/python3.6/site-packages/gwsurrogate/new/precessing_surrogate.py:273: H5pyDeprecationWarning: dataset.value has been deprecated. Use dataset[()] instead.\n",
      "  'bfOrders': group['%s_bfOrders'%(key)].value\n",
      "/home/maria.okounkova/.local/lib/python3.6/site-packages/gwsurrogate/new/precessing_surrogate.py:282: H5pyDeprecationWarning: dataset.value has been deprecated. Use dataset[()] instead.\n",
      "  'coefs': group['%s_%d_coefs'%(key, i)].value,\n",
      "/home/maria.okounkova/.local/lib/python3.6/site-packages/gwsurrogate/new/precessing_surrogate.py:283: H5pyDeprecationWarning: dataset.value has been deprecated. Use dataset[()] instead.\n",
      "  'bfOrders': group['%s_%d_bfOrders'%(key, i)].value\n",
      "/home/maria.okounkova/.local/lib/python3.6/site-packages/gwsurrogate/new/precessing_surrogate.py:733: H5pyDeprecationWarning: dataset.value has been deprecated. Use dataset[()] instead.\n",
      "  self.t = h5file['t_coorb'].value\n",
      "/home/maria.okounkova/.local/lib/python3.6/site-packages/gwsurrogate/new/precessing_surrogate.py:691: H5pyDeprecationWarning: dataset.value has been deprecated. Use dataset[()] instead.\n",
      "  data['EI_basis'] = h5_group['EIBasis'].value\n",
      "/home/maria.okounkova/.local/lib/python3.6/site-packages/gwsurrogate/new/precessing_surrogate.py:692: H5pyDeprecationWarning: dataset.value has been deprecated. Use dataset[()] instead.\n",
      "  data['nodeIndices'] = h5_group['nodeIndices'].value\n",
      "/home/maria.okounkova/.local/lib/python3.6/site-packages/gwsurrogate/new/precessing_surrogate.py:694: H5pyDeprecationWarning: dataset.value has been deprecated. Use dataset[()] instead.\n",
      "  for i in range(len(data['nodeIndices']))]\n",
      "/home/maria.okounkova/.local/lib/python3.6/site-packages/gwsurrogate/new/precessing_surrogate.py:696: H5pyDeprecationWarning: dataset.value has been deprecated. Use dataset[()] instead.\n",
      "  for i in range(len(data['nodeIndices']))]\n"
     ]
    },
    {
     "name": "stdout",
     "output_type": "stream",
     "text": [
      "Loaded NRSur7dq4 model\n"
     ]
    }
   ],
   "source": [
    "import json\n",
    "import matplotlib\n",
    "import matplotlib.pyplot as plt\n",
    "import numpy as np\n",
    "import seaborn as sns\n",
    "import corner\n",
    "from astropy import constants as const\n",
    "from gwpy.timeseries import TimeSeries\n",
    "from pycbc.detector import Detector\n",
    "import bilby\n",
    "from pesummary.io import read\n",
    "from math import pi\n",
    "import h5py\n",
    "from scipy.interpolate import InterpolatedUnivariateSpline\n",
    "import lal\n",
    "import lalsimulation as lalsim\n",
    "import pesummary\n",
    "from pesummary.io import read\n",
    "import pycbc\n",
    "from pycbc.filter.matchedfilter import overlap\n",
    "from scipy.optimize import minimize_scalar\n",
    "from ipynb.fs.full.Auxiliary import ReadExtrapolatedModes, EvaluateSurrogate, SubtractPeakTime, dt_eval, df_eval, \\\n",
    "                                    PadAndProject, ProjectGivenGeocenterTime, EllinKm, ComputeSNR, ComputeMultiDetectorSNR, \\\n",
    "                                    ComputeOverlap, TargetSNR\n",
    "import gwsurrogate\n",
    "sur = gwsurrogate.LoadSurrogate('NRSur7dq4')\n",
    "\n",
    "# Plot parameters\n",
    "matplotlib.rcParams['mathtext.fontset'] = 'stix'\n",
    "matplotlib.rcParams['font.family'] = 'STIXGeneral'\n",
    "matplotlib.rcParams['axes.labelsize'] = 24\n",
    "matplotlib.rcParams['xtick.labelsize'] = 30\n",
    "matplotlib.rcParams['ytick.labelsize'] = 30\n",
    "matplotlib.rcParams['xtick.major.size'] = 20\n",
    "matplotlib.rcParams['ytick.major.size'] = 20\n",
    "matplotlib.rcParams['xtick.top'] = True\n",
    "matplotlib.rcParams['xtick.direction'] = 'in'\n",
    "matplotlib.rcParams['xtick.minor.visible'] = True\n",
    "matplotlib.rcParams['xtick.minor.size'] = 10\n",
    "matplotlib.rcParams['ytick.minor.size'] = 10\n",
    "matplotlib.rcParams['legend.fontsize'] = 18\n",
    "matplotlib.rcParams['legend.frameon'] = True\n",
    "matplotlib.rcParams['lines.linewidth'] = 3"
   ]
  },
  {
   "cell_type": "markdown",
   "metadata": {
    "Collapsed": "false",
    "tags": []
   },
   "source": [
    "### Methods for parameter conversions -- masses, spins, inclination"
   ]
  },
  {
   "cell_type": "code",
   "execution_count": 2,
   "metadata": {
    "Collapsed": "false"
   },
   "outputs": [],
   "source": [
    "def EffectiveSpin(params_dict):\n",
    "    \"\"\" Compute effective spin given a parameter dictionary \"\"\"\n",
    "    m_1 = params_dict['m_1']\n",
    "    m_2 = params_dict['m_2']\n",
    "    a_1 = params_dict['a_1'][2] ## grab z component of spin\n",
    "    a_2 = params_dict['a_2'][2]\n",
    "    return (a_1/m_1 + a_2/m_2)/(m_1 + m_2)\n",
    "\n",
    "def MassParameters(BilbyRes):\n",
    "    \"\"\" Compute individual masses and total mass given bilby result \"\"\"\n",
    "    q = 1.0/BilbyRes['mass_ratio']\n",
    "    chirp = BilbyRes['chirp_mass']\n",
    "    mass = chirp * (q/(1+q)**2)**(-3/5)\n",
    "    m_2 = mass / (1 + q)\n",
    "    m_1 = q*m_2\n",
    "    return m_1, m_2, mass\n",
    "\n",
    "def change_spin_convention(theta_jn, phi_jl, tilt1, tilt2, phi12, a1, a2, m1,\n",
    "                           m2, f_ref, phi_orb=0.):\n",
    "    \"\"\" Change spin convention for Bilby / lal quantities to surrogate model quantities \"\"\"\n",
    "    iota, S1x, S1y, S1z, S2x, S2y, S2z = lalsim.SimInspiralTransformPrecessingNewInitialConditions(\n",
    "                                             theta_jn, phi_jl, tilt1, tilt2, phi12, a1, a2,\n",
    "                                             m1*lal.MSUN_SI, m2*lal.MSUN_SI, f_ref, phi_orb)\n",
    "    spin1 = [S1x, S1y, S1z]\n",
    "    spin2 = [S2x, S2y, S2z]\n",
    "    return spin1, spin2, iota\n",
    "\n",
    "def Compute_Spins(bilby_result):\n",
    "    \"\"\" Given a bilby result, compute chi_1 and chi_2, as well as the inclination angle in the form \n",
    "        to be passed to a surrogate model \"\"\"\n",
    "    \n",
    "    theta_jn = bilby_result['theta_jn']\n",
    "    phi_jl = bilby_result['phi_jl']\n",
    "    tilt1 = bilby_result['tilt_1']\n",
    "    tilt2 = bilby_result['tilt_2']\n",
    "    phi12 = bilby_result['phi_12']\n",
    "    a1 = bilby_result['a_1']\n",
    "    a2 = bilby_result['a_2']\n",
    "    m1, m2, mass = MassParameters(bilby_result)\n",
    "    phi_orb = bilby_result['phase'] ## phase of coalescence at some fiducial time \n",
    "    f_ref = 25 ## for now\n",
    "    spin1, spin2, iota = change_spin_convention(theta_jn, phi_jl, tilt1, tilt2, phi12, a1, a2, m1,\n",
    "                           m2, f_ref, phi_orb)\n",
    "    return spin1, spin2, iota"
   ]
  },
  {
   "cell_type": "markdown",
   "metadata": {
    "Collapsed": "false",
    "tags": []
   },
   "source": [
    "### Methods to read waveform from frames files and read injected parameters"
   ]
  },
  {
   "cell_type": "code",
   "execution_count": 3,
   "metadata": {
    "Collapsed": "false"
   },
   "outputs": [],
   "source": [
    "def GetFramesData(p):\n",
    "    \n",
    "    det = 'H1'\n",
    "    sH = TimeSeries.read(source = p + '/Frames/' + det + '.gwf', channel=det+\":LDAS_STRAIN\")\n",
    "    tH = np.array(sH.times)\n",
    "    \n",
    "    det = 'L1'\n",
    "    sL = TimeSeries.read(source = p + '/Frames/' + det + '.gwf', channel=det+\":LDAS_STRAIN\")\n",
    "    tL = np.array(sH.times)\n",
    "    \n",
    "    return tH, sH, tL, sL\n",
    "\n",
    "def GetInjectedParameters(p):\n",
    "    \"\"\" Return a dictionary of values from the parameters.json file \n",
    "        corresponding to the frames, where p is the path to the file \"\"\"\n",
    "    \n",
    "    f = open(p + '/parameters.json')\n",
    "    params = json.load(f)\n",
    "    f.close()\n",
    "    return params"
   ]
  },
  {
   "cell_type": "markdown",
   "metadata": {
    "Collapsed": "false",
    "tags": []
   },
   "source": [
    "### Methods for reading Bilby parameter estimation results"
   ]
  },
  {
   "cell_type": "code",
   "execution_count": 4,
   "metadata": {
    "Collapsed": "false"
   },
   "outputs": [],
   "source": [
    "def GetBilbyParameters(p):\n",
    "    \"\"\" Obtain max likelihood Bilby parameters given what the Bilby Slack said \"\"\"\n",
    "\n",
    "    result = bilby.core.result.read_in_result(p + \"/outdir/fast_tutorial_result.json\")\n",
    "    maxL_ind = np.argmax(np.array(result.posterior['log_likelihood']))\n",
    "    #print(len(np.array(result.posterior['log_likelihood'])))\n",
    "    print('max L', np.max(np.array(result.posterior['log_likelihood'])))\n",
    "    maxL_point = result.posterior.iloc[maxL_ind]\n",
    "    maxP_ind = np.argmax(np.array(result.posterior['log_likelihood'] + result.posterior['log_prior']))\n",
    "    maxP_point = result.posterior.iloc[maxP_ind]\n",
    "\n",
    "    return maxP_point\n",
    "\n",
    "def GetMultipleBilbyParameters(p, n_points):\n",
    "    \"\"\" Obtain n_points max likelihood Bilby parameters \"\"\"\n",
    "\n",
    "    result = bilby.core.result.read_in_result(p + \"/outdir/fast_tutorial_result.json\")\n",
    "    values = np.array(result.posterior['log_likelihood'] + result.posterior['log_prior'])\n",
    "    \n",
    "    sorted_indices = (values.argsort()[::-1])[0:n_points]\n",
    "    result_points = [result.posterior.iloc[index] for index in sorted_indices]\n",
    "\n",
    "    return result_points\n",
    "\n",
    "def GetBilbyDict(BilbyRes):\n",
    "    \"\"\" Convert a Bilby max likelihood result into a dictionary of parameters \n",
    "        that we can pass into the surrogate model \"\"\"\n",
    "    \n",
    "    BilbyDict = {}\n",
    "    BilbyDict['dt'] = 1.0/2048.\n",
    "    \n",
    "    ## Reciprocal of the mass ratio \n",
    "    q = 1.0/BilbyRes['mass_ratio']\n",
    "    BilbyDict['q'] = q\n",
    "    \n",
    "    m_1, m_2, mass = MassParameters(BilbyRes)\n",
    "    BilbyDict['mass'] = mass\n",
    "    BilbyDict['m_1'] = m_1\n",
    "    BilbyDict['m_2'] = m_2\n",
    "    \n",
    "    BilbyDict['dist_mpc'] = BilbyRes['luminosity_distance'] \n",
    "    BilbyDict['f_low'] = 0.0\n",
    "    BilbyDict['phi'] = BilbyRes['phase'] ## phase of coalescence (at some fiducial time)\n",
    "    \n",
    "    ## Spin computations\n",
    "    chi_1, chi_2, theta = Compute_Spins(BilbyRes)\n",
    "\n",
    "    BilbyDict['a_1'] = chi_1\n",
    "    BilbyDict['a_2'] = chi_2\n",
    "    chi_eff = EffectiveSpin(BilbyDict)\n",
    "    BilbyDict['chi_eff'] = chi_eff\n",
    "    \n",
    "    BilbyDict['theta'] = theta ## Theta from the spin computation conventions\n",
    "    \n",
    "    BilbyDict['ra'] = BilbyRes['ra']\n",
    "    BilbyDict['dec'] = BilbyRes['dec']\n",
    "    BilbyDict['geocent_time'] = BilbyRes['geocent_time']\n",
    "    BilbyDict['pol'] = BilbyRes['psi'] ## polarization (angle on the sky of the pericenter wrt to interferometer -- degenerate for circular orbits\n",
    "    \n",
    "    return BilbyDict\n"
   ]
  },
  {
   "cell_type": "markdown",
   "metadata": {
    "Collapsed": "false",
    "tags": []
   },
   "source": [
    "### Method for optimizing the phase between the injected waveform and the reconstructed surrogate model, or finding the optimal f_ref for the surrogate, which we are allowed to freely specify"
   ]
  },
  {
   "cell_type": "code",
   "execution_count": 5,
   "metadata": {
    "Collapsed": "false"
   },
   "outputs": [],
   "source": [
    "def OptimizePhase(p, param_dict):\n",
    "    \"\"\" Given a time and a strain array in each detector that we want to compare against, and a dictionary of parameters, \n",
    "        iterate over possible phases for the surrogate in order to produce the phase with the largest\n",
    "        overlap \"\"\"\n",
    "    \n",
    "    timeH, strainH, timeL, strainL = GetFramesData(p)\n",
    "    \n",
    "    def f(x):\n",
    "        surrogate_dict = param_dict\n",
    "        surrogate_dict['phi'] = x\n",
    "        time_sur, h_plus_sur, h_cross_sur, amp_sur = EvaluateSurrogate(sur, surrogate_dict)\n",
    "        timeH_sur, strainH_sur, timeL_sur, strainL_sur = ProjectGivenGeocenterTime(time_sur, h_plus_sur, h_cross_sur, surrogate_dict)\n",
    "        #ov = ComputeMultiDetectorOverlap(timeH, strainH, timeL, strainL, \\\n",
    "        #                        timeH_sur, strainH_sur, timeL_sur, strainL_sur)\n",
    "        ov = ComputeOverlap(timeH, strainH, timeH_sur, strainH_sur)\n",
    "    \n",
    "        ## 1 minus the overlap since we're doing minimization\n",
    "        print(1.0 - ov),\n",
    "        return 1.0 - ov\n",
    "    \n",
    "    ## iterate from zero to 2 * pi\n",
    "    res = minimize_scalar(f, bounds=(-pi/2, 2*pi + pi/2), method = 'bounded')\n",
    "    return(res.x)\n",
    "\n",
    "def OptimizeFref(p, param_dict):\n",
    "    \"\"\" Given a time and a strain array in each detector that we want to compare against, and a dictionary of parameters, \n",
    "        iterate over possible f_reffor the surrogate in order to produce the phase with the largest\n",
    "        overlap, since we are allowed to specify f_ref per the surrogate documentation \"\"\"\n",
    "    \n",
    "    timeH, strainH, timeL, strainL = GetFramesData(p)\n",
    "    \n",
    "    def f(x):\n",
    "        surrogate_dict = param_dict\n",
    "        surrogate_dict['f_ref'] = x\n",
    "        time_sur, h_plus_sur, h_cross_sur, amp_sur = EvaluateSurrogate(sur, surrogate_dict)\n",
    "        timeH_sur, strainH_sur, timeL_sur, strainL_sur = ProjectGivenGeocenterTime(time_sur, h_plus_sur, h_cross_sur, surrogate_dict)\n",
    "        ov = ComputeMultiDetectorOverlap(timeH, strainH, timeL, strainL, \\\n",
    "                                timeH_sur, strainH_sur, timeL_sur, strainL_sur)\n",
    "        #ov = ComputeOverlap(timeH, strainH, timeH_sur, strainH_sur)\n",
    "\n",
    "        print(1.0 - ov)\n",
    "        return 1.0 - ov\n",
    "\n",
    "    res = minimize_scalar(f, bounds=(35.0, 40.0), method = 'bounded')\n",
    "    return(res.x)\n",
    "\n",
    "def GenerateOptimalFrequencyDictionary():\n",
    "    \n",
    "    f_ref_opt_dict = {'25' : {\"0p0\" : None, \"0p2\" : None, \"0p25\" : None, \"0p3\" : None, \"0p35\" : None, \"0p37\" : None }, \\\n",
    "                      '75' : {\"0p0\" : None, \"0p2\" : None, \"0p25\" : None, \"0p3\" : None, \"0p35\" : None, \"0p37\" : None }, \\\n",
    "                     '125' : {\"0p0\" : None, \"0p2\" : None, \"0p25\" : None, \"0p3\" : None, \"0p35\" : None, \"0p37\" : None }}\n",
    "    \n",
    "    base_dir = '/home/maria.okounkova/BeyondGRAnalysis/BilbyPE/'\n",
    "    \n",
    "    for snr_key in f_ref_opt_dict: \n",
    "        \n",
    "        for ell_key in f_ref_opt_dict[snr_key]: \n",
    "            \n",
    "            p = base_dir + 'AllSearch_dCS_' + ell_key + '_' + snr_key + '/'\n",
    "            print(snr_key, ell_key)\n",
    "            bilby_result = GetBilbyParameters(p)\n",
    "            bilby_dict = GetBilbyDict(bilby_result)\n",
    "            f_ref_opt = OptimizeFref(p, bilby_dict)\n",
    "            print(f_ref_opt)\n",
    "            f_ref_opt_dict[snr_key][ell_key] = f_ref_opt\n",
    "            \n",
    "    return f_ref_opt_dict"
   ]
  },
  {
   "cell_type": "code",
   "execution_count": 31,
   "metadata": {},
   "outputs": [
    {
     "name": "stdout",
     "output_type": "stream",
     "text": [
      "max L 2854.339561411784\n"
     ]
    },
    {
     "data": {
      "text/plain": [
       "mass_ratio             9.773591e-01\n",
       "chirp_mass             3.006685e+01\n",
       "a_1                    9.874241e-01\n",
       "a_2                    9.649030e-01\n",
       "tilt_1                 1.131194e+00\n",
       "tilt_2                 2.213055e+00\n",
       "phi_12                 1.033583e-01\n",
       "phi_jl                 1.660259e+00\n",
       "luminosity_distance    4.315019e+02\n",
       "dec                   -1.274845e+00\n",
       "ra                     1.907139e+00\n",
       "theta_jn               2.756830e+00\n",
       "psi                    5.305311e+00\n",
       "phase                  4.706645e+00\n",
       "geocent_time           1.126259e+09\n",
       "log_likelihood         2.854340e+03\n",
       "log_prior             -2.785232e+01\n",
       "Name: 61247, dtype: float64"
      ]
     },
     "execution_count": 31,
     "metadata": {},
     "output_type": "execute_result"
    }
   ],
   "source": [
    "#GetBilbyParameters('/home/maria.okounkova/BeyondGRAnalysis/BilbyPE/AllSearch_dCS_0p37_75/')"
   ]
  },
  {
   "cell_type": "markdown",
   "metadata": {
    "tags": []
   },
   "source": [
    "### Method for doing a full Bilby waveform reconstruction"
   ]
  },
  {
   "cell_type": "code",
   "execution_count": 6,
   "metadata": {},
   "outputs": [],
   "source": [
    "def BilbyReconstruction(p):\n",
    "    \"\"\" Reconstruct Bilby waveforms from bilby run located in directory p \"\"\"\n",
    "\n",
    "    ## Read in bilby parameters\n",
    "    bilby_result = GetBilbyParameters(p)\n",
    "    bilby_dict = GetBilbyDict(bilby_result)\n",
    "    \n",
    "    ## f_ref optimization\n",
    "    #f_ref_opt = OptimizeFref(p, bilby_dict)\n",
    "    #bilby_dict['f_ref'] = f_ref_opt\n",
    "    bilby_dict['f_ref'] = F_Ref_Opt[p.split('_')[3].split('/')[0]][p.split('_')[2]]\n",
    "    print('Bilby result phi:', bilby_dict['phi'], 'Bilby result pol:', bilby_dict['pol'], 'f_ref:', bilby_dict['f_ref'])\n",
    "    \n",
    "    time_bil, h_plus_bil, h_cross_bil, amp_bil = EvaluateSurrogate(sur, bilby_dict) \n",
    "    timeH_bil, strainH_bil, timeL_bil, strainL_bil = ProjectGivenGeocenterTime(time_bil, h_plus_bil, h_cross_bil, bilby_dict)\n",
    "\n",
    "    return timeH_bil, strainH_bil, timeL_bil, strainL_bil, bilby_dict"
   ]
  },
  {
   "cell_type": "markdown",
   "metadata": {
    "Collapsed": "false",
    "tags": []
   },
   "source": [
    "### Perform and plot reconstructions"
   ]
  },
  {
   "cell_type": "code",
   "execution_count": 7,
   "metadata": {
    "Collapsed": "false"
   },
   "outputs": [],
   "source": [
    "def PlotReconstructions():\n",
    "    \"\"\" Plot Bilby reconstructed waveforms for a variety of Bilby runs\"\"\"\n",
    "    \n",
    "    base_dir = '/home/maria.okounkova/BeyondGRAnalysis/BilbyPE/'\n",
    "    SNR = '75'\n",
    "    \n",
    "    ## Grab the mass from the truth dictionary\n",
    "    p_gr = base_dir + 'AllSearch_dCS_0p0_' + SNR + '/'\n",
    "    TruthDict = GetInjectedParameters(p_gr)\n",
    "    mass = TruthDict['mass']\n",
    "    \n",
    "    fig, axes = plt.subplots(2, figsize=(10,12), sharex = True)\n",
    "    \n",
    "    ells = ['0p0', '0p2', '0p25', '0p3','0p35', '0p37']\n",
    "    cs = sns.color_palette('mako', n_colors=len(ells) + 1)\n",
    "    \n",
    "    for ell, color in zip(ells, cs):\n",
    "\n",
    "        p = base_dir + 'AllSearch_dCS_' + ell + '_' + SNR + '/'\n",
    "        ## Injected data\n",
    "        timeH, strainH, timeL, strainL = GetFramesData(p)\n",
    "        ## GR attempt at reconstructing data\n",
    "        timeH_bil, strainH_bil, timeL_bil, strainL_bil, bilby_dict = BilbyReconstruction(p)\n",
    "\n",
    "        axes[0].plot(timeH, strainH, lw = 1.5, color = color, alpha = 0.7, label = r'$%.1f$' % EllinKm(ell, mass))\n",
    "        axes[1].plot(timeH_bil, strainH_bil, lw = 1.5, color = color, alpha = 0.7, label = r'$%.1f$' % EllinKm(ell, mass))\n",
    "    \n",
    "    axes[0].set_ylabel(r'Injected $h(t)$ in H1')\n",
    "    axes[1].set_ylabel(r'Reconstructed $h(t)$ in H1')   \n",
    "    leg0 = axes[0].legend(fontsize=18, loc = 'upper left', frameon=False, ncol = 3, title = r'$\\ell$ [km]')\n",
    "    plt.setp(leg0.get_title(),fontsize=20)\n",
    "    leg1 = axes[1].legend(fontsize=18, loc = 'upper left', frameon=False, ncol = 3, title = r'$\\ell$ [km]')\n",
    "    plt.setp(leg1.get_title(),fontsize=20)\n",
    "    \n",
    "    \n",
    "    for ax in axes:\n",
    "        ax.grid()\n",
    "        ax.tick_params(axis='x', which='both', bottom=True, top=False) \n",
    "        ax.set_ylim(-1.62e-21, 1.62e-21)\n",
    "        ax.set_xlim(-0.05 + TruthDict['t_gps'], 0.02 + TruthDict['t_gps'])\n",
    "\n",
    "    plt.xlabel('Time [sec]')\n",
    "    plt.tight_layout()\n",
    "    plt.savefig('BilbyReconstructionsTogether.pdf')\n",
    "    plt.show()\n",
    "\n",
    "    \n",
    "#PlotReconstructions()"
   ]
  },
  {
   "cell_type": "markdown",
   "metadata": {
    "tags": []
   },
   "source": [
    "### Plot reconstructions with multiple panels"
   ]
  },
  {
   "cell_type": "code",
   "execution_count": 8,
   "metadata": {},
   "outputs": [],
   "source": [
    "def PlotReconstructionsPanels():\n",
    "    \"\"\" Plot Bilby reconstructed waveforms for a variety of Bilby runs\"\"\"\n",
    "    \n",
    "    base_dir = '/home/maria.okounkova/BeyondGRAnalysis/BilbyPE/'\n",
    "    SNR = '75'\n",
    "    \n",
    "    ## Grab the mass from the truth dictionary\n",
    "    p_gr = base_dir + 'AllSearch_dCS_0p0_' + SNR + '/'\n",
    "    TruthDict = GetInjectedParameters(p_gr)\n",
    "    mass = TruthDict['mass']\n",
    "    \n",
    "    ells = ['0p0', '0p25', '0p35', '0p37']\n",
    "    \n",
    "    cs = ['black'] + sns.color_palette('magma', n_colors=len(ells))\n",
    "    \n",
    "    fig, axes = plt.subplots(len(ells), figsize=(10,18), sharex = True, sharey = True)\n",
    "    \n",
    "    for ell, color, ax in zip(ells, cs, axes):\n",
    "\n",
    "        p = base_dir + 'AllSearch_dCS_' + ell + '_' + SNR + '/'\n",
    "\n",
    "        timeH, strainH, timeL, strainL = GetFramesData(p)\n",
    "        timeH_bil, strainH_bil, timeL_bil, strainL_bil, bilby_dict = BilbyReconstruction(p)\n",
    "\n",
    "        ax.plot(timeH, strainH, lw = 1.0, color = color, ls = '--', label = '$\\ell = %.1f$ km, Injected' % EllinKm(ell, mass))\n",
    "        ax.plot(timeH_bil, strainH_bil, lw = 3.0, color = color, alpha = 0.4, label = 'GR Reconstruction')\n",
    "        \n",
    "        ax.legend(fontsize=18, loc = 'upper left', frameon=False)\n",
    "        ax.set_ylabel(r'$h(t)$ in Hanford')\n",
    "        ax.tick_params(axis='x', which='both', bottom=True, top=False) \n",
    "        ax.set_ylim(-1.62e-21, 1.62e-21)\n",
    "        ax.grid()\n",
    "        \n",
    "    plt.xlim(-0.075 + TruthDict['t_gps'], 0.02 + TruthDict['t_gps'])\n",
    "    plt.xlabel('Time [sec]')\n",
    "    plt.tight_layout()\n",
    "    plt.savefig('BilbyReconstructions.pdf')\n",
    "    plt.show()\n",
    "\n",
    "    \n",
    "#PlotReconstructionsPanels()"
   ]
  },
  {
   "cell_type": "markdown",
   "metadata": {
    "tags": []
   },
   "source": [
    "### Plot overlaps as a function of $\\ell$"
   ]
  },
  {
   "cell_type": "code",
   "execution_count": 21,
   "metadata": {},
   "outputs": [
    {
     "name": "stdout",
     "output_type": "stream",
     "text": [
      "25\n",
      "0p0\n",
      "Bilby result phi: 5.900327934847019 Bilby result pol: 0.3959233052945329 f_ref: 38.670705197998615\n",
      "0p25\n",
      "Bilby result phi: 0.21667907666414893 Bilby result pol: 3.933704023387698 f_ref: 37.227321042903924\n",
      "0p3\n",
      "Bilby result phi: 2.3907283081730184 Bilby result pol: 3.0586536028056073 f_ref: 35.6388722964493\n",
      "0p35\n",
      "Bilby result phi: 2.6230159945541467 Bilby result pol: 6.280489984274522 f_ref: 38.01234373104159\n",
      "0p37\n",
      "Bilby result phi: 4.526168284550791 Bilby result pol: 1.6722643090061473 f_ref: 38.700303782298505\n"
     ]
    },
    {
     "name": "stderr",
     "output_type": "stream",
     "text": [
      "/home/maria.okounkova/.local/lib/python3.6/site-packages/gwsurrogate/surrogate.py:1512: UserWarning: Spin magnitude of BhA=0.9203 is outside training range: chi<=0.8010\n",
      "  'training range: chi<=%.4f'%(chiAmag, chiMax))\n",
      "/home/maria.okounkova/.local/lib/python3.6/site-packages/gwsurrogate/surrogate.py:1515: UserWarning: Spin magnitude of BhB=0.9882 is outside training range: chi<=0.8010\n",
      "  'training range: chi<=%.4f'%(chiBmag, chiMax))\n"
     ]
    },
    {
     "name": "stdout",
     "output_type": "stream",
     "text": [
      "75\n",
      "0p0\n",
      "Bilby result phi: 5.329847944568643 Bilby result pol: 3.1372897950029084 f_ref: 36.535948965187366\n",
      "0p25\n",
      "Bilby result phi: 3.6619237607265562 Bilby result pol: 1.530622664605847 f_ref: 36.71858173523942\n",
      "0p3\n",
      "Bilby result phi: 3.1305214910408656 Bilby result pol: 4.216673119662747 f_ref: 37.854475855987296\n",
      "0p35\n",
      "Bilby result phi: 4.869577734879751 Bilby result pol: 2.338727756386806 f_ref: 37.18778999383032\n"
     ]
    },
    {
     "name": "stderr",
     "output_type": "stream",
     "text": [
      "/home/maria.okounkova/.local/lib/python3.6/site-packages/gwsurrogate/surrogate.py:1512: UserWarning: Spin magnitude of BhA=0.9900 is outside training range: chi<=0.8010\n",
      "  'training range: chi<=%.4f'%(chiAmag, chiMax))\n",
      "/home/maria.okounkova/.local/lib/python3.6/site-packages/gwsurrogate/surrogate.py:1515: UserWarning: Spin magnitude of BhB=0.9294 is outside training range: chi<=0.8010\n",
      "  'training range: chi<=%.4f'%(chiBmag, chiMax))\n"
     ]
    },
    {
     "name": "stdout",
     "output_type": "stream",
     "text": [
      "0p37\n",
      "Bilby result phi: 4.706645134508958 Bilby result pol: 5.305311459720028 f_ref: 37.31979952171917\n"
     ]
    },
    {
     "name": "stderr",
     "output_type": "stream",
     "text": [
      "/home/maria.okounkova/.local/lib/python3.6/site-packages/gwsurrogate/surrogate.py:1512: UserWarning: Spin magnitude of BhA=0.9874 is outside training range: chi<=0.8010\n",
      "  'training range: chi<=%.4f'%(chiAmag, chiMax))\n",
      "/home/maria.okounkova/.local/lib/python3.6/site-packages/gwsurrogate/surrogate.py:1515: UserWarning: Spin magnitude of BhB=0.9649 is outside training range: chi<=0.8010\n",
      "  'training range: chi<=%.4f'%(chiBmag, chiMax))\n"
     ]
    },
    {
     "name": "stdout",
     "output_type": "stream",
     "text": [
      "125\n",
      "0p0\n",
      "Bilby result phi: 2.30065756685526 Bilby result pol: 0.15208741306575665 f_ref: 36.21292971561757\n",
      "0p25\n",
      "Bilby result phi: 1.3936117309770693 Bilby result pol: 5.476717777510038 f_ref: 38.26517711160914\n",
      "0p3\n",
      "Bilby result phi: 2.3731492855417446 Bilby result pol: 0.1105474562898468 f_ref: 35.63457346681249\n",
      "0p35\n",
      "Bilby result phi: 4.572222336869633 Bilby result pol: 5.321445415743628 f_ref: 38.25933258258709\n"
     ]
    },
    {
     "name": "stderr",
     "output_type": "stream",
     "text": [
      "/home/maria.okounkova/.local/lib/python3.6/site-packages/gwsurrogate/surrogate.py:1512: UserWarning: Spin magnitude of BhA=0.9770 is outside training range: chi<=0.8010\n",
      "  'training range: chi<=%.4f'%(chiAmag, chiMax))\n",
      "/home/maria.okounkova/.local/lib/python3.6/site-packages/gwsurrogate/surrogate.py:1515: UserWarning: Spin magnitude of BhB=0.8478 is outside training range: chi<=0.8010\n",
      "  'training range: chi<=%.4f'%(chiBmag, chiMax))\n"
     ]
    },
    {
     "name": "stdout",
     "output_type": "stream",
     "text": [
      "0p37\n",
      "Bilby result phi: 4.62422189988303 Bilby result pol: 2.0000189530544974 f_ref: 38.304403581383475\n"
     ]
    },
    {
     "name": "stderr",
     "output_type": "stream",
     "text": [
      "/home/maria.okounkova/.local/lib/python3.6/site-packages/gwsurrogate/surrogate.py:1512: UserWarning: Spin magnitude of BhA=0.9854 is outside training range: chi<=0.8010\n",
      "  'training range: chi<=%.4f'%(chiAmag, chiMax))\n",
      "/home/maria.okounkova/.local/lib/python3.6/site-packages/gwsurrogate/surrogate.py:1515: UserWarning: Spin magnitude of BhB=0.9843 is outside training range: chi<=0.8010\n",
      "  'training range: chi<=%.4f'%(chiBmag, chiMax))\n"
     ]
    },
    {
     "data": {
      "image/png": "[encoded data removed]",
      "text/plain": [
       "<Figure size 720x360 with 1 Axes>"
      ]
     },
     "metadata": {
      "needs_background": "light"
     },
     "output_type": "display_data"
    }
   ],
   "source": [
    "def PlotReconstructionsOverlaps():\n",
    "    \"\"\" Compute the Bilby overlaps and plot as a function of ell \"\"\"\n",
    "    \n",
    "    base_dir = '/home/maria.okounkova/BeyondGRAnalysis/BilbyPE/'\n",
    "\n",
    "    p_gr = base_dir + 'AllSearch_dCS_0p0_125/'\n",
    "    TruthDict = GetInjectedParameters(p_gr)\n",
    "    mass = TruthDict['mass']\n",
    "\n",
    "    ells = [\"0p0\", \"0p25\", \"0p3\", \"0p35\", \"0p37\"]\n",
    "    ell_vals = [EllinKm(ell, mass) for ell in ells]\n",
    "\n",
    "    SNRs = ['25', '75', '125']\n",
    "    snr_overlaps = []\n",
    "\n",
    "    for i, SNR in enumerate(SNRs):\n",
    "        ## Iterate over SNR values\n",
    "\n",
    "        print(SNR)\n",
    "        overlaps = []\n",
    "\n",
    "        for ell in ells:\n",
    "            ## Iterate over ell values\n",
    "            print(ell)\n",
    "\n",
    "            p = base_dir + 'AllSearch_dCS_' + ell + '_' + SNR + '/'\n",
    "\n",
    "            timeH, strainH, timeL, strainL = GetFramesData(p)\n",
    "            timeH_bil, strainH_bil, timeL_bil, strainL_bil, bilby_dict = BilbyReconstruction(p)\n",
    "\n",
    "            #overlap = ComputeMultiDetectorOverlap(timeH_bil, strainH_bil, timeL_bil, strainL_bil, \\\n",
    "            #                        timeH, strainH, timeL, strainL)\n",
    "            overlap = ComputeOverlap(timeH_bil, strainH_bil, timeH, strainH)\n",
    "            overlaps.append(overlap)\n",
    "\n",
    "        snr_overlaps.append(overlaps)\n",
    "        \n",
    "    \n",
    "    plt.figure(figsize=(10,5))\n",
    "    colors = ['pink', 'orange', 'red']\n",
    "    deltas = 1.0 - np.array(snr_overlaps)\n",
    "    \n",
    "    for i, SNR in enumerate(SNRs):\n",
    "        plt.plot(np.array(ell_vals)**4, deltas[i], '--o', label = SNR, markersize = 10, color = colors[i])\n",
    "\n",
    "    plt.grid()\n",
    "    leg = plt.legend(title = 'Injected SNR', frameon = False, loc = 'lower right')\n",
    "    plt.setp(leg.get_title(),fontsize=20)\n",
    "    plt.ylabel(r'$\\Delta_\\mathrm{GR, Injected}$', fontsize=24)\n",
    "    plt.xlabel(r'($\\ell$ [km])${}^4$', fontsize=24)\n",
    "    plt.tight_layout()\n",
    "    plt.yscale('log')\n",
    "    plt.savefig('BilbyOverlap.pdf')\n",
    "    plt.show() \n",
    "\n",
    "    \n",
    "#PlotReconstructionsOverlaps()"
   ]
  },
  {
   "cell_type": "markdown",
   "metadata": {
    "tags": []
   },
   "source": [
    "### Plot multiple waveform reconstructions"
   ]
  },
  {
   "cell_type": "code",
   "execution_count": null,
   "metadata": {},
   "outputs": [],
   "source": [
    "def PlotMultipleReconstructions():\n",
    "\n",
    "    plt.figure(figsize=(16,8))\n",
    "    \n",
    "    base_dir = '/home/maria.okounkova/BeyondGRAnalysis/BilbyPE/'\n",
    "    \n",
    "    ## Injected parameters\n",
    "    p = base_dir + 'NoTilt_dCS_0p37_75'\n",
    "    truth_dict = GetInjectedParameters(p)\n",
    "    print(truth_dict)\n",
    "    timeH, strainH, timeL, strainL = GetFramesData(p)\n",
    "    \n",
    "    ## Plot multiple reconstructed waveforms\n",
    "    bilby_results = GetMultipleBilbyParameters(p, 50)\n",
    "\n",
    "    for bilby_result in bilby_results:\n",
    "        \n",
    "        bilby_dict = GetBilbyDict(bilby_result)\n",
    "        bilby_dict['phi'] = bilby_dict['phi']\n",
    "        time_bil, h_plus_bil, h_cross_bil, amp_bil = EvaluateSurrogate(sur, bilby_dict) \n",
    "        timeH_bil, strainH_bil, timeL_bil, strainL_bil = ProjectGivenGeocenterTime(time_bil, h_plus_bil, h_cross_bil, bilby_dict)\n",
    "\n",
    "        plt.plot(timeH_bil, strainH_bil, lw = 0.5, color = 'gray', alpha = 0.2)\n",
    "\n",
    "    ## Plot GR waveform   \n",
    "    plt.plot(timeH, strainH, lw = 2.0, color = '#1ae863', label = 'Injection', ls = '--')\n",
    "    \n",
    "    plt.xlim(-0.15 + truth_dict['t_gps'], 0.033 + truth_dict['t_gps'])\n",
    "    plt.xlabel('Time [sec]')\n",
    "    plt.ylabel(r'$h(t)$ in Hanford')\n",
    "    legend = plt.legend(fontsize=18, loc = 'lower left', frameon=True)\n",
    "    plt.grid()\n",
    "    plt.tight_layout()\n",
    "    plt.savefig('BilbyMultipleReconstructions.pdf')\n",
    "    plt.show()\n",
    "\n",
    "#PlotMultipleReconstructions()"
   ]
  },
  {
   "cell_type": "markdown",
   "metadata": {
    "tags": []
   },
   "source": [
    "### Evaluate GR Surrogate with various spins\n",
    "\n",
    "In an effort to understand why the Bilby results prefer higher spins for the beyond-GR case, see what happens when spins are increased for the surrogate at fixed mass ratio, chirp mass, tilts, SNR, etc"
   ]
  },
  {
   "cell_type": "code",
   "execution_count": null,
   "metadata": {},
   "outputs": [],
   "source": [
    "def SurrogateVariousSpins():\n",
    "    \"\"\" Plot surrogate waveforms for different values of the spins a_1 and a_2 while keeping the mass ratio constant\n",
    "        and ensuring that chi_eff ~ 0\"\"\"\n",
    "    \n",
    "    \n",
    "    ## Plot for the actual bilby spin values as they change\n",
    "    ## Plot the actual Bilby reconstructions\n",
    "    \n",
    "    desired_snr = 75\n",
    "    \n",
    "    plt.figure(figsize=(14, 8))\n",
    "    \n",
    "    a_1s = [0.0, 0.25, 0.5, 0.75]\n",
    "    cs = ['black'] + sns.color_palette('magma', n_colors=len(a_1s))\n",
    "    \n",
    "    for a_1, color in zip(a_1s, cs): \n",
    "    \n",
    "        a_2 = a_1 / 1.2212532137858916 ## mass ratio\n",
    "        \n",
    "        params_dict = {'dt' : 1/2048, 't_gps' : 1126259462.0, 'peak_time_in_segment' : 8.0, 'segment_length' : 16.0, \\\n",
    "               'dist_mpc' : 400.0, 'mass' : 68.0, 'q' : 1.2212532137858916, \\\n",
    "               'a_1' : [0, 0, a_1], 'a_2' : [0,0, -a_2], \\\n",
    "               'f_low' : 25, 'theta' : pi, 'phi' : 0, \\\n",
    "               'ra' : 1.952318922, 'dec' : -1.26967171703, 'pol' : 0.824043851821, 'geocent_time': 1126259461.9841547, \\\n",
    "                'm_1': 37.38665093292035, 'm_2': 30.61334906707965, 'mass_ratio': 0.8188310079446952, 'chirp_mass': 29.422167356249002}\n",
    "        \n",
    "        \n",
    "        chi_eff = EffectiveSpin(params_dict)\n",
    "        print(\"Effective spin: \", chi_eff)\n",
    "    \n",
    "        time, h_plus, h_cross, amp = EvaluateSurrogate(sur, params_dict)\n",
    "        \n",
    "        ## Now compute the SNR in the detectors and scale accordingly\n",
    "        current_dist = params_dict['dist_mpc']\n",
    "        timeH, strainH, timeL, strainL = ProjectGivenGeocenterTime(time, h_plus, h_cross, params_dict)\n",
    "        strainH, strainL, params_dict = TargetSNR(timeH, strainH, timeL, strainL, params_dict, desired_snr)\n",
    "        updated_dist = params_dict['dist_mpc']\n",
    "        #h_plus = h_plus * current_dist / updated_dist\n",
    "        #h_cross = h_cross * current_dist / updated_dist\n",
    "\n",
    "        plt.plot(timeH, strainH, label = '$a_1 = %.3f, a_2 = %.3f$' % (a_1, a_2), lw = 1.0, color = color)\n",
    "        \n",
    "\n",
    "    plt.xlim(-0.15 +  params_dict['t_gps'], 0.02 +  params_dict['t_gps'])\n",
    "    plt.xlabel('Time [sec]')\n",
    "    plt.ylabel(r'$h(t)$ in Hanford')\n",
    "    legend = plt.legend(fontsize=24, loc = 'lower left', ncol=2, frameon=False)\n",
    "    plt.grid()\n",
    "    plt.show()\n",
    "    \n",
    "#SurrogateVariousSpins()"
   ]
  },
  {
   "cell_type": "code",
   "execution_count": 19,
   "metadata": {},
   "outputs": [],
   "source": [
    "p = '/home/maria.okounkova/BeyondGRAnalysis/BilbyPE/PHENOM_dCS_0p0_75/'\n",
    "file = p + 'LI_reconstruct/L1_summary_waveforms_samples.dat'\n",
    "time, data = np.loadtxt(file, comments=\"#\",usecols=([0,6]),unpack=True)\n",
    "\n",
    "    \n",
    "strain_inj = TimeSeries.read(source = p + '/Frames/L1.gwf', channel=\"L1:LDAS_STRAIN\")\n",
    "time_inj = np.array(strain_inj.times)"
   ]
  },
  {
   "cell_type": "code",
   "execution_count": 20,
   "metadata": {},
   "outputs": [
    {
     "data": {
      "image/png": "[encoded data removed]",
      "text/plain": [
       "<Figure size 864x432 with 1 Axes>"
      ]
     },
     "metadata": {
      "needs_background": "light"
     },
     "output_type": "display_data"
    }
   ],
   "source": [
    "plt.figure(figsize = (12, 6))\n",
    "plt.plot(time, data, lw = 1.5)\n",
    "plt.plot(time_inj, strain_inj, '-', lw=1.5)\n",
    "t_gps = 1126259462.0\n",
    "plt.xlim(t_gps - 0.1, t_gps + 0.01)\n",
    "plt.show()"
   ]
  },
  {
   "cell_type": "code",
   "execution_count": null,
   "metadata": {},
   "outputs": [],
   "source": []
  }
 ],
 "metadata": {
  "kernelspec": {
   "display_name": "Python 3",
   "language": "python",
   "name": "python3"
  },
  "language_info": {
   "codemirror_mode": {
    "name": "ipython",
    "version": 3
   },
   "file_extension": ".py",
   "mimetype": "text/x-python",
   "name": "python",
   "nbconvert_exporter": "python",
   "pygments_lexer": "ipython3",
   "version": "3.6.8"
  }
 },
 "nbformat": 4,
 "nbformat_minor": 4
}
