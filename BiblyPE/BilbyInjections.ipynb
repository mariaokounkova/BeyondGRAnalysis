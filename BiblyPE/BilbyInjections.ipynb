{
 "cells": [
  {
   "cell_type": "code",
   "execution_count": null,
   "metadata": {
    "Collapsed": "false"
   },
   "outputs": [],
   "source": [
    "#!/usr/bin/env python\n",
    "\"\"\"\n",
    "Taking Bilby example code from \n",
    "\n",
    "examples/gw_examples/injection_examples/fast_tutorial.py\n",
    "\n",
    "and\n",
    "\n",
    "examples/gw_examples/injection_examples/create_your_own_time_domain_source_model.py\n",
    "\n",
    "and modifying it to use the surrogate model to compute likelihoods and to \n",
    "use a custom time domain waveform generator for the injections \n",
    "(in this case reading in the waveforms from an .h5 file)\n",
    "\n",
    "This example estimates the masses using a uniform prior in both component masses\n",
    "and distance using a uniform in comoving volume prior on luminosity distance\n",
    "between luminosity distances of 100Mpc and 5Gpc, the cosmology is Planck15.\n",
    "\n",
    "\"\"\""
   ]
  },
  {
   "cell_type": "code",
   "execution_count": null,
   "metadata": {
    "Collapsed": "false"
   },
   "outputs": [],
   "source": [
    "import numpy as np\n",
    "import bilby"
   ]
  },
  {
   "cell_type": "code",
   "execution_count": null,
   "metadata": {
    "Collapsed": "false"
   },
   "outputs": [],
   "source": [
    "# Set the duration and sampling frequency of the data segment that we're\n",
    "# going to inject the signal into\n",
    "duration = 4.\n",
    "sampling_frequency = 2048.\n",
    "\n",
    "# Specify the output directory and the name of the simulation.\n",
    "outdir = 'outdir'\n",
    "label = 'fast_tutorial'\n",
    "bilby.core.utils.setup_logger(outdir=outdir, label=label)\n",
    "\n",
    "# Set up a random seed for result reproducibility.  This is optional!\n",
    "np.random.seed(88170235)"
   ]
  },
  {
   "cell_type": "code",
   "execution_count": null,
   "metadata": {
    "Collapsed": "false"
   },
   "outputs": [
    {
     "name": "stderr",
     "output_type": "stream",
     "text": [
      "06:04 bilby INFO    : Waveform generator initiated with\n",
      "  frequency_domain_source_model: bilby.gw.source.lal_binary_black_hole\n",
      "  time_domain_source_model: None\n",
      "  parameter_conversion: bilby.gw.conversion.convert_to_lal_binary_black_hole_parameters\n",
      "/home/maria.okounkova/.local/lib/python3.6/site-packages/bilby/gw/detector/psd.py:362: RuntimeWarning: invalid value encountered in multiply\n",
      "  frequency_domain_strain = self.__power_spectral_density_interpolated(frequencies) ** 0.5 * white_noise\n",
      "06:04 bilby INFO    : Injected signal in H1:\n",
      "06:04 bilby INFO    :   optimal SNR = 11.78\n",
      "06:04 bilby INFO    :   matched filter SNR = 12.82-2.04j\n",
      "06:04 bilby INFO    :   mass_1 = 36.0\n",
      "06:04 bilby INFO    :   mass_2 = 29.0\n",
      "06:04 bilby INFO    :   a_1 = 0.4\n",
      "06:04 bilby INFO    :   a_2 = 0.3\n",
      "06:04 bilby INFO    :   tilt_1 = 0.5\n",
      "06:04 bilby INFO    :   tilt_2 = 1.0\n",
      "06:04 bilby INFO    :   phi_12 = 1.7\n",
      "06:04 bilby INFO    :   phi_jl = 0.3\n",
      "06:04 bilby INFO    :   luminosity_distance = 2000.0\n",
      "06:04 bilby INFO    :   theta_jn = 0.4\n",
      "06:04 bilby INFO    :   psi = 2.659\n",
      "06:04 bilby INFO    :   phase = 1.3\n",
      "06:04 bilby INFO    :   geocent_time = 1126259642.413\n",
      "06:04 bilby INFO    :   ra = 1.375\n",
      "06:04 bilby INFO    :   dec = -1.2108\n",
      "06:04 bilby INFO    : Injected signal in L1:\n",
      "06:04 bilby INFO    :   optimal SNR = 9.53\n",
      "06:04 bilby INFO    :   matched filter SNR = 10.03+0.04j\n",
      "06:04 bilby INFO    :   mass_1 = 36.0\n",
      "06:04 bilby INFO    :   mass_2 = 29.0\n",
      "06:04 bilby INFO    :   a_1 = 0.4\n",
      "06:04 bilby INFO    :   a_2 = 0.3\n",
      "06:04 bilby INFO    :   tilt_1 = 0.5\n",
      "06:04 bilby INFO    :   tilt_2 = 1.0\n",
      "06:04 bilby INFO    :   phi_12 = 1.7\n",
      "06:04 bilby INFO    :   phi_jl = 0.3\n",
      "06:04 bilby INFO    :   luminosity_distance = 2000.0\n",
      "06:04 bilby INFO    :   theta_jn = 0.4\n",
      "06:04 bilby INFO    :   psi = 2.659\n",
      "06:04 bilby INFO    :   phase = 1.3\n",
      "06:04 bilby INFO    :   geocent_time = 1126259642.413\n",
      "06:04 bilby INFO    :   ra = 1.375\n",
      "06:04 bilby INFO    :   dec = -1.2108\n",
      "06:04 bilby INFO    : No prior given, using default BBH priors in /home/maria.okounkova/.local/lib/python3.6/site-packages/bilby/gw/prior_files/precessing_spins_bbh.prior.\n",
      "06:04 bilby INFO    : Running for label 'fast_tutorial', output will be saved to 'outdir'\n",
      "06:04 bilby INFO    : Using lal version 6.22.0\n",
      "06:04 bilby INFO    : Using lal git version Branch: None;Tag: lalsuite-v6.70.0;Id: 1f45f4aeb9254841b06113fe05132d5196293a3a;;Builder: Unknown User <>;Repository status: CLEAN: All modifications committed\n",
      "06:04 bilby INFO    : Using lalsimulation version 2.0.0\n",
      "06:04 bilby INFO    : Using lalsimulation git version Branch: None;Tag: lalsuite-v6.70.0;Id: 1f45f4aeb9254841b06113fe05132d5196293a3a;;Builder: Unknown User <>;Repository status: CLEAN: All modifications committed\n",
      "06:04 bilby INFO    : Search parameters:\n",
      "06:04 bilby INFO    :   mass_ratio = Uniform(minimum=0.125, maximum=1, name='mass_ratio', latex_label='$q$', unit=None, boundary=None)\n",
      "06:04 bilby INFO    :   chirp_mass = Uniform(minimum=25, maximum=100, name='chirp_mass', latex_label='$\\\\mathcal{M}$', unit=None, boundary=None)\n",
      "06:04 bilby INFO    :   luminosity_distance = UniformSourceFrame(minimum=100.0, maximum=5000.0, cosmology=FlatLambdaCDM(name=\"Planck15\", H0=67.7 km / (Mpc s), Om0=0.307, Tcmb0=2.725 K, Neff=3.05, m_nu=[0.   0.   0.06] eV, Ob0=0.0486), name='luminosity_distance', latex_label='$d_L$', unit=Unit(\"Mpc\"), boundary=None)\n",
      "06:04 bilby INFO    :   theta_jn = Sine(minimum=0, maximum=3.141592653589793, name='theta_jn', latex_label='$\\\\theta_{JN}$', unit=None, boundary=None)\n",
      "06:04 bilby INFO    :   mass_1 = Constraint(minimum=5, maximum=100, name='mass_1', latex_label='$m_1$', unit=None)\n",
      "06:04 bilby INFO    :   mass_2 = Constraint(minimum=5, maximum=100, name='mass_2', latex_label='$m_2$', unit=None)\n",
      "06:04 bilby INFO    :   dec = -1.2108\n",
      "06:04 bilby INFO    :   ra = 1.375\n",
      "06:04 bilby INFO    :   psi = 2.659\n",
      "06:04 bilby INFO    :   phase = 1.3\n",
      "06:04 bilby INFO    :   a_1 = 0.4\n",
      "06:04 bilby INFO    :   a_2 = 0.3\n",
      "06:04 bilby INFO    :   tilt_1 = 0.5\n",
      "06:04 bilby INFO    :   tilt_2 = 1.0\n",
      "06:04 bilby INFO    :   phi_12 = 1.7\n",
      "06:04 bilby INFO    :   phi_jl = 0.3\n",
      "06:04 bilby INFO    :   geocent_time = 1126259642.413\n",
      "06:04 bilby INFO    : Single likelihood evaluation took 5.169e-03 s\n"
     ]
    },
    {
     "data": {
      "application/vnd.jupyter.widget-view+json": {
       "model_id": "7da74cbfaa2b444987df1ffe6e9f39d2",
       "version_major": 2,
       "version_minor": 0
      },
      "text/plain": [
       "HBox(children=(IntProgress(value=1, bar_style='info', max=1), HTML(value='')))"
      ]
     },
     "metadata": {},
     "output_type": "display_data"
    },
    {
     "name": "stderr",
     "output_type": "stream",
     "text": [
      "06:04 bilby INFO    : Using sampler Dynesty with kwargs {'bound': 'multi', 'sample': 'rwalk', 'verbose': True, 'periodic': None, 'reflective': None, 'check_point_delta_t': 600, 'nlive': 1000, 'first_update': None, 'walks': 100, 'npdim': None, 'rstate': None, 'queue_size': 1, 'pool': None, 'use_pool': None, 'live_points': None, 'logl_args': None, 'logl_kwargs': None, 'ptform_args': None, 'ptform_kwargs': None, 'enlarge': 1.5, 'bootstrap': None, 'vol_dec': 0.5, 'vol_check': 8.0, 'facc': 0.2, 'slices': 5, 'update_interval': 600, 'print_func': <bound method Dynesty._print_func of <bilby.core.sampler.dynesty.Dynesty object at 0x7f8613b243c8>>, 'dlogz': 0.1, 'maxiter': None, 'maxcall': None, 'logl_max': inf, 'add_live': True, 'print_progress': True, 'save_bounds': False, 'n_effective': None, 'maxmcmc': 5000, 'nact': 5}\n",
      "06:04 bilby INFO    : Checkpoint every check_point_delta_t = 600s\n",
      "06:04 bilby INFO    : Using dynesty version 1.1\n",
      "06:04 bilby INFO    : Using the bilby-implemented rwalk sample method with ACT estimated walks\n",
      "06:04 bilby INFO    : Resume file outdir/fast_tutorial_resume.pickle does not exist.\n",
      "06:04 bilby INFO    : Generating initial points from the prior\n",
      "06:06 bilby INFO    : Run interrupted by signal 2: checkpoint and exit on 130\n",
      "06:06 bilby INFO    : Written checkpoint file outdir/fast_tutorial_resume.pickle\n"
     ]
    }
   ],
   "source": [
    "# We are going to inject a binary black hole waveform.  We first establish a\n",
    "# dictionary of parameters that includes all of the different waveform\n",
    "# parameters, including masses of the two black holes (mass_1, mass_2),\n",
    "# spins of both black holes (a, tilt, phi), etc.\n",
    "injection_parameters = dict(\n",
    "    mass_1=36., mass_2=29., a_1=0.4, a_2=0.3, tilt_1=0.5, tilt_2=1.0,\n",
    "    phi_12=1.7, phi_jl=0.3, luminosity_distance=2000., theta_jn=0.4, psi=2.659,\n",
    "    phase=1.3, geocent_time=1126259642.413, ra=1.375, dec=-1.2108)\n",
    "\n",
    "# Fixed arguments passed into the source model\n",
    "waveform_arguments = dict(waveform_approximant='IMRPhenomPv2',\n",
    "                          reference_frequency=50., minimum_frequency=20.)\n",
    "\n",
    "# Create the waveform_generator using a LAL BinaryBlackHole source function\n",
    "waveform_generator = bilby.gw.WaveformGenerator(\n",
    "    duration=duration, sampling_frequency=sampling_frequency,\n",
    "    frequency_domain_source_model=bilby.gw.source.lal_binary_black_hole,\n",
    "    parameter_conversion=bilby.gw.conversion.convert_to_lal_binary_black_hole_parameters,\n",
    "    waveform_arguments=waveform_arguments)\n",
    "\n",
    "# Set up interferometers.  In this case we'll use two interferometers\n",
    "# (LIGO-Hanford (H1), LIGO-Livingston (L1). These default to their design\n",
    "# sensitivity\n",
    "ifos = bilby.gw.detector.InterferometerList(['H1', 'L1'])\n",
    "ifos.set_strain_data_from_power_spectral_densities(\n",
    "    sampling_frequency=sampling_frequency, duration=duration,\n",
    "    start_time=injection_parameters['geocent_time'] - 3)\n",
    "ifos.inject_signal(waveform_generator=waveform_generator,\n",
    "                   parameters=injection_parameters)\n",
    "\n",
    "# Set up a PriorDict, which inherits from dict.\n",
    "# By default we will sample all terms in the signal models.  However, this will\n",
    "# take a long time for the calculation, so for this example we will set almost\n",
    "# all of the priors to be equall to their injected values.  This implies the\n",
    "# prior is a delta function at the true, injected value.  In reality, the\n",
    "# sampler implementation is smart enough to not sample any parameter that has\n",
    "# a delta-function prior.\n",
    "# The above list does *not* include mass_1, mass_2, theta_jn and luminosity\n",
    "# distance, which means those are the parameters that will be included in the\n",
    "# sampler.  If we do nothing, then the default priors get used.\n",
    "priors = bilby.gw.prior.BBHPriorDict()\n",
    "priors['geocent_time'] = bilby.core.prior.Uniform(\n",
    "    minimum=injection_parameters['geocent_time'] - 1,\n",
    "    maximum=injection_parameters['geocent_time'] + 1,\n",
    "    name='geocent_time', latex_label='$t_c$', unit='$s$')\n",
    "for key in ['a_1', 'a_2', 'tilt_1', 'tilt_2', 'phi_12', 'phi_jl', 'psi', 'ra',\n",
    "            'dec', 'geocent_time', 'phase']:\n",
    "    priors[key] = injection_parameters[key]\n",
    "\n",
    "# Initialise the likelihood by passing in the interferometer data (ifos) and\n",
    "# the waveform generator\n",
    "likelihood = bilby.gw.GravitationalWaveTransient(\n",
    "    interferometers=ifos, waveform_generator=waveform_generator)\n",
    "\n",
    "# Run sampler.  In this case we're going to use the `dynesty` sampler\n",
    "result = bilby.run_sampler(\n",
    "    likelihood=likelihood, priors=priors, sampler='dynesty', npoints=1000,\n",
    "    injection_parameters=injection_parameters, outdir=outdir, label=label)\n",
    "\n",
    "# Make a corner plot.\n",
    "result.plot_corner()"
   ]
  },
  {
   "cell_type": "code",
   "execution_count": null,
   "metadata": {
    "Collapsed": "false"
   },
   "outputs": [],
   "source": []
  },
  {
   "cell_type": "code",
   "execution_count": null,
   "metadata": {
    "Collapsed": "false"
   },
   "outputs": [],
   "source": []
  }
 ],
 "metadata": {
  "kernelspec": {
   "display_name": "Python 3",
   "language": "python",
   "name": "python3"
  },
  "language_info": {
   "codemirror_mode": {
    "name": "ipython",
    "version": 3
   },
   "file_extension": ".py",
   "mimetype": "text/x-python",
   "name": "python",
   "nbconvert_exporter": "python",
   "pygments_lexer": "ipython3",
   "version": "3.6.8"
  }
 },
 "nbformat": 4,
 "nbformat_minor": 4
}
