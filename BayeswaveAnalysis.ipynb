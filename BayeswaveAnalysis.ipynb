{
 "cells": [
  {
   "cell_type": "markdown",
   "metadata": {
    "Collapsed": "false"
   },
   "source": [
    "# BayesWaveAnalysis.ipynb\n",
    "\n",
    "### Given Bayeswave parameter estimation results, plot the median waveforms and evidences\n",
    "\n",
    "Maria Okounkova (mokounkova@flatironinstitute.org)"
   ]
  },
  {
   "cell_type": "code",
   "execution_count": 1,
   "metadata": {
    "Collapsed": "false"
   },
   "outputs": [
    {
     "name": "stderr",
     "output_type": "stream",
     "text": [
      "/home/maria.okounkova/.local/lib/python3.6/site-packages/gwtools/rotations.py:63: UserWarning: Could not import GWFrames, needed for rotations module\n",
      "  _warnings.warn(\"Could not import GWFrames, needed for rotations module\")\n",
      "/home/maria.okounkova/.local/lib/python3.6/site-packages/gwtools/__init__.py:11: UserWarning: Could not import rotations, decompositions, or fitfuncs. These are not needed by GWSurrogate.\n",
      "  _warnings.warn(\"Could not import rotations, decompositions, or fitfuncs. These are not needed by GWSurrogate.\")\n"
     ]
    },
    {
     "name": "stdout",
     "output_type": "stream",
     "text": [
      "setting __package__ to gwsurrogate.new so relative imports work\n",
      "__name__ = gwsurrogate.new.spline_evaluation\n",
      "__package__= gwsurrogate.new\n",
      "setting __package__ to gwsurrogate.new so relative imports work\n",
      "setting __package__ to gwsurrogate.new so relative imports work\n"
     ]
    }
   ],
   "source": [
    "import numpy as np\n",
    "import matplotlib.pyplot as plt\n",
    "import matplotlib \n",
    "import sys\n",
    "import h5py\n",
    "\n",
    "from math import sqrt\n",
    "\n",
    "from ipynb.fs.full.Auxiliary import SubtractPeakTime, EllinKm, ComputeOverlap, ComputeMultiDetectorOverlap, \\\n",
    "                                                               ComputeOverlapFrequency, ComputeMultiDetectorOverlapFrequency\n",
    "\n",
    "#rc('text', usetex=True)\n",
    "# Plot parameters\n",
    "matplotlib.rcParams['mathtext.fontset'] = 'stix'\n",
    "matplotlib.rcParams['font.family'] = 'STIXGeneral'\n",
    "matplotlib.rcParams['axes.labelsize'] = 24\n",
    "matplotlib.rcParams['xtick.labelsize'] = 30\n",
    "matplotlib.rcParams['ytick.labelsize'] = 30\n",
    "matplotlib.rcParams['xtick.major.size'] = 20\n",
    "matplotlib.rcParams['ytick.major.size'] = 20\n",
    "matplotlib.rcParams['xtick.top'] = True\n",
    "matplotlib.rcParams['xtick.direction'] = 'in'\n",
    "matplotlib.rcParams['xtick.minor.visible'] = True\n",
    "matplotlib.rcParams['xtick.minor.size'] = 10\n",
    "matplotlib.rcParams['ytick.minor.size'] = 10\n",
    "matplotlib.rcParams['legend.fontsize'] = 18\n",
    "matplotlib.rcParams['legend.frameon'] = True\n",
    "matplotlib.rcParams['lines.linewidth'] = 3"
   ]
  },
  {
   "cell_type": "markdown",
   "metadata": {},
   "source": [
    "## Data reading methods"
   ]
  },
  {
   "cell_type": "code",
   "execution_count": 2,
   "metadata": {},
   "outputs": [],
   "source": [
    "def GetBWDir(p):\n",
    "    return p + '/BayesWave/Run/trigtime_1126259462.000000000_0.0_0.0_0/'\n",
    "\n",
    "def GetMedianData(p, det = \"H1\"):\n",
    "    \"\"\" Given a BW run directory and a detector, read in the median time domain waveform \n",
    "        and confidence intervals \"\"\"\n",
    "    \n",
    "    base_dir = GetBWDir(p)\n",
    " \n",
    "    ## Grab Livingston data\n",
    "    f = base_dir + \"post/signal/signal_median_time_domain_waveform_\" + det + \".dat\"\n",
    "    time, d1, d2, d3, d4, d5 = np.loadtxt(f, comments=\"#\",usecols=([0,1,2,3,4,5]),unpack=True)\n",
    "    \n",
    "    ## Subtract peak time\n",
    "    time = SubtractPeakTime(time, d1)\n",
    "    \n",
    "    return time, d1, d2, d3, d4, d5\n",
    "\n",
    "def GetInjectedData(p, det = \"H1\"):\n",
    "    \"\"\" Given a BW run directory and a detector, read in the injected time domain waveform \"\"\"\n",
    "    \n",
    "    base_dir = GetBWDir(p)\n",
    "    \n",
    "    f = base_dir + 'post/whitened_data_' + det + '.dat'\n",
    "    data = np.loadtxt(f)\n",
    "    \n",
    "    ## Compute the corresponding time array \n",
    "    s_rate = 2048\n",
    "    dt = 1.0/s_rate\n",
    "    time = np.array([dt * t for t in range(len(data))])\n",
    "    \n",
    "    time = SubtractPeakTime(time, data)\n",
    "    return time, data\n",
    "\n",
    "def GetBWFrequencyDomainWaveform(p, detector):\n",
    "    \"\"\" \n",
    "    Given a BW run directory and a detector, read in the recovered BW freq domain waveform\n",
    "    \n",
    "    Ignore the first column, it's wrong. The second line is the median with alternating real and imaginary waveforms\n",
    "    The first line is h_R at f=0, the second line is h_I at f=0 etc \"\"\"\n",
    "    \n",
    "    base_dir = GetBWDir(p)\n",
    " \n",
    "    f = base_dir + \"post/signal/signal_median_frequency_domain_waveform_\" \\\n",
    "                                                               + detector + \".dat\"\n",
    "    freq, d1, d2, d3, d4, d5 = np.loadtxt(f, comments=\"#\",usecols=([0,1,2,3,4,5]),unpack=True)\n",
    "    length = len(freq)\n",
    "    \n",
    "    ## Grab the true frequency range\n",
    "    freq = freq[0:int(length/2)]\n",
    "    \n",
    "    ## Now split up the median into real and imaginary parts\n",
    "    d1 = d1[0::2] + 1j*d1[1::2]\n",
    "    d2 = d2[0::2] + 1j*d2[1::2]\n",
    "    d3 = d3[0::2] + 1j*d3[1::2]\n",
    "    d4 = d4[0::2] + 1j*d4[1::2]\n",
    "    d5 = d5[0::2] + 1j*d5[1::2]\n",
    "    return freq, d1, d2, d3, d4, d5\n",
    "\n",
    "def GetInjectedFrequencyDomainWaveform(p, detector):\n",
    "    \"\"\" \n",
    "    Given a BW run directory and a detector, read in the injected BW freq domain waveform\n",
    "    \n",
    "    Get the injected frequency domain waveform from the same\n",
    "    place that megaplot.py gets it from. See lines 541 - 543 of\n",
    "    megaplot.py in plot_full_spectro() method \"\"\"\n",
    "\n",
    "    base_dir = GetBWDir(p)\n",
    " \n",
    "    f = base_dir + \"waveforms/fourier_domain_data_\" + detector + \".dat\"\n",
    "    freq, re, im = np.loadtxt(f, comments=\"#\",usecols=([0,1,2]),unpack=True)\n",
    "    return freq, re + 1j*im   "
   ]
  },
  {
   "cell_type": "markdown",
   "metadata": {
    "Collapsed": "true",
    "jp-MarkdownHeadingCollapsed": true,
    "tags": []
   },
   "source": [
    "## Plot time domain data"
   ]
  },
  {
   "cell_type": "code",
   "execution_count": 3,
   "metadata": {
    "Collapsed": "false"
   },
   "outputs": [],
   "source": [
    "def PlotMedianData(p, ax, color, det = \"H1\", label = \"\"):\n",
    "    \"\"\" Given a directory and an axis, plot BW median recovered \n",
    "        and injected data \"\"\"\n",
    "    \n",
    "    ## Plot the Bayeswave data\n",
    "    time, d1, d2, d3, d4, d5 = GetMedianData(p, det = det)\n",
    "    \n",
    "    ax.plot(time, d1, '-', lw = 1.0, alpha = 1.0, color=color, label=label)  \n",
    "    ax.fill_between(time, d2, d3, alpha = 0.66, color=color, edgecolor=None)\n",
    "    ax.fill_between(time, d4, d5, alpha = 0.33, color=color, edgecolor=None)\n",
    "    \n",
    "    time, data = GetInjectedData(p, det = det)\n",
    "    ax.plot(time, data, '--', color='black', lw = 1.0, alpha=1.0)\n",
    "    ax.set_xlim(-0.05, 0.02)\n",
    "    ax.legend(frameon=False, fontsize=14, loc='upper left')\n",
    "    \n",
    "    ax.tick_params(axis='x', which='both', bottom=True, top=False) \n",
    "     \n",
    "def BWPlots():\n",
    "    \"\"\" Create a plot of injected and recovered BW strains in the time domain \"\"\"\n",
    "    \n",
    "    det = \"L1\"\n",
    "    base_dir = \"/home/maria.okounkova/BeyondGRAnalysis/BilbyPE/\"\n",
    "    \n",
    "    fig, axarr = plt.subplots(2,3, figsize=(18, 8), sharex=False, sharey=False)\n",
    "\n",
    "    mass = 68.0 ## Injected mass\n",
    "    PlotMedianData(base_dir + \"dCS_0p0_25\", axarr[0][0], '#870036', det = det, \\\n",
    "                   label = r'SNR = 25, $\\ell$ = %.1f km' % EllinKm(\"0p0\", mass))\n",
    "    \n",
    "    PlotMedianData(base_dir + \"dCS_0p3_25\", axarr[0][1], '#822e00', det = det, \\\n",
    "                   label = r'SNR = 25, $\\ell$ = %.1f km' % EllinKm(\"0p3\", mass))\n",
    "    \n",
    "    PlotMedianData(base_dir + \"dCS_0p37_25\", axarr[0][2], '#00878a', det = det, \\\n",
    "                   label = r'SNR = 25, $\\ell$ = %.1f km' % EllinKm(\"0p37\", mass))\n",
    "\n",
    "    PlotMedianData(base_dir + \"dCS_0p0_75\", axarr[1][0], '#e0005a', det = det, \\\n",
    "                   label = r'SNR = 75, $\\ell$ = %.1f km' % EllinKm(\"0p0\", mass))\n",
    "    \n",
    "    PlotMedianData(base_dir + \"dCS_0p3_75\", axarr[1][1], '#d94d00', det = det, \\\n",
    "                   label = r'SNR = 75, $\\ell$ = %.1f km' % EllinKm(\"0p3\", mass))\n",
    "    \n",
    "    PlotMedianData(base_dir + \"dCS_0p37_75\", axarr[1][2], '#00c5c9', det = det, \\\n",
    "                   label = r'SNR = 75, $\\ell$ = %.1f km' % EllinKm(\"0p37\", mass))\n",
    "\n",
    "    for i in range(3):\n",
    "        axarr[1][i].set_xlabel('$t - t_\\mathrm{peak}$ (sec)')\n",
    "\n",
    "    fig.text(0.06, 0.5, 'Median reconstructed waveform in ' + det, ha='center', va='center', rotation='vertical', fontsize=24)\n",
    "    plt.savefig('Bayeswave.pdf')\n",
    "    plt.show()\n",
    "\n",
    "#BWPlots()"
   ]
  },
  {
   "cell_type": "markdown",
   "metadata": {},
   "source": [
    "## Compute and plot overlaps"
   ]
  },
  {
   "cell_type": "code",
   "execution_count": 12,
   "metadata": {},
   "outputs": [
    {
     "name": "stdout",
     "output_type": "stream",
     "text": [
      "0p0 25 0.9924246682848217\n",
      "0p0 75 0.999544559633711\n",
      "0p0 125 0.9997865102788303\n",
      "0p25 25 0.991764922774294\n",
      "0p25 75 0.9995718687164306\n",
      "0p25 125 0.9997764836576937\n",
      "0p3 25 0.99710401452785\n",
      "0p3 75 0.9994992784041561\n",
      "0p3 125 0.9996487733482106\n",
      "0p35 25 0.9922813545187668\n",
      "0p35 75 0.9993159437090166\n",
      "0p35 125 0.9996926889410589\n",
      "0p37 25 0.9938503022123162\n",
      "0p37 75 0.9992286069386316\n",
      "0p37 125 0.9997159881641609\n"
     ]
    },
    {
     "data": {
      "image/png": "[encoded data removed]",
      "text/plain": [
       "<Figure size 720x360 with 1 Axes>"
      ]
     },
     "metadata": {
      "needs_background": "light"
     },
     "output_type": "display_data"
    }
   ],
   "source": [
    "def BayesWaveOverlap(p):\n",
    "    \"\"\" Given a BW run directory p, read in the injected and recovered strains in the \n",
    "        time domain and compute an overlap \"\"\"\n",
    "    \n",
    "    ## Median data and bounds\n",
    "    time_bw_H1, strain_bw_H1, strain_bw_2, strain_bw_3, strain_bw_4, strain_bw_5 = GetMedianData(p, det = \"H1\")\n",
    "    time_bw_L1, strain_bw_L1, strain_bw_2, strain_bw_3, strain_bw_4, strain_bw_5 = GetMedianData(p, det = \"L1\")\n",
    "    \n",
    "    ## Injected data\n",
    "    time_inj_H1, strain_inj_H1 = GetInjectedData(p, det = \"H1\")\n",
    "    time_inj_L1, strain_inj_L1 = GetInjectedData(p, det = \"L1\")\n",
    "    \n",
    "    overlap = ComputeMultiDetectorOverlap(time_bw_H1, strain_bw_H1, time_bw_L1, strain_bw_L1, \\\n",
    "                                time_inj_H1, strain_inj_H1, time_inj_L1, strain_inj_L1)\n",
    "    #overlap = ComputeOverlap(time_bw_H1, strain_bw_H1, time_inj_H1, strain_inj_H1, psd = True)\n",
    "\n",
    "    return overlap\n",
    "\n",
    "def BayesWaveOverlapFrequency(p):\n",
    "    \n",
    "    \"\"\" Given a BW run directory p, read in the injected and recovered strains in the \n",
    "        frequency domain and compute an overlap \"\"\"\n",
    "    \n",
    "    ## Median data and bounds\n",
    "    freq_bw_H1, strain_bw_H1, strain_bw_2, strain_bw_3, strain_bw_4, strain_bw_5 = GetBWFrequencyDomainWaveform(p, \"H1\")\n",
    "    freq_bw_L1, strain_bw_L1, strain_bw_2, strain_bw_3, strain_bw_4, strain_bw_5 = GetBWFrequencyDomainWaveform(p, \"L1\")\n",
    "    \n",
    "    ## Injected data\n",
    "    freq_inj_H1, strain_inj_H1 = GetInjectedFrequencyDomainWaveform(p, \"H1\")\n",
    "    freq_inj_L1, strain_inj_L1 = GetInjectedFrequencyDomainWaveform(p, \"L1\")\n",
    "    delta_f = freq_inj_L1[1] - freq_inj_L1[0]\n",
    "\n",
    "    overlap = ComputeMultiDetectorOverlapFrequency(delta_f, strain_bw_H1, strain_bw_L1, strain_inj_H1, strain_inj_L1)\n",
    "    #overlap = ComputeOverlapFrequency(delta_f, strain_bw_H1, strain_inj_H1, psd = True)\n",
    "\n",
    "    return overlap\n",
    "     \n",
    "def PlotBayesWaveOverlap():\n",
    "    \"\"\" Create a plot of the overlap between BW injected and recovered waveforms as\n",
    "        a function of SNR. Similar to Fig. 4 in https://arxiv.org/abs/2003.09456 \"\"\"\n",
    "    \n",
    "    base_dir = \"/home/maria.okounkova/BeyondGRAnalysis/BilbyPE/\"\n",
    "    mass = 68\n",
    "\n",
    "    ells = [\"0p0\", \"0p25\", \"0p3\", \"0p35\", \"0p37\"]\n",
    "    colors = ['black', 'violet', 'pink', 'lightblue', 'orange']\n",
    "    snrs = [25, 75, 125]\n",
    "\n",
    "    plt.figure(figsize=(10, 5))\n",
    "\n",
    "    for ell, color in zip(ells, colors):\n",
    "\n",
    "        delta_arr = []\n",
    "\n",
    "        for snr in snrs:\n",
    "\n",
    "            p = base_dir + \"dCS_\" + ell + \"_\" + str(snr)\n",
    "            overlap = BayesWaveOverlapFrequency(p)\n",
    "            print(ell, snr, overlap)\n",
    "            delta = 1.0 - overlap\n",
    "            delta_arr.append(delta)\n",
    "\n",
    "        plt.plot(snrs, delta_arr, '--o', color = color, label = \"$\\ell$ = %.1f km\" % EllinKm(ell, mass), markersize = 10)\n",
    "\n",
    "    ## Add in 1/SNR^2 curve \n",
    "    SNRS = np.linspace(snrs[0], snrs[-1], 100)\n",
    "    snr_curve = SNRS**-2.0\n",
    "    plt.plot(SNRS, snr_curve*10, color='gray', label = r'$\\sim \\mathrm{SNR}^{-2}$', alpha = 0.3, lw = 10.0)\n",
    "\n",
    "    plt.legend()\n",
    "    plt.yscale('log')\n",
    "    plt.xscale('log')\n",
    "    plt.ylabel('$\\Delta_\\mathrm{B,I}$')\n",
    "    plt.xlabel('SNR')\n",
    "    plt.tight_layout()\n",
    "    plt.savefig('Deltas.pdf')\n",
    "    plt.show()\n",
    "    \n",
    "PlotBayesWaveOverlap()"
   ]
  },
  {
   "cell_type": "markdown",
   "metadata": {
    "Collapsed": "false"
   },
   "source": [
    "## Plot evidences"
   ]
  },
  {
   "cell_type": "code",
   "execution_count": 5,
   "metadata": {
    "Collapsed": "false"
   },
   "outputs": [],
   "source": [
    "def GetEvidenceTemps(base_dir):\n",
    "    \"\"\" evidence.dat file looks like \n",
    "        signal 857281.232665 0.0105919\n",
    "        glitch 0 0\n",
    "        noise 0 0\n",
    "        \n",
    "        Here we're going to return the (0,1)\n",
    "        entry, which in this case is 857281.232665\n",
    "    \"\"\"\n",
    "    f = '/home/maria.okounkova/BeyondGRAnalysis/BilbyPE/' + base_dir + \"/BayesWave/Run/trigtime_1126259462.000000000_0.0_0.0_0/signal_evidence.dat\"\n",
    "    temp, evidence = np.loadtxt(f, comments=\"#\",usecols=([0, 1]),unpack=True)\n",
    "    print(len(temp))\n",
    "    \n",
    "    return temp, evidence\n",
    "\n",
    "def GetEvidence(base_dir):\n",
    "    \"\"\" evidence.dat file looks like \n",
    "        signal 857281.232665 0.0105919\n",
    "        glitch 0 0\n",
    "        noise 0 0\n",
    "        \n",
    "        Here we're going to return the (0,1)\n",
    "        entry, which in this case is 857281.232665\n",
    "    \"\"\"\n",
    "    \n",
    "    f = '/home/maria.okounkova/BeyondGRAnalysis/BilbyPE/' + base_dir + \"/BayesWave/Run/trigtime_1126259462.000000000_0.0_0.0_0/evidence.dat\"\n",
    " \n",
    "    ev, variance = np.loadtxt(f, comments=\"#\",usecols=([1, 2]),unpack=True)\n",
    "    \n",
    "    ev = ev[0]\n",
    "    ev_err = sqrt(variance[0])\n",
    "    \n",
    "    return ev, ev_err\n"
   ]
  },
  {
   "cell_type": "code",
   "execution_count": 6,
   "metadata": {
    "Collapsed": "false"
   },
   "outputs": [],
   "source": [
    "# fig = plt.figure(figsize=(10, 6))\n",
    "    \n",
    "# ell = [\"0p0\", \"0p25\", \"0p3\", \"0p35\", \"0p37\"]\n",
    "# ell_km = np.array([EllinKm(l, 68) for l in ell])**4\n",
    "\n",
    "# for SNR in ['25','75','125']:\n",
    "    \n",
    "#     BW_Evidence = np.zeros(len(ell))\n",
    "#     BW_Evidence_err = np.zeros(len(ell))\n",
    "\n",
    "#     for i, l in enumerate(ell):\n",
    "#         base_dir = 'dCS_' + l + '_' + SNR\n",
    "#         ev, ev_err = GetEvidence(base_dir) \n",
    "#         BW_Evidence[i] = ev\n",
    "#         BW_Evidence_err[i] = ev_err\n",
    "    \n",
    "#     plt.errorbar(ell_km, BW_Evidence, yerr=BW_Evidence_err, linestyle='--', label=SNR, linewidth=3)\n",
    "#     plt.plot(ell_km, BW_Evidence, 'o', markersize=8)\n",
    "#     print(min(BW_Evidence), max(BW_Evidence))\n",
    "    \n",
    "# #plt.ylabel(r'Quantity relative to $\\ell = 0$ value', fontsize=30)\n",
    "# plt.xlabel(r'$\\ell [km]$', fontsize=30)\n",
    "# plt.ylabel('Bayeswave evidence')\n",
    "\n",
    "# plt.legend(fontsize=20)\n",
    "# plt.tight_layout()\n",
    "# plt.savefig('Evidence.pdf') \n",
    "# plt.show()\n",
    "\n"
   ]
  },
  {
   "cell_type": "code",
   "execution_count": 7,
   "metadata": {
    "Collapsed": "false"
   },
   "outputs": [],
   "source": [
    "# ## Plot the Bayeswave evidences\n",
    "# fig = plt.figure(figsize=(10, 6))\n",
    "    \n",
    "# #for SNR in ['25', '75', '125']:\n",
    "# SNR = '125'\n",
    "# for ell in [\"0p0\", \"0p25\", \"0p3\", \"0p35\", \"0p37\"]:\n",
    "    \n",
    "#     base_dir = 'dCS_' + ell + '_' + SNR\n",
    "#     temp, evidence = GetEvidenceTemps(base_dir) \n",
    "#     plt.plot(temp, evidence, '-o', label = ell)\n",
    "    \n",
    "# plt.xscale('log')\n",
    "# plt.ylabel(r'Evidence', fontsize=30)\n",
    "# plt.xlabel(r'$\\beta$', fontsize=30)\n",
    "# plt.legend(frameon=False, fontsize=20)\n",
    "# plt.tight_layout()\n",
    "# #plt.savefig('EvidenceTemps.pdf') \n",
    "# plt.show()"
   ]
  }
 ],
 "metadata": {
  "kernelspec": {
   "display_name": "Python 3",
   "language": "python",
   "name": "python3"
  },
  "language_info": {
   "codemirror_mode": {
    "name": "ipython",
    "version": 3
   },
   "file_extension": ".py",
   "mimetype": "text/x-python",
   "name": "python",
   "nbconvert_exporter": "python",
   "pygments_lexer": "ipython3",
   "version": "3.6.8"
  }
 },
 "nbformat": 4,
 "nbformat_minor": 4
}
