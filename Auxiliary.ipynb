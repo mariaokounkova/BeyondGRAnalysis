{
 "cells": [
  {
   "cell_type": "markdown",
   "id": "b5d9befc-66a1-4fc9-aba8-c5e963d7bf8f",
   "metadata": {},
   "source": [
    "# Auxiliary.ipynb\n",
    "\n",
    "#### Notebook containing computations that multiple data analysis notebooks need, such as waveform reading, surrogate evaluation, overlap computation, and SNR computation\n",
    "\n",
    "Maria Okounkova (mokounkova@flatironinstitute.org)"
   ]
  },
  {
   "cell_type": "code",
   "execution_count": 12,
   "id": "23ec9447-9f99-448d-b70f-00e5a3d6e4b2",
   "metadata": {},
   "outputs": [],
   "source": [
    "import matplotlib.pyplot as plt\n",
    "import h5py\n",
    "from astropy import constants as const\n",
    "import seaborn as sns\n",
    "import numpy as np\n",
    "from math import pi\n",
    "import matplotlib\n",
    "from scipy.interpolate import InterpolatedUnivariateSpline"
   ]
  },
  {
   "cell_type": "markdown",
   "id": "6680e424-d9b8-4232-8778-87fb429eca84",
   "metadata": {},
   "source": [
    "### General auxiliary methods - subtracting peak times, computing delta_t, ramp function, etc"
   ]
  },
  {
   "cell_type": "code",
   "execution_count": 8,
   "id": "f0e2057d-d099-4c07-abfa-94c009ff9e3c",
   "metadata": {},
   "outputs": [],
   "source": [
    "def GetPeakTime(time, data): \n",
    "    \"\"\" Grab the peak time of some data \"\"\"\n",
    "    t_peak = time[np.argmax(data)]\n",
    "    return t_peak\n",
    "\n",
    "def SubtractPeakTime(time, data): \n",
    "    \"\"\" Subtract the peak time of some data \"\"\"\n",
    "    t_peak = GetPeakTime(time, data)\n",
    "    return time - t_peak\n",
    "\n",
    "def dt_eval(time):\n",
    "    \"\"\" Return the time step of a given time array \"\"\"\n",
    "    return (time[1] - time[0])\n",
    "\n",
    "def df_eval(time):\n",
    "    \"\"\" Return the delta_f of a given time array \"\"\"\n",
    "    delta_t = dt_eval(time)\n",
    "    return 1.0/((time[-1] - time[0]) + delta_t)\n",
    "\n",
    "def Ramp(time, t_s, t_r):\n",
    "    \"\"\" Ramp function for tapering the waveform\"\"\"\n",
    "    if (time < t_s):\n",
    "        return 0.0\n",
    "    elif time > (t_s + t_r):\n",
    "        return 1.0\n",
    "    else:\n",
    "        t = (time - t_s)/t_r\n",
    "        return t**5*(126 + t*(-420 + t*(540 + t*(-315 + 70*t))))"
   ]
  },
  {
   "cell_type": "markdown",
   "id": "12659527-d2a0-47de-802c-95752ca17df9",
   "metadata": {},
   "source": [
    "### dCS auxiliary methods - converting dimensionless coupling constant to kms, etc"
   ]
  },
  {
   "cell_type": "code",
   "execution_count": 2,
   "id": "edee3463-620d-4a9c-9d92-df05fb7bb740",
   "metadata": {},
   "outputs": [],
   "source": [
    "def EllinKm(ell, mass):\n",
    "    \"\"\" Return the value of the dCS coupling constant in km \"\"\"\n",
    "    if 'p' in ell:\n",
    "        ## If we're using a string like 0p0 for 0.0, convert to a float\n",
    "        ell = float(ell.replace('p', '.'))\n",
    "    mass_msun = mass * const.M_sun\n",
    "    phys_ell_km = ell * mass_msun * const.G /(const.c**2) / 1000\n",
    "    return phys_ell_km.value"
   ]
  },
  {
   "cell_type": "markdown",
   "id": "8143fc0b-41f2-4a98-a67e-68c92f3140af",
   "metadata": {},
   "source": [
    "### NR waveform reading methods"
   ]
  },
  {
   "cell_type": "code",
   "execution_count": 9,
   "id": "4f18649f-cfa1-4ee0-b926-968609a3a53a",
   "metadata": {},
   "outputs": [],
   "source": [
    "def swsh(s, modes, theta, phi, psi=0):\n",
    "    \"\"\"\n",
    "    Return a value of a spin-weighted spherical harmonic of spin-weight s. \n",
    "    If passed a list of several modes, then a numpy array is returned with \n",
    "    SWSH values of each mode for the given point.\n",
    "    For one mode:       swsh(s,[(l,m)],theta,phi,psi=0)\n",
    "    For several modes:  swsh(s,[(l1,m1),(l2,m2),(l3,m3),...],theta,phi,psi=0)\n",
    "    \"\"\"\n",
    "    import spherical_functions as sf\n",
    "    import quaternion as qt\n",
    "    return sf.SWSH(qt.from_spherical_coords(theta, phi), s, modes) * np.exp(1j * s * psi)"
   ]
  },
  {
   "cell_type": "code",
   "execution_count": 10,
   "id": "2d2431fe-7faf-4e99-9706-414efdbaf158",
   "metadata": {},
   "outputs": [],
   "source": [
    "def ReadExtrapolatedModes(file, params_dict, interpolate = True):\n",
    "    \"\"\" \n",
    "        File is the file containing the extrapolated waveform that we want to read in.\n",
    "        For params_dict, \n",
    "        mass_msun is the total mass of the system in solar masses, and \n",
    "        dist_mpc is the distance to the system in kpc. \n",
    "        theta and phi are angles determining the inclination.\n",
    "        dt is the timestep (reciprocal of the sampling rate)\n",
    "        \n",
    "        If we want to interpolate the waveform to have even timesteps dt, then \n",
    "        set interpolate to True. Otherwise, we'll return the data without \n",
    "        performing the interpolation \n",
    "\n",
    "        \"\"\"\n",
    "\n",
    "    ## Convert distance to kpc and mass into solar masses\n",
    "    mass = params_dict['mass']\n",
    "    dist_mpc = params_dict['dist_mpc']\n",
    "    theta = params_dict['theta']\n",
    "    phi = params_dict['phi'] \n",
    "    dt = params_dict['dt']\n",
    "    dist_kpc = dist_mpc * 1000 * const.kpc\n",
    "    mass_msun = mass * const.M_sun\n",
    "    \n",
    "    ## Read in the data\n",
    "    f = h5py.File(file, 'r')\n",
    "    \n",
    "    ## grab the length of the waveform first\n",
    "    data = f['Extrapolated_N2.dir']['Y_l2_m2.dat']\n",
    "    time = np.array(data[:,0])\n",
    "    \n",
    "    h_plus = np.zeros(len(time))\n",
    "    h_cross = np.zeros(len(time))\n",
    "\n",
    "    modes = [(l,m) for l in range(2,5) for m in range(-l, l+1)]\n",
    "    for mode in modes: \n",
    "        \n",
    "        ## Grab the mode in question\n",
    "        l = mode[0]\n",
    "        m = mode[1]\n",
    "        \n",
    "        data = f['Extrapolated_N2.dir']['Y_l' + str(l) + '_m' + str(m) + '.dat']\n",
    "        real = np.array(data[:,1])\n",
    "        imag = np.array(data[:,2])\n",
    "        coeff = real + 1j * imag\n",
    "        \n",
    "        ## Multiply by the corresponding spin-weighted spherical harmonic\n",
    "        Ylm = swsh(-2, [(l,m)], theta=theta, phi=phi, psi=0) \n",
    "        h = coeff * Ylm \n",
    "        \n",
    "        ## Add to our h_plus and h_cross computations\n",
    "        h_plus = h_plus + np.real(h)\n",
    "        h_cross = h_cross - np.imag(h) \n",
    "        \n",
    "    ## Apply the astrophysical parameters\n",
    "    time = time*mass_msun*const.G/(const.c**3)\n",
    "    h_plus = h_plus*const.G*mass_msun/((const.c)**2*dist_kpc)\n",
    "    h_cross = h_cross*const.G*mass_msun/((const.c)**2*dist_kpc)\n",
    "\n",
    "    ## Taper the waveform and apply the ramp (need to start the waveform at zero for this)\n",
    "    time = time - time[0]\n",
    "    ramp = np.array([Ramp(t.value, 0.1, 0.3) for t in time])\n",
    "    \n",
    "    h_plus = h_plus * ramp\n",
    "    h_cross = h_cross * ramp\n",
    "    \n",
    "    ## Now subtract off the peak time (this makes the spine interpolation easier)\n",
    "    amp = np.sqrt(h_plus**2 + h_cross**2)\n",
    "    time = time - time[np.argmax(amp)]\n",
    "    \n",
    "    if not interpolate:\n",
    "        print(\"Not performing the interpolation\")\n",
    "        return time, h_plus, h_cross, np.sqrt(h_plus**2 + h_cross**2)\n",
    "    \n",
    "    ## Now build the interpolants \n",
    "    cs_plus = InterpolatedUnivariateSpline(time, h_plus)\n",
    "    cs_cross = InterpolatedUnivariateSpline(time, h_cross)\n",
    "\n",
    "    ## Now create an evenly-spaced time array and interpolate the data \n",
    "    time_cs = np.arange(time[0].value, time[-1].value, dt)\n",
    "\n",
    "    h_plus_cs = cs_plus(time_cs) \n",
    "    h_cross_cs = cs_cross(time_cs) \n",
    "    \n",
    "    ## Return these new interpolated values\n",
    "    return time_cs, h_plus_cs, h_cross_cs, np.sqrt(h_plus_cs**2 + h_cross_cs**2)"
   ]
  },
  {
   "cell_type": "code",
   "execution_count": null,
   "id": "d8145fb6-2e34-4226-bb9d-37d05f021468",
   "metadata": {},
   "outputs": [],
   "source": []
  }
 ],
 "metadata": {
  "kernelspec": {
   "display_name": "Python 3",
   "language": "python",
   "name": "python3"
  },
  "language_info": {
   "codemirror_mode": {
    "name": "ipython",
    "version": 3
   },
   "file_extension": ".py",
   "mimetype": "text/x-python",
   "name": "python",
   "nbconvert_exporter": "python",
   "pygments_lexer": "ipython3",
   "version": "3.6.8"
  }
 },
 "nbformat": 4,
 "nbformat_minor": 5
}
