{
 "cells": [
  {
   "cell_type": "markdown",
   "metadata": {
    "Collapsed": "false"
   },
   "source": [
    "# FittingFactor.ipynb\n",
    "\n",
    "### Compute fitting factors between GR and beyond-GR waveforms\n",
    "\n",
    "Maria Okounkova (mokounkova@flatironinstitute.org)"
   ]
  },
  {
   "cell_type": "code",
   "execution_count": 1,
   "metadata": {
    "Collapsed": "false"
   },
   "outputs": [
    {
     "name": "stderr",
     "output_type": "stream",
     "text": [
      "/home/maria.okounkova/.local/lib/python3.6/site-packages/gwtools/rotations.py:63: UserWarning: Could not import GWFrames, needed for rotations module\n",
      "  _warnings.warn(\"Could not import GWFrames, needed for rotations module\")\n",
      "/home/maria.okounkova/.local/lib/python3.6/site-packages/gwtools/__init__.py:11: UserWarning: Could not import rotations, decompositions, or fitfuncs. These are not needed by GWSurrogate.\n",
      "  _warnings.warn(\"Could not import rotations, decompositions, or fitfuncs. These are not needed by GWSurrogate.\")\n"
     ]
    },
    {
     "name": "stdout",
     "output_type": "stream",
     "text": [
      "setting __package__ to gwsurrogate.new so relative imports work\n",
      "__name__ = gwsurrogate.new.spline_evaluation\n",
      "__package__= gwsurrogate.new\n",
      "setting __package__ to gwsurrogate.new so relative imports work\n",
      "setting __package__ to gwsurrogate.new so relative imports work\n"
     ]
    }
   ],
   "source": [
    "import matplotlib\n",
    "import matplotlib.pyplot as plt\n",
    "import numpy as np\n",
    "from scipy.interpolate import InterpolatedUnivariateSpline\n",
    "from scipy.optimize import minimize_scalar\n",
    "from ipynb.fs.full.Auxiliary import GetPeakTime, ComputeInnerProduct, ComputeOverlap, ComputeMultiDetectorInnerProduct, ComputeMultiDetectorOverlap\n",
    "from pycbc.filter.matchedfilter import overlap\n",
    "from pycbc.waveform import td_approximants, get_td_waveform\n",
    "from pycbc.detector import Detector\n",
    "from math import pi"
   ]
  },
  {
   "cell_type": "code",
   "execution_count": 2,
   "metadata": {},
   "outputs": [
    {
     "name": "stdout",
     "output_type": "stream",
     "text": [
      "['TaylorT1', 'TaylorT2', 'TaylorT3', 'SpinTaylorT1', 'SpinTaylorT4', 'SpinTaylorT5', 'PhenSpinTaylor', 'PhenSpinTaylorRD', 'EOBNRv2', 'EOBNRv2HM', 'TEOBResum_ROM', 'SEOBNRv1', 'SEOBNRv2', 'SEOBNRv2_opt', 'SEOBNRv3', 'SEOBNRv3_pert', 'SEOBNRv3_opt', 'SEOBNRv3_opt_rk4', 'SEOBNRv4', 'SEOBNRv4_opt', 'SEOBNRv4P', 'SEOBNRv4PHM', 'SEOBNRv2T', 'SEOBNRv4T', 'SEOBNRv4_ROM_NRTidalv2', 'SEOBNRv4_ROM_NRTidalv2_NSBH', 'HGimri', 'IMRPhenomA', 'IMRPhenomB', 'IMRPhenomC', 'IMRPhenomD', 'IMRPhenomD_NRTidalv2', 'IMRPhenomNSBH', 'IMRPhenomHM', 'IMRPhenomPv2', 'IMRPhenomPv2_NRTidal', 'IMRPhenomPv2_NRTidalv2', 'TaylorEt', 'TaylorT4', 'EccentricTD', 'SpinDominatedWf', 'NR_hdf5', 'NRSur7dq2', 'NRSur7dq4', 'SEOBNRv4HM', 'NRHybSur3dq8', 'IMRPhenomXAS', 'IMRPhenomXHM', 'IMRPhenomPv3', 'IMRPhenomPv3HM', 'TaylorF2', 'SEOBNRv1_ROM_EffectiveSpin', 'SEOBNRv1_ROM_DoubleSpin', 'SEOBNRv2_ROM_EffectiveSpin', 'SEOBNRv2_ROM_DoubleSpin', 'EOBNRv2_ROM', 'EOBNRv2HM_ROM', 'SEOBNRv2_ROM_DoubleSpin_HI', 'SEOBNRv4_ROM', 'IMRPhenomD_NRTidal', 'SpinTaylorF2', 'TaylorF2NL', 'SpinTaylorF2_SWAPPER']\n"
     ]
    }
   ],
   "source": [
    "print(td_approximants())"
   ]
  },
  {
   "cell_type": "code",
   "execution_count": 8,
   "metadata": {},
   "outputs": [],
   "source": [
    "## Actual parameter values\n",
    "params = {'dt' : 1/2048, 't_gps' : 1126259462.0, 'peak_time_in_segment' : 8.0, 'segment_length' : 16.0, \\\n",
    "               'dist_mpc' : 601.0372365294345, 'mass' : 68.0, 'q' : 1.2212532137858916, \\\n",
    "               \"chirp_mass\": 29.422167356249002,  \"m_1\": 37.38665093292035, \"m_2\": 30.61334906707965, \\\n",
    "               'a_1' : [0, 0, 0.329892752405], 'a_2' : [0, 0, -0.439940981499], \\\n",
    "               'f_low' : 25, 'theta' : pi, 'phi' : 0, \\\n",
    "               'ra' : 1.952318922, 'dec' : -1.26967171703, 'pol' : 0.824043851821, 'f_ref' : 30.0}"
   ]
  },
  {
   "cell_type": "code",
   "execution_count": 9,
   "metadata": {},
   "outputs": [],
   "source": [
    "det_h1 = Detector('H1')\n",
    "det_l1 = Detector('L1')\n",
    "det_v1 = Detector('V1')"
   ]
  },
  {
   "cell_type": "code",
   "execution_count": 10,
   "metadata": {},
   "outputs": [],
   "source": [
    "def GenerateWaveform(phase, del_t):\n",
    "    \"\"\" Given a phase and del_t (offset from t_gps), compute a waveform approximant \"\"\"\n",
    "    phase = 0.0\n",
    "    hp, hc = get_td_waveform(approximant='IMRPhenomPv3HM',\n",
    "                         mass1 = params[\"m_1\"],\n",
    "                         mass2 = params[\"m_2\"],\n",
    "                         spin1x = 0.0, spin1y = 0.0, spin1z=params[\"a_1\"][2],\n",
    "                         spin2x = 0.0, spin2y = 0.0, spin2z=params[\"a_2\"][2],\n",
    "                         delta_t = params[\"dt\"],\n",
    "                         f_ref = 30, \n",
    "                         f_lower = 30,\n",
    "                         inclindation = params[\"theta\"],\n",
    "                         coa_phase = phase,\n",
    "                         cos_phase = phase\n",
    "                        )\n",
    "    declination = params[\"dec\"]\n",
    "    right_ascension = params[\"ra\"]\n",
    "    polarization = params[\"pol\"]\n",
    "    hp.start_time += params[\"t_gps\"] + del_t\n",
    "    hc.start_time += params[\"t_gps\"] + del_t \n",
    "    \n",
    "    signal_h1 = det_h1.project_wave(hp, hc,  right_ascension, declination, polarization)\n",
    "    #signal_l1 = det_l1.project_wave(hp, hc,  right_ascension, declination, polarization)\n",
    "    #signal_v1 = det_v1.project_wave(hp, hc,  right_ascension, declination, polarization)\n",
    "    \n",
    "    return signal_h1"
   ]
  },
  {
   "cell_type": "code",
   "execution_count": null,
   "metadata": {},
   "outputs": [
    {
     "name": "stdout",
     "output_type": "stream",
     "text": [
      "Inner product start time:  1126259461.2285156  Inner product end time:  1126259462.131836\n"
     ]
    },
    {
     "data": {
      "text/plain": [
       "1.0"
      ]
     },
     "execution_count": 11,
     "metadata": {},
     "output_type": "execute_result"
    }
   ],
   "source": [
    "signal = GenerateWaveform(0, 0)\n",
    "\n",
    "ComputeInnerProduct(signal.sample_times, signal, signal.sample_times, signal, psd = True, f_low = 25, normalized = True)"
   ]
  },
  {
   "cell_type": "code",
   "execution_count": 14,
   "metadata": {},
   "outputs": [
    {
     "data": {
      "text/plain": [
       "1126259461.2285156"
      ]
     },
     "execution_count": 14,
     "metadata": {},
     "output_type": "execute_result"
    }
   ],
   "source": [
    "signal.sample_times[0]"
   ]
  },
  {
   "cell_type": "markdown",
   "metadata": {},
   "source": [
    "### Function to generate phenom waveforms"
   ]
  },
  {
   "cell_type": "code",
   "execution_count": 12,
   "metadata": {},
   "outputs": [
    {
     "data": {
      "image/png": "[encoded data removed]",
      "text/plain": [
       "<Figure size 864x432 with 1 Axes>"
      ]
     },
     "metadata": {
      "needs_background": "light"
     },
     "output_type": "display_data"
    }
   ],
   "source": [
    "plt.figure(figsize=(12, 6))\n",
    "plt.plot(signal.sample_times, signal)\n",
    "plt.show()"
   ]
  },
  {
   "cell_type": "markdown",
   "metadata": {},
   "source": [
    "### Overlap computation"
   ]
  },
  {
   "cell_type": "code",
   "execution_count": null,
   "metadata": {},
   "outputs": [],
   "source": [
    "## Given two waveforms in a single interferometer, compute the mismatch between them"
   ]
  },
  {
   "cell_type": "markdown",
   "metadata": {},
   "source": [
    "### Parameter Search"
   ]
  },
  {
   "cell_type": "code",
   "execution_count": null,
   "metadata": {},
   "outputs": [],
   "source": [
    "# D = 15 ## See Frame.prior bilby file\n",
    "# SNR_detection = np.sqrt(D / (2 * mismatches))\n",
    "# plt.figure(figsize=(8, 6))\n",
    "# plt.plot(ells, SNR_detection, '-o')\n",
    "# plt.yscale('log')\n",
    "# #plt.xscale('log')\n",
    "# plt.show()"
   ]
  }
 ],
 "metadata": {
  "kernelspec": {
   "display_name": "Python 3",
   "language": "python",
   "name": "python3"
  },
  "language_info": {
   "codemirror_mode": {
    "name": "ipython",
    "version": 3
   },
   "file_extension": ".py",
   "mimetype": "text/x-python",
   "name": "python",
   "nbconvert_exporter": "python",
   "pygments_lexer": "ipython3",
   "version": "3.6.8"
  }
 },
 "nbformat": 4,
 "nbformat_minor": 4
}
