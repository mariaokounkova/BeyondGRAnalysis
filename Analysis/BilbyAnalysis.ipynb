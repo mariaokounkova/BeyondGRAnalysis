{
 "cells": [
  {
   "cell_type": "markdown",
   "metadata": {
    "Collapsed": "false"
   },
   "source": [
    "## Imports"
   ]
  },
  {
   "cell_type": "code",
   "execution_count": 53,
   "metadata": {
    "Collapsed": "false"
   },
   "outputs": [],
   "source": [
    "import json\n",
    "import matplotlib\n",
    "import matplotlib.pyplot as plt\n",
    "import numpy as np\n",
    "import seaborn as sns\n",
    "\n",
    "# Plot parameters\n",
    "matplotlib.rcParams['mathtext.fontset'] = 'stix'\n",
    "matplotlib.rcParams['font.family'] = 'STIXGeneral'\n",
    "matplotlib.rcParams['axes.labelsize'] = 24\n",
    "matplotlib.rcParams['xtick.labelsize'] = 30\n",
    "matplotlib.rcParams['ytick.labelsize'] = 30\n",
    "matplotlib.rcParams['xtick.major.size'] = 20\n",
    "matplotlib.rcParams['ytick.major.size'] = 20\n",
    "matplotlib.rcParams['xtick.top'] = True\n",
    "matplotlib.rcParams['xtick.direction'] = 'in'\n",
    "matplotlib.rcParams['xtick.minor.visible'] = True\n",
    "matplotlib.rcParams['xtick.minor.size'] = 10\n",
    "matplotlib.rcParams['ytick.minor.size'] = 10\n",
    "matplotlib.rcParams['legend.fontsize'] = 18\n",
    "matplotlib.rcParams['legend.frameon'] = True\n",
    "matplotlib.rcParams['lines.linewidth'] = 3"
   ]
  },
  {
   "cell_type": "code",
   "execution_count": 85,
   "metadata": {
    "Collapsed": "false"
   },
   "outputs": [],
   "source": [
    "def Evidence(p):\n",
    "    \"\"\" Return the log evidence from a given bilby run \"\"\"\n",
    "    f = open(p + '/fast_tutorial_result.json')\n",
    "    data = json.load(f)\n",
    "    return data['log_evidence']\n",
    "\n",
    "def EvidenceErr(p):\n",
    "    \"\"\" Return the error on the log evidence from a given bilby run \"\"\"\n",
    "    f = open(p + '/fast_tutorial_result.json')\n",
    "    data = json.load(f)\n",
    "    return data['log_evidence_err']\n",
    "\n",
    "def BayesFactor(p):\n",
    "    \"\"\" Return the log Bayes factor form a given bilby run \"\"\"\n",
    "    f = open(p + '/fast_tutorial_result.json')\n",
    "    data = json.load(f)\n",
    "    return data['log_bayes_factor']\n",
    "\n",
    "def MassRatioPosterior(p):\n",
    "    \"\"\" Return the mass ratio posterior for a given bilby run \"\"\"\n",
    "    f = open(p + '/fast_tutorial_result.json')\n",
    "    data = json.load(f)\n",
    "    mass_ratio = data['posterior']['content']['mass_ratio']\n",
    "    return mass_ratio\n"
   ]
  },
  {
   "cell_type": "code",
   "execution_count": 90,
   "metadata": {
    "Collapsed": "false"
   },
   "outputs": [
    {
     "name": "stdout",
     "output_type": "stream",
     "text": [
      "-55.84903947715793 0.16544773985022898 733.562199970834\n",
      "-269.8805699870445 0.17984136323977773 4660.2815848342625\n"
     ]
    }
   ],
   "source": [
    "def PlotEvidences():\n",
    "    \n",
    "    def evaluate(p):\n",
    "        \n",
    "        ev = Evidence(p)\n",
    "        ev_err = EvidenceErr(p)\n",
    "        bf = BayesFactor(p)\n",
    "        print(ev, ev_err, bf)\n",
    "        \n",
    "    \n",
    "    evaluate('../BilbyPE/Surrogate_FramesProcs/outdir')\n",
    "    evaluate('../BilbyPE/Surrogate_FramesCloser/outdir')\n",
    "    \n",
    "PlotEvidences()"
   ]
  },
  {
   "cell_type": "code",
   "execution_count": 78,
   "metadata": {
    "Collapsed": "false"
   },
   "outputs": [],
   "source": [
    "def PlotMassRatioPosteriors():\n",
    "    \n",
    "    def histogram(p, label, color):\n",
    "        data = MassRatioPosterior(p)\n",
    "        nbins = 20\n",
    "        H = plt.hist(data, alpha=1.0, color = color, linewidth=2.0, histtype=u'step', density=True, bins = nbins, label=label)\n",
    "        \n",
    "    plt.figure(figsize=(10,6))\n",
    "    \n",
    "    cs = sns.color_palette('Paired', n_colors=5)\n",
    "    histogram('../BilbyPE/Surrogate_FramesProcs/outdir', '$d_L$ = 1000 MpC', cs[0])\n",
    "    histogram('../BilbyPE/Surrogate_Frames25Hz/outdir', '$d_L$ = 1000 MpC, $f_\\mathrm{min}$ = 25 Hz', cs[1])\n",
    "    histogram('../BilbyPE/Surrogate_FramesCloser/outdir', '$d_L$ = 400 MpC', cs[2])\n",
    "    histogram('../BilbyPE/Surrogate_FramesCloser25Hz/outdir', '$d_L$ = 400 MpC, $f_\\mathrm{min}$ = 25 Hz', cs[3])\n",
    "    \n",
    "    plt.legend(loc='best', ncol=1, fontsize=18)\n",
    "    plt.ylabel('Posterior distribution')\n",
    "    plt.xlabel('$q$')\n",
    "    plt.tight_layout()\n",
    "    plt.show()"
   ]
  },
  {
   "cell_type": "code",
   "execution_count": 79,
   "metadata": {
    "Collapsed": "false"
   },
   "outputs": [
    {
     "data": {
      "image/png": "[encoded data removed]",
      "text/plain": [
       "<Figure size 720x432 with 1 Axes>"
      ]
     },
     "metadata": {
      "needs_background": "light"
     },
     "output_type": "display_data"
    }
   ],
   "source": [
    "PlotMassRatioPosteriors()"
   ]
  },
  {
   "cell_type": "code",
   "execution_count": 89,
   "metadata": {
    "Collapsed": "false"
   },
   "outputs": [
    {
     "data": {
      "text/plain": [
       "dict_keys(['label', 'outdir', 'sampler', 'log_evidence', 'log_evidence_err', 'log_noise_evidence', 'log_bayes_factor', 'priors', 'posterior', 'injection_parameters', 'meta_data', 'search_parameter_keys', 'fixed_parameter_keys', 'constraint_parameter_keys', 'sampling_time', 'sampler_kwargs', 'use_ratio', 'information_gain', 'log_likelihood_evaluations', 'log_prior_evaluations', 'samples', 'nested_samples', 'parameter_labels', 'parameter_labels_with_unit', 'version'])"
      ]
     },
     "execution_count": 89,
     "metadata": {},
     "output_type": "execute_result"
    }
   ],
   "source": [
    "p = '/home/maria.okounkova/BeyondGRAnalysis/BilbyPE/Surrogate_FramesProcs/outdir/fast_tutorial_result.json'\n",
    "\n",
    "f = open(p)\n",
    "data = json.load(f)\n",
    "data.keys()\n",
    "#data['log_bayes_factor'] #.keys()\n",
    "#data['posterior']['content'].keys()\n"
   ]
  },
  {
   "cell_type": "markdown",
   "metadata": {
    "Collapsed": "false"
   },
   "source": [
    "### Old corner plot code"
   ]
  },
  {
   "cell_type": "code",
   "execution_count": null,
   "metadata": {
    "Collapsed": "false"
   },
   "outputs": [],
   "source": [
    "def CornerPlot(quantities, figname):\n",
    "    data_0p0, labels, truths = GetDataForMassCorner(0.0, quantities)\n",
    "    data_0p1, labels, truths = GetDataForMassCorner(0.1, quantities)\n",
    "    \n",
    "    cs = sns.color_palette('husl', n_colors=2)\n",
    "    \n",
    "    dim = len(labels)\n",
    "    ranges = [1.0 for d in labels]\n",
    "\n",
    "    fig = corner.corner(data_0p0, labels=labels,\n",
    "                       title_kwargs={\"fontsize\": 20}, label_kwargs={\"fontsize\": 20}, color=cs[0], \n",
    "                       show_titles=False)\n",
    "    corner.corner(data_0p1, fig=fig, range = ranges, color=cs[1],\n",
    "                 #truths = truths, truth_color = '#cccacb'\n",
    "                 )\n",
    "    \n",
    "    ax_arr = fig.get_axes()\n",
    "    \n",
    "    ## scatter the truths\n",
    "    for cc in range(1, dim):\n",
    "        for rr in range(cc):\n",
    "            ax_arr[cc*dim + rr].scatter([truths[rr]], [truths[cc]], color = 'black', s=200, marker='*')\n",
    "            \n",
    "    for rr in range(dim):\n",
    "        ax_arr[rr*dim + rr].axvline(truths[rr], ls='--', lw=1.0, color='black')\n",
    "    \n",
    "    ## add in the legend\n",
    "    x = [0.0, 0.0]\n",
    "    y = [0.0, 0.0]\n",
    "    l1 = ax_arr[0].plot(x, y, label=EllinKm(0.0), color = cs[0])\n",
    "    l2 = ax_arr[0].plot(x, y, label=EllinKm(0.1), color = cs[1])\n",
    "    legend = ax_arr[1].legend(handles=[l1[0], l2[0]], title = '$\\ell$', frameon=False)\n",
    "    plt.setp(legend.get_title(),fontsize=20)\n",
    "\n",
    "    for ax in fig.get_axes():\n",
    "        ax.tick_params(axis='both', labelsize=12)\n",
    "    plt.tight_layout()\n",
    "    plt.savefig(figname + '.pdf')\n",
    "    plt.show()"
   ]
  },
  {
   "cell_type": "code",
   "execution_count": null,
   "metadata": {
    "Collapsed": "false"
   },
   "outputs": [],
   "source": [
    "CornerPlot(['chi_eff', 'a1', 'a2', 'af_nonevol'], 'SpinCorner')"
   ]
  },
  {
   "cell_type": "code",
   "execution_count": null,
   "metadata": {
    "Collapsed": "false"
   },
   "outputs": [],
   "source": []
  }
 ],
 "metadata": {
  "kernelspec": {
   "display_name": "Python 3",
   "language": "python",
   "name": "python3"
  },
  "language_info": {
   "codemirror_mode": {
    "name": "ipython",
    "version": 3
   },
   "file_extension": ".py",
   "mimetype": "text/x-python",
   "name": "python",
   "nbconvert_exporter": "python",
   "pygments_lexer": "ipython3",
   "version": "3.6.8"
  }
 },
 "nbformat": 4,
 "nbformat_minor": 4
}
