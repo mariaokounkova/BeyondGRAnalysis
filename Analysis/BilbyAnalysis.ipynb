{
 "cells": [
  {
   "cell_type": "markdown",
   "metadata": {
    "Collapsed": "false",
    "tags": []
   },
   "source": [
    "# BilbyAnalysis.ipynb\n",
    "\n",
    "Maria Okounkova (mokounkova@flatironinstitute.org)\n",
    "\n",
    "### Notebook for the analysis of Bilby runs, including corner plots and evidences"
   ]
  },
  {
   "cell_type": "markdown",
   "metadata": {
    "tags": []
   },
   "source": [
    "### Imports"
   ]
  },
  {
   "cell_type": "code",
   "execution_count": 6,
   "metadata": {
    "Collapsed": "false"
   },
   "outputs": [],
   "source": [
    "import json\n",
    "import matplotlib\n",
    "import matplotlib.pyplot as plt\n",
    "import numpy as np\n",
    "import seaborn as sns\n",
    "import corner\n",
    "from astropy import constants as const\n",
    "from math import pi\n",
    "\n",
    "# Plot parameters\n",
    "matplotlib.rcParams['mathtext.fontset'] = 'stix'\n",
    "matplotlib.rcParams['font.family'] = 'STIXGeneral'\n",
    "matplotlib.rcParams['axes.labelsize'] = 24\n",
    "matplotlib.rcParams['xtick.labelsize'] = 30\n",
    "matplotlib.rcParams['ytick.labelsize'] = 30\n",
    "matplotlib.rcParams['xtick.major.size'] = 20\n",
    "matplotlib.rcParams['ytick.major.size'] = 20\n",
    "matplotlib.rcParams['xtick.top'] = True\n",
    "matplotlib.rcParams['xtick.direction'] = 'in'\n",
    "matplotlib.rcParams['xtick.minor.visible'] = True\n",
    "matplotlib.rcParams['xtick.minor.size'] = 10\n",
    "matplotlib.rcParams['ytick.minor.size'] = 10\n",
    "matplotlib.rcParams['legend.fontsize'] = 18\n",
    "matplotlib.rcParams['legend.frameon'] = True\n",
    "matplotlib.rcParams['lines.linewidth'] = 3"
   ]
  },
  {
   "cell_type": "markdown",
   "metadata": {
    "tags": []
   },
   "source": [
    "### Functions for injection values, Bayes factors, evidences, etc"
   ]
  },
  {
   "cell_type": "code",
   "execution_count": 19,
   "metadata": {
    "Collapsed": "false"
   },
   "outputs": [],
   "source": [
    "LabelDict = {'chirp_mass' : r\"$\\mathcal{M} [M_\\odot]$\", 'mass_ratio' : r\"$q$\", \\\n",
    "             'a_1' : r\"$a_1$\", 'a_2' : r\"$a_2$\", 'luminosity_distance' : r\"$d_L$ [mpc]\", \\\n",
    "            'dec' : 'dec', 'ra' : 'ra', 'theta_jn' : r\"$\\theta_{jn}$\", 'tilt_1' : r\"$\\theta_1$\", \\\n",
    "            'tilt_2' : r\"$\\theta_2$\", 'psi' : r\"$\\psi$\", 'phase' : r'$\\Delta \\phi$'}\n",
    "    \n",
    "def GetTruthDict(p):\n",
    "    \"\"\" Return a dictionary of truth values for corner plots from the parameters.json file \n",
    "        corresponding to the injected parameters, where p is the path to the file \"\"\"\n",
    "    TruthDict = {}\n",
    "    \n",
    "    f = open(p + '/parameters.json')\n",
    "    params = json.load(f)\n",
    "    TruthDict['chirp_mass'] = params['chirp_mass']\n",
    "    TruthDict['mass_ratio'] = params['mass_ratio']\n",
    "    TruthDict['mass'] = params['mass']\n",
    "    TruthDict['luminosity_distance'] = params['dist_mpc']\n",
    "    TruthDict['a_1'] = np.abs(params['a_1'][2]) ## assumes aligned spin for now\n",
    "    TruthDict['a_2'] = np.abs(params['a_2'][2])\n",
    "    TruthDict['dec'] = params['dec']\n",
    "    TruthDict['ra'] = params['ra']\n",
    "    TruthDict['theta_jn'] = params['theta']\n",
    "    TruthDict['tilt_1'] = 0.0\n",
    "    TruthDict['tilt_2'] = np.pi\n",
    "    TruthDict['phase'] = params['phi']\n",
    "    TruthDict['psi'] = params['pol'] \n",
    "    f.close()\n",
    "    return TruthDict\n",
    "\n",
    "def Evidence(p):\n",
    "    \"\"\" Return the log evidence for a given bilby run\n",
    "        located in directory p \"\"\"\n",
    "    f = open(p + 'outdir/fast_tutorial_result.json')\n",
    "    data = json.load(f)\n",
    "    f.close()\n",
    "    return data['log_evidence']\n",
    "\n",
    "def EvidenceErr(p):\n",
    "    \"\"\" Return the error on the log evidence for a given bilby run \n",
    "        located in directory p \"\"\"\n",
    "    f = open(p + 'outdir/fast_tutorial_result.json')\n",
    "    data = json.load(f)\n",
    "    f.close()\n",
    "    return data['log_evidence_err']\n",
    "\n",
    "def BayesFactor(p):\n",
    "    \"\"\" Return the log Bayes factor for a given bilby run \n",
    "        located in directory p \"\"\"\n",
    "    f = open(p + 'outdir/fast_tutorial_result.json')\n",
    "    data = json.load(f)\n",
    "    f.close()\n",
    "    return data['log_bayes_factor']\n",
    "\n",
    "def EvidenceAndBayes(p):\n",
    "    \"\"\" Return the log Bayes factor, log evidence, and log evidence error\n",
    "        for a given bilby run located in directory p \"\"\"\n",
    "    f = open(p + 'outdir/fast_tutorial_result.json')\n",
    "    data = json.load(f)\n",
    "    f.close()\n",
    "    return data['log_bayes_factor'], data['log_evidence'], data['log_evidence_err']\n",
    "    \n",
    "def EvidenceAndBayesArray(p_array):\n",
    "    \"\"\" Return the log Bayes factor, log evidence, and log evidence error\n",
    "        for a set of bilby runs located in directories given in p_array \"\"\"\n",
    "    bfs = []\n",
    "    evs = []\n",
    "    ev_errs = []\n",
    "    for p in p_array:\n",
    "        bf, ev, ev_err = EvidenceAndBayes(p)\n",
    "        print(f, bf)\n",
    "        bfs.append(bf)\n",
    "        evs.append(ev)\n",
    "        ev_errs.append(ev_err)\n",
    "    return bfs, evs, ev_errs\n",
    "\n",
    "def GetPosterior(p, quantity):\n",
    "    \"\"\" Return the posterior for a given bilby run\n",
    "        for a given quantity, such as mass_ratio, \n",
    "        chirp_mass, a_1, a_2, etc\"\"\"\n",
    "    f = open(p + '/fast_tutorial_result.json')\n",
    "    data = json.load(f)\n",
    "    vals = data['posterior']['content'][quantity]\n",
    "    f.close()\n",
    "    return vals\n",
    "\n",
    "def EllinKm(ell_string, mass):\n",
    "    \"\"\" For dCS parameters, convert from the string corresponding\n",
    "        to the dimensionless ell value (like `0p0`) to a value\n",
    "        in kilometers (like 0.0 [km]) \"\"\"\n",
    "    ell = float(ell_string.replace('p', '.'))\n",
    "    mass_msun = mass * const.M_sun\n",
    "    phys_ell_km = ell * mass_msun * const.G /(const.c**2) / 1000\n",
    "    return phys_ell_km.value\n",
    "\n"
   ]
  },
  {
   "cell_type": "markdown",
   "metadata": {},
   "source": [
    "### Plot Bayes factors and evidences for Bilby runs"
   ]
  },
  {
   "cell_type": "code",
   "execution_count": 49,
   "metadata": {
    "Collapsed": "false"
   },
   "outputs": [
    {
     "data": {
      "image/png": "[encoded data removed]",
      "text/plain": [
       "<Figure size 576x360 with 1 Axes>"
      ]
     },
     "metadata": {
      "needs_background": "light"
     },
     "output_type": "display_data"
    }
   ],
   "source": [
    "# plt.figure(figsize=(8, 5))\n",
    "# plt.plot(ell_km, bf_25, '--o', lw = 3.0, label = '25')\n",
    "# plt.plot(ell_km, bf_75, '--o', lw = 3.0, label = '75')\n",
    "# plt.plot(ell_km_lower, bf_75_lower, '--o', lw = 3.0, label = '75, $a \\leq 0.75$')\n",
    "# plt.plot(ell_km, bf_125, '--o', lw = 3.0, label = '125')\n",
    "# plt.xlabel(r'$(\\ell [\\mathrm{km}])^4$')\n",
    "# plt.ylabel(r'$\\ln$ Bayes Factor')\n",
    "# legend = plt.legend(title = 'SNR')\n",
    "# plt.setp(legend.get_title(),fontsize=20)\n",
    "\n",
    "# plt.figure(figsize=(8, 5))\n",
    "# plt.errorbar(ell_km, ev_25, ev_err_25, ls = '--', lw = 3.0, label = '25')\n",
    "# plt.errorbar(ell_km, ev_75, ev_err_75, ls = '--', lw = 3.0, label = '75')\n",
    "# plt.errorbar(ell_km_lower, ev_75_lower, ev_err_75_lower, ls = '--', lw = 3.0, label = '75, $a \\leq 0.75$')\n",
    "# plt.errorbar(ell_km, ev_125, ev_err_125, ls = '--', lw = 3.0, label = '125')\n",
    "# #plt.plot(ell_km, ev_75, 'o', color = '#40916b')\n",
    "# plt.xlabel(r'$(\\ell [\\mathrm{km}])^4$')\n",
    "# plt.ylabel(r'$\\ln \\,\\mathcal{Z} (d \\mid M)$')\n",
    "# legend = plt.legend(title = 'SNR')\n",
    "# plt.setp(legend.get_title(),fontsize=20)\n",
    "# plt.show()"
   ]
  },
  {
   "cell_type": "markdown",
   "metadata": {},
   "source": [
    "### Corner plot for GR injections with various SNRs"
   ]
  },
  {
   "cell_type": "code",
   "execution_count": null,
   "metadata": {},
   "outputs": [],
   "source": [
    "def SNRCornerPlot():\n",
    "    \n",
    "    ## Quantities to plot\n",
    "    quants = ['mass_ratio', 'chirp_mass', 'a_1', 'a_2']\n",
    "    #quants = ['dec', 'ra', 'luminosity_distance']\n",
    "    q_range = [(0.25, 1.0), (20, 40), (0.0, 1.0), (0.0, 1.0)]\n",
    "    #q_range = [(0, 2*pi), (0, 2*pi), (200, 500)]\n",
    "    labels = [LabelDict[q] for q in quants]\n",
    "    dim = len(quants) \n",
    "\n",
    "    snr_values = [\"25\", \"75\", \"125\"]\n",
    "    cs = sns.color_palette('husl', n_colors=len(snr_values) + 1)\n",
    "\n",
    "    fig, ax_arr = plt.subplots(dim, dim, figsize=(10,10))\n",
    "    x = [0.0, 0.0]\n",
    "    y = [0.0, 0.0]\n",
    "\n",
    "    ## Get true values\n",
    "    p = '../BilbyPE/dCS_0p0_25/'\n",
    "    TruthDict = GetTruthDict(p) ## for now\n",
    "    truths = [TruthDict[q] for q in quants]\n",
    "\n",
    "    handles = []\n",
    "    \n",
    "    ## Plot for SNR values\n",
    "    for SNR, color in zip(snr_values, cs[1:]):\n",
    "\n",
    "        p = '../BilbyPE/dCS_0p0_' + SNR + '/'\n",
    "        vals = np.vstack([GetPosterior(p + 'outdir', q) for q in quants]).transpose()\n",
    "\n",
    "        corner.corner(vals, fig=fig, labels=labels,\n",
    "                     title_kwargs={\"fontsize\": 20}, label_kwargs={\"fontsize\": 20}, color=color, \n",
    "                      show_titles=False, smooth = 2.0, range = q_range, truths = truths, truth_color = 'black')\n",
    "\n",
    "        l = ax_arr[0][dim-1].plot(x, y, label=SNR, color = color)\n",
    "        handles.append(l[0])\n",
    "\n",
    "\n",
    "    ## add in the legend\n",
    "    legend = ax_arr[0][dim-1].legend(handles=handles, frameon=False, title = r'SNR in H1', loc = 'upper center')\n",
    "    plt.setp(legend.get_title(),fontsize=20)\n",
    "    for ax in fig.get_axes():\n",
    "        ax.tick_params(axis='both', labelsize=12, length=6)\n",
    "    plt.tight_layout()\n",
    "    plt.savefig('SNRCornerPlot.pdf')\n",
    "    plt.show()\n",
    "    \n",
    "#SNRCornerPlot()  "
   ]
  },
  {
   "cell_type": "markdown",
   "metadata": {},
   "source": [
    "### Corner plot for injections with various priors"
   ]
  },
  {
   "cell_type": "code",
   "execution_count": 2,
   "metadata": {},
   "outputs": [],
   "source": [
    "def PriorsCornerPlot():\n",
    "    \n",
    "    ## Quantities to plot\n",
    "    #quants = ['ra', 'dec', 'luminosity_distance']\n",
    "    #q_range = [(0, 2*pi), (-pi, pi), (300, 500)]\n",
    "    #quants = ['psi', 'phase', 'luminosity_distance']\n",
    "    #q_range = [(0, 2*pi), (0, 2*pi), (300, 500)]\n",
    "    #quants = ['ra', 'dec'] #, 'luminosity_distance']\n",
    "    #q_range = [(0, 2*pi), (-pi, pi)] #, (200, 500)]\n",
    "    quants = ['mass_ratio', 'chirp_mass', 'a_1', 'a_2']\n",
    "    q_range = [(0.2, 1.0), (25, 40), (0.0, 1.0), (0.0, 1.0)]\n",
    "    labels = [LabelDict[q] for q in quants]\n",
    "    dim = len(quants) \n",
    "\n",
    "    ps_dict = {\"Test_FullSearchNoTiltNoSkyLoc_35_0p99\" : r\"All parameter except tilt and sky loc search, $f_\\mathrm{min}$ = 35, $a_\\mathrm{max}$ = 0.99\", \n",
    "              \"Test_FullSearchNoTilt_35_0p99\" : r\"All parameter except tilt search, $f_\\mathrm{min}$ = 35, $a_\\mathrm{max}$ = 0.99\", \n",
    "              \"Test_FullSearch_35_0p99\" : r\"All parameter search, $f_\\mathrm{min}$ = 35, $a_\\mathrm{max}$ = 0.99\", \n",
    "              \"Test_FullSearch_35_0p75\" : r\"All parameter search, $f_\\mathrm{min}$ = 35, $a_\\mathrm{max}$ = 0.75\",\n",
    "               \"Test_FullSearch_25_0p75\" : r\"All parameter search, $f_\\mathrm{min}$ = 25, $a_\\mathrm{max}$ = 0.75\",\n",
    "               \"Test_Sur_35_0p99\"  : r\"Surrogate injection, All parameter search, $f_\\mathrm{min}$ = 35, $a_\\mathrm{max}$ = 0.99\",\n",
    "               \"dCS_0p0_75\" : r\"Beyond-GR ell = 0 injection, $f_\\mathrm{min}$ = 35, a_max = 0.99\",\n",
    "               \"Test_FullSearchNoTilt_25_0p75\" : r\"All parameter except tilt search, $f_\\mathrm{min}$ = 25, $a_\\mathrm{max}$ = 0.75\",\n",
    "               \"Test_FullSearchNoTilt_35_0p75\" : r\"All parameter except tilt search, $f_\\mathrm{min}$ = 35, $a_\\mathrm{max}$ = 0.75\",\n",
    "              }\n",
    "    ps = [\"Test_FullSearchNoTiltNoSkyLoc_35_0p99\", \"Test_FullSearchNoTilt_35_0p99\", \"Test_FullSearch_35_0p99\"]\n",
    "    ##ps = [\"Test_FullSearchNoTilt_25_0p75\", \"Test_FullSearchNoTilt_35_0p75\", \"Test_FullSearchNoTilt_35_0p99\"]\n",
    "    #ps = [\"Test_FullSearch_25_0p75\", \"Test_FullSearch_35_0p75\", \"Test_FullSearch_35_0p99\"]\n",
    "    run_labels = [ps_dict[pp] for pp in ps]\n",
    "    #cs = sns.color_palette('rocket', n_colors=len(ps) + 1)\n",
    "    cs = ['pink', 'orange', 'lightblue']\n",
    "    \n",
    "    fig, ax_arr = plt.subplots(dim, dim, figsize=(10,10))\n",
    "    x = [0.0, 0.0]\n",
    "    y = [0.0, 0.0]\n",
    "\n",
    "    handles = []\n",
    "\n",
    "    ## Plot dCS values\n",
    "    for p, color, rl in zip(ps, cs, run_labels):\n",
    "\n",
    "        p = '../BilbyPE/' + p \n",
    "        TruthDict = GetTruthDict(p)\n",
    "        truths = [TruthDict[q] for q in quants]\n",
    "        vals = np.vstack([GetPosterior(p + '/outdir', q) for q in quants]).transpose()\n",
    "\n",
    "        corner.corner(vals, fig=fig, labels=labels,\n",
    "                     title_kwargs={\"fontsize\": 20}, label_kwargs={\"fontsize\": 20}, color=color, \n",
    "                      show_titles=False, truths = truths, truth_color = 'black', smooth = 2.0, range = q_range)\n",
    "\n",
    "        l = ax_arr[0][dim-1].plot(x, y, label=rl, color = color)\n",
    "        handles.append(l[0])\n",
    "\n",
    "    ## add in the legend\n",
    "    legend = ax_arr[0][2].legend(handles=handles, frameon=False, loc = 'upper center', fontsize=16)\n",
    "    for ax in fig.get_axes():\n",
    "        ax.tick_params(axis='both', labelsize=12, length=6)\n",
    "    plt.savefig('CornerTilt.pdf')\n",
    "    plt.show()\n",
    "    \n",
    "#PriorsCornerPlot()  \n"
   ]
  },
  {
   "cell_type": "markdown",
   "metadata": {},
   "source": [
    "### Corner plots for dCS injections"
   ]
  },
  {
   "cell_type": "code",
   "execution_count": 3,
   "metadata": {
    "Collapsed": "false"
   },
   "outputs": [],
   "source": [
    "def dCSCornerPlot():\n",
    "    \n",
    "    ## Quantities to plot\n",
    "    #quants = ['mass_ratio', 'chirp_mass', 'a_1', 'a_2']\n",
    "    quants = ['dec', 'ra', 'luminosity_distance']\n",
    "    #q_range = [(0.6, 1.0), (28, 32), (0.0, 1.0), (0.0, 1.0)]\n",
    "    q_range = [(0, 2*pi), (0, 2*pi), (200, 500)]\n",
    "    labels = [LabelDict[q] for q in quants]\n",
    "    dim = len(quants) \n",
    "\n",
    "    ## dCS values to plot\n",
    "    SNR = '125'\n",
    "    dcs_values = [\"0p25\", \"0p3\", \"0p35\", \"0p37\"]\n",
    "    cs = sns.color_palette('magma', n_colors=len(dcs_values) + 1)\n",
    "\n",
    "    fig, ax_arr = plt.subplots(dim, dim, figsize=(10,10))\n",
    "    x = [0.0, 0.0]\n",
    "    y = [0.0, 0.0]\n",
    "\n",
    "    ## Plot GR values\n",
    "    #p_gr = '../BilbyPE/dCS_0p0_' + SNR + '/'\n",
    "    p_gr = '../BilbyPE/dCS_0p0_LowerSpins/'\n",
    "    TruthDict = GetTruthDict(p_gr) ## for now\n",
    "    truths = [TruthDict[q] for q in quants]\n",
    "    mass = TruthDict['mass']\n",
    "    vals_gr = np.vstack([GetPosterior(p_gr + 'outdir', q) for q in quants]).transpose()\n",
    "\n",
    "    corner.corner(vals_gr, fig=fig, labels=labels,\n",
    "                  title_kwargs={\"fontsize\": 20}, label_kwargs={\"fontsize\": 20}, color=cs[0],\n",
    "                  show_titles=False, smooth = 1.0, truths = truths, truth_color = 'black', range = q_range)\n",
    "    l_gr = ax_arr[0][dim-1].plot(x, y, label='%.1f [GR]' % EllinKm(\"0p0\", mass), color = cs[0])\n",
    "    handles = [l_gr[0]]\n",
    "\n",
    "    ## Plot dCS values\n",
    "    for ell, color in zip(dcs_values, cs[1:]):\n",
    "\n",
    "        p = '../BilbyPE/dCS_' + ell + '_' + SNR + '/'\n",
    "        ##p = '../BilbyPE/dCS_' + ell + '_LowerSpins/'\n",
    "        vals = np.vstack([GetPosterior(p + 'outdir', q) for q in quants]).transpose()\n",
    "\n",
    "        corner.corner(vals, fig=fig, labels=labels,\n",
    "                     title_kwargs={\"fontsize\": 20}, label_kwargs={\"fontsize\": 20}, color=color, \n",
    "                      show_titles=False, smooth = 1.0, range = q_range)\n",
    "\n",
    "        l = ax_arr[0][dim-1].plot(x, y, label='%.1f' % EllinKm(ell, mass), color = color)\n",
    "        handles.append(l[0])\n",
    "\n",
    "\n",
    "    ## add in the legend\n",
    "    legend = ax_arr[0][dim-1].legend(handles=handles, frameon=False, title = r'$\\ell$ [km]', loc = 'upper center')\n",
    "    plt.setp(legend.get_title(),fontsize=20)\n",
    "    for ax in fig.get_axes():\n",
    "        ax.tick_params(axis='both', labelsize=12, length=6)\n",
    "    #plt.savefig('BilbySurrogate.pdf')\n",
    "    plt.show()\n",
    "    \n",
    "#dCSCornerPlot()  "
   ]
  },
  {
   "cell_type": "markdown",
   "metadata": {
    "Collapsed": "false"
   },
   "source": [
    "### Understanding Bilby minimum frequency values\n",
    "\n",
    "Bilby parameter estimation with the surrogate model requires specifying a minimum frequency f_sur_min, and this minuimum frequency must be greater than the minimum frequency of the waveform injection. If this criterion is not met (ie we ask for a lower f_sur_min than the injection f_injection_min), then Bilby throws an error saying that the requested minimum frequency, f_bilby_requested, is < f_injection_min. However, in practice, the f_bilby_requested reported by Bilby error messages is NOT equal to f_sur_min, which doesn't make sense. However, we can explore the relationship between these two quantities using the surrogate injection below:\n",
    "\n",
    "for configuration:\n",
    "\n",
    "mass_ratio = 1.0\n",
    "chirp_mass = 20.0\n",
    "a_1 = 0.99\n",
    "a_2 = 0.99\n",
    "tilt_1 = 0.0\n",
    "tilt_2 = 3.14159265359\n",
    "phi_12 = 0.0\n",
    "phi_jl = 0.0\n"
   ]
  },
  {
   "cell_type": "code",
   "execution_count": 7,
   "metadata": {
    "Collapsed": "false"
   },
   "outputs": [
    {
     "data": {
      "image/png": "[encoded data removed]",
      "text/plain": [
       "<Figure size 576x576 with 1 Axes>"
      ]
     },
     "metadata": {
      "needs_background": "light"
     },
     "output_type": "display_data"
    }
   ],
   "source": [
    "def BilbyMinimumFrequency():\n",
    "    \n",
    "    sur_fmin = [20.0, 21.0, 22.0, 23.0, 24.0, 25.0, 26.0, 27.0, 28.0, 29.0, 30.0, 31.0]\n",
    "    bil_fmin = [16.04293095, 16.69953829, 17.34314270, 17.97386363, 18.59182733, 19.19716692, 19.79002226, 20.37053975, \\\n",
    "              20.93887207, 21.49517785, 22.03962128, 22.57237175]\n",
    "    ## Fit a relationship between the two\n",
    "    fit = np.polyfit(sur_fmin, bil_fmin, 2)\n",
    "    p = np.poly1d(fit)\n",
    "    \n",
    "    ## What the f_min should be for the run specified above\n",
    "    fmin_should = 22.70617355 \n",
    "    \n",
    "\n",
    "    plt.figure(figsize=(8,8))\n",
    "\n",
    "    plt.plot(sur_fmin, bil_fmin, '--o', color='red', label = 'values')\n",
    "    plt.plot(sur_fmin, p(sur_fmin), label = 'quad fit', lw = 2.0, color = 'pink')\n",
    "\n",
    "    plt.xlabel('Our requested minimum_frequency')\n",
    "    plt.ylabel('Bilby reported requested fMin')\n",
    "\n",
    "    plt.axhline(fmin_should, color='black', ls = '--', label = 'What Bilby says fMin should be')\n",
    "\n",
    "    plt.legend()\n",
    "\n",
    "    plt.show()\n",
    "\n",
    "BilbyMinimumFrequency()"
   ]
  },
  {
   "cell_type": "code",
   "execution_count": null,
   "metadata": {
    "Collapsed": "false"
   },
   "outputs": [],
   "source": []
  },
  {
   "cell_type": "code",
   "execution_count": null,
   "metadata": {
    "Collapsed": "false"
   },
   "outputs": [],
   "source": []
  }
 ],
 "metadata": {
  "kernelspec": {
   "display_name": "Python 3",
   "language": "python",
   "name": "python3"
  },
  "language_info": {
   "codemirror_mode": {
    "name": "ipython",
    "version": 3
   },
   "file_extension": ".py",
   "mimetype": "text/x-python",
   "name": "python",
   "nbconvert_exporter": "python",
   "pygments_lexer": "ipython3",
   "version": "3.6.8"
  }
 },
 "nbformat": 4,
 "nbformat_minor": 4
}
