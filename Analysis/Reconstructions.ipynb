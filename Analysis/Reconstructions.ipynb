{
 "cells": [
  {
   "cell_type": "markdown",
   "metadata": {
    "Collapsed": "false"
   },
   "source": [
    "### Imports"
   ]
  },
  {
   "cell_type": "code",
   "execution_count": 54,
   "metadata": {
    "Collapsed": "false"
   },
   "outputs": [],
   "source": [
    "import json\n",
    "import matplotlib\n",
    "import matplotlib.pyplot as plt\n",
    "import numpy as np\n",
    "import seaborn as sns\n",
    "import corner\n",
    "from astropy import constants as const\n",
    "from gwpy.timeseries import TimeSeries\n",
    "from pycbc.detector import Detector\n",
    "import bilby\n",
    "from pesummary.io import read\n",
    "from math import pi\n",
    "import h5py\n",
    "from scipy.interpolate import InterpolatedUnivariateSpline\n",
    "\n",
    "\n",
    "# Plot parameters\n",
    "matplotlib.rcParams['mathtext.fontset'] = 'stix'\n",
    "matplotlib.rcParams['font.family'] = 'STIXGeneral'\n",
    "matplotlib.rcParams['axes.labelsize'] = 24\n",
    "matplotlib.rcParams['xtick.labelsize'] = 30\n",
    "matplotlib.rcParams['ytick.labelsize'] = 30\n",
    "matplotlib.rcParams['xtick.major.size'] = 20\n",
    "matplotlib.rcParams['ytick.major.size'] = 20\n",
    "matplotlib.rcParams['xtick.top'] = True\n",
    "matplotlib.rcParams['xtick.direction'] = 'in'\n",
    "matplotlib.rcParams['xtick.minor.visible'] = True\n",
    "matplotlib.rcParams['xtick.minor.size'] = 10\n",
    "matplotlib.rcParams['ytick.minor.size'] = 10\n",
    "matplotlib.rcParams['legend.fontsize'] = 18\n",
    "matplotlib.rcParams['legend.frameon'] = True\n",
    "matplotlib.rcParams['lines.linewidth'] = 3"
   ]
  },
  {
   "cell_type": "markdown",
   "metadata": {
    "Collapsed": "false"
   },
   "source": [
    "### Helper functions"
   ]
  },
  {
   "cell_type": "code",
   "execution_count": 55,
   "metadata": {
    "Collapsed": "false"
   },
   "outputs": [],
   "source": [
    "def GetPeakTime(time, data): \n",
    "    \"\"\" Grab the peak time of some data \"\"\"\n",
    "    t_peak = time[np.argmax(data)]\n",
    "    return t_peak\n",
    "\n",
    "def SubtractPeakTime(time, data): \n",
    "    \"\"\" Subtract the peak time of some data \"\"\"\n",
    "    t_peak = GetPeakTime(time, data)\n",
    "    return time - t_peak\n",
    "    \n",
    "def dt_eval(time):\n",
    "    \"\"\" Return the time step of a given time array \"\"\"\n",
    "    return (time[1] - time[0])\n",
    "\n",
    "def swsh(s, modes, theta, phi, psi=0):\n",
    "    \"\"\"\n",
    "    Return a value of a spin-weighted spherical harmonic of spin-weight s. \n",
    "    If passed a list of several modes, then a numpy array is returned with \n",
    "    SWSH values of each mode for the given point.\n",
    "    For one mode:       swsh(s,[(l,m)],theta,phi,psi=0)\n",
    "    For several modes:  swsh(s,[(l1,m1),(l2,m2),(l3,m3),...],theta,phi,psi=0)\n",
    "    \"\"\"\n",
    "    import spherical_functions as sf\n",
    "    import quaternion as qt\n",
    "    return sf.SWSH(qt.from_spherical_coords(theta, phi), s, modes) * np.exp(1j * s * psi)\n",
    "\n",
    "## Helper functions\n",
    "def Ramp(time, t_s, t_r):\n",
    "    \"\"\" Ramp function for tapering the waveform\"\"\"\n",
    "    if (time < t_s):\n",
    "        return 0.0\n",
    "    elif time > (t_s + t_r):\n",
    "        return 1.0\n",
    "    else:\n",
    "        t = (time - t_s)/t_r\n",
    "        return t**5*(126 + t*(-420 + t*(540 + t*(-315 + 70*t))))"
   ]
  },
  {
   "cell_type": "markdown",
   "metadata": {
    "Collapsed": "false"
   },
   "source": [
    "### Grab waveform from frames files"
   ]
  },
  {
   "cell_type": "code",
   "execution_count": 56,
   "metadata": {
    "Collapsed": "false"
   },
   "outputs": [],
   "source": [
    "def GetFramesData(p, det = 'H1'):\n",
    "    \n",
    "    sH = TimeSeries.read(source = p + '/Frames/' + det + '.gwf', channel=det+\":LDAS_STRAIN\")\n",
    "    tH = np.array(sH.times)\n",
    "    return tH, sH"
   ]
  },
  {
   "cell_type": "markdown",
   "metadata": {
    "Collapsed": "false"
   },
   "source": [
    "### Grab injected parameters (for surrogate)"
   ]
  },
  {
   "cell_type": "code",
   "execution_count": 57,
   "metadata": {
    "Collapsed": "false"
   },
   "outputs": [],
   "source": [
    "def GetInjectedParameters(p):\n",
    "    \"\"\" Return a dictionary of values from the parameters.json file \n",
    "        corresponding to the frames, where p is the path to the file \"\"\"\n",
    "    \n",
    "    f = open(p + '/parameters.json')\n",
    "    params = json.load(f)\n",
    "    f.close()\n",
    "    return params"
   ]
  },
  {
   "cell_type": "markdown",
   "metadata": {
    "Collapsed": "false"
   },
   "source": [
    "### Get Bilby parameters"
   ]
  },
  {
   "cell_type": "code",
   "execution_count": 58,
   "metadata": {
    "Collapsed": "false"
   },
   "outputs": [],
   "source": [
    "def GetBilbyParameters(p):\n",
    "\n",
    "    result = bilby.core.result.read_in_result(p + \"/outdir/fast_tutorial_result.json\")\n",
    "    maxL_ind = np.argmax(result.posterior['log_likelihood'])\n",
    "    maxL_point = result.posterior.iloc[maxL_ind]\n",
    "    maxP_ind = np.argmax(result.posterior['log_likelihood'] + result.posterior['log_prior'])\n",
    "    maxP_point = result.posterior.iloc[maxP_ind]\n",
    "    \n",
    "    return maxP_point\n",
    "\n",
    "def GetBilbyDict(BilbyRes):\n",
    "    \n",
    "    BilbyDict = {} ##maxL_point\n",
    "    print(BilbyRes)\n",
    "    BilbyDict['q'] = 1.0/BilbyRes['mass_ratio']\n",
    "    BilbyDict['dt'] = 1.0/2048.\n",
    "    q = BilbyDict['q']\n",
    "    BilbyDict['mass'] = BilbyRes['chirp_mass'] * (q/(1+q)**2)**(-3/5)\n",
    "    BilbyDict['dist_mpc'] = BilbyRes['luminosity_distance'] \n",
    "    BilbyDict['f_low'] = 0.0\n",
    "    BilbyDict['theta'] = BilbyRes['theta_jn']\n",
    "    BilbyDict['phi'] = BilbyRes['phase'] ## Is this right?\n",
    "    a_1 = BilbyRes['a_1']\n",
    "    a_2 = BilbyRes['a_2']\n",
    "    BilbyDict['a_1'] = [0, 0, a_1] ## Assume spin-aligned for now\n",
    "    BilbyDict['a_2'] = [0, 0, -a_2] ## Assume spin anti-aligned for now\n",
    "    BilbyDict['ra'] = BilbyRes['ra']\n",
    "    BilbyDict['dec'] = BilbyRes['dec']\n",
    "    BilbyDict['t_gps'] = BilbyRes['geocent_time']\n",
    "    BilbyDict['pol'] = BilbyRes['psi'] ## Is this right?\n",
    "    return BilbyDict\n",
    "    \n",
    "    "
   ]
  },
  {
   "cell_type": "markdown",
   "metadata": {
    "Collapsed": "false"
   },
   "source": [
    "### Get Surrogate waveforms"
   ]
  },
  {
   "cell_type": "markdown",
   "metadata": {
    "Collapsed": "true"
   },
   "source": [
    "#### Import surrogate"
   ]
  },
  {
   "cell_type": "code",
   "execution_count": 59,
   "metadata": {
    "Collapsed": "false"
   },
   "outputs": [
    {
     "name": "stderr",
     "output_type": "stream",
     "text": [
      "/home/maria.okounkova/.local/lib/python3.6/site-packages/gwsurrogate/new/precessing_surrogate.py:245: H5pyDeprecationWarning: dataset.value has been deprecated. Use dataset[()] instead.\n",
      "  self.t = h5file['t_ds'].value\n",
      "/home/maria.okounkova/.local/lib/python3.6/site-packages/gwsurrogate/new/precessing_surrogate.py:272: H5pyDeprecationWarning: dataset.value has been deprecated. Use dataset[()] instead.\n",
      "  'coefs': group['%s_coefs'%(key)].value,\n",
      "/home/maria.okounkova/.local/lib/python3.6/site-packages/gwsurrogate/new/precessing_surrogate.py:273: H5pyDeprecationWarning: dataset.value has been deprecated. Use dataset[()] instead.\n",
      "  'bfOrders': group['%s_bfOrders'%(key)].value\n",
      "/home/maria.okounkova/.local/lib/python3.6/site-packages/gwsurrogate/new/precessing_surrogate.py:282: H5pyDeprecationWarning: dataset.value has been deprecated. Use dataset[()] instead.\n",
      "  'coefs': group['%s_%d_coefs'%(key, i)].value,\n",
      "/home/maria.okounkova/.local/lib/python3.6/site-packages/gwsurrogate/new/precessing_surrogate.py:283: H5pyDeprecationWarning: dataset.value has been deprecated. Use dataset[()] instead.\n",
      "  'bfOrders': group['%s_%d_bfOrders'%(key, i)].value\n",
      "/home/maria.okounkova/.local/lib/python3.6/site-packages/gwsurrogate/new/precessing_surrogate.py:733: H5pyDeprecationWarning: dataset.value has been deprecated. Use dataset[()] instead.\n",
      "  self.t = h5file['t_coorb'].value\n",
      "/home/maria.okounkova/.local/lib/python3.6/site-packages/gwsurrogate/new/precessing_surrogate.py:691: H5pyDeprecationWarning: dataset.value has been deprecated. Use dataset[()] instead.\n",
      "  data['EI_basis'] = h5_group['EIBasis'].value\n",
      "/home/maria.okounkova/.local/lib/python3.6/site-packages/gwsurrogate/new/precessing_surrogate.py:692: H5pyDeprecationWarning: dataset.value has been deprecated. Use dataset[()] instead.\n",
      "  data['nodeIndices'] = h5_group['nodeIndices'].value\n",
      "/home/maria.okounkova/.local/lib/python3.6/site-packages/gwsurrogate/new/precessing_surrogate.py:694: H5pyDeprecationWarning: dataset.value has been deprecated. Use dataset[()] instead.\n",
      "  for i in range(len(data['nodeIndices']))]\n",
      "/home/maria.okounkova/.local/lib/python3.6/site-packages/gwsurrogate/new/precessing_surrogate.py:696: H5pyDeprecationWarning: dataset.value has been deprecated. Use dataset[()] instead.\n",
      "  for i in range(len(data['nodeIndices']))]\n"
     ]
    },
    {
     "name": "stdout",
     "output_type": "stream",
     "text": [
      "Loaded NRSur7dq4 model\n"
     ]
    }
   ],
   "source": [
    "import gwsurrogate\n",
    "sur = gwsurrogate.LoadSurrogate('NRSur7dq4')"
   ]
  },
  {
   "cell_type": "markdown",
   "metadata": {
    "Collapsed": "false"
   },
   "source": [
    "#### Evaluate Surrogate"
   ]
  },
  {
   "cell_type": "code",
   "execution_count": 73,
   "metadata": {
    "Collapsed": "false"
   },
   "outputs": [],
   "source": [
    "## Surrogate evaluation\n",
    "def EvaluateSurrogate(params_dict):\n",
    "    \"\"\" Evaluate the surrogate waveform \"\"\"\n",
    "   \n",
    "    \"\"\" Surrogate documentation: If inclination/phi_ref are specified, the complex strain (h =\n",
    "             hplus -i hcross) evaluated at (inclination, pi/2 - phi_ref) on\n",
    "             the sky of the reference frame is returned.\n",
    "\n",
    "        In order to agree with NR convetions, need phi_ref = pi/2 - phi\"\"\"\n",
    "\n",
    "    data = sur(params_dict['q'], params_dict['a_1'], params_dict['a_2'], \\\n",
    "               dt = params_dict['dt'], units = 'mks', M = params_dict['mass'], \\\n",
    "               dist_mpc = params_dict['dist_mpc'], f_low = params_dict['f_low'], \\\n",
    "               inclination = params_dict['theta'], ellMax = 4, \\\n",
    "               phi_ref = params_dict['phi'])\n",
    "               #phi_ref = pi/2 - params_dict['phi']) \n",
    "\n",
    "    time = data[0]\n",
    "    h_plus = np.real(data[1])\n",
    "    h_cross = -1 * np.imag(data[1])\n",
    "\n",
    "    ## Now subtract off the peak time (this makes the spine interpolation easier)\n",
    "    amp = np.sqrt(h_plus**2 + h_cross**2)\n",
    "    time = time - time[np.argmax(amp)]\n",
    "\n",
    "    return time, h_plus, h_cross, np.sqrt(h_plus**2 + h_cross**2)\n",
    "\n",
    "\n",
    "## Read in the extrapolated modes\n",
    "def ReadExtrapolatedModes(file, params_dict, interpolate = True):\n",
    "\n",
    "    ## Convert distance to kpc and mass into solar masses\n",
    "    mass = params_dict['mass']\n",
    "    dist_mpc = params_dict['dist_mpc']\n",
    "    theta = params_dict['theta']\n",
    "    phi = params_dict['phi'] \n",
    "    dt = params_dict['dt']\n",
    "    dist_kpc = dist_mpc * 1000 * const.kpc\n",
    "    mass_msun = mass * const.M_sun\n",
    "    \n",
    "    ## Read in the data\n",
    "    f = h5py.File(file, 'r')\n",
    "    \n",
    "    ## grab the length of the waveform first\n",
    "    data = f['Extrapolated_N2.dir']['Y_l2_m2.dat']\n",
    "    time = np.array(data[:,0])\n",
    "    \n",
    "    h_plus = np.zeros(len(time))\n",
    "    h_cross = np.zeros(len(time))\n",
    "\n",
    "    modes = [(l,m) for l in range(2,5) for m in range(-l, l+1)]\n",
    "    for mode in modes: \n",
    "        \n",
    "        ## Grab the mode in question\n",
    "        l = mode[0]\n",
    "        m = mode[1]\n",
    "        \n",
    "        data = f['Extrapolated_N2.dir']['Y_l' + str(l) + '_m' + str(m) + '.dat']\n",
    "        real = np.array(data[:,1])\n",
    "        imag = np.array(data[:,2])\n",
    "        coeff = real + 1j * imag\n",
    "        \n",
    "        ## Multiply by the corresponding spin-weighted spherical harmonic\n",
    "        Ylm = swsh(-2, [(l,m)], theta=theta, phi=phi, psi=0) \n",
    "        h = coeff * Ylm \n",
    "        \n",
    "        ## Add to our h_plus and h_cross computations\n",
    "        h_plus = h_plus + np.real(h)\n",
    "        h_cross = h_cross - np.imag(h) \n",
    "        \n",
    "        \n",
    "    ## Apply the astrophysical parameters\n",
    "    time = time*mass_msun*const.G/(const.c**3)\n",
    "    h_plus = h_plus*const.G*mass_msun/((const.c)**2*dist_kpc)\n",
    "    h_cross = h_cross*const.G*mass_msun/((const.c)**2*dist_kpc)\n",
    "\n",
    "    ## Taper the waveform and apply the ramp (need to start the waveform at zero for this)\n",
    "    time = time - time[0]\n",
    "    ramp = np.array([Ramp(t.value, 0.1, 0.3) for t in time])\n",
    "    \n",
    "    h_plus = h_plus * ramp\n",
    "    h_cross = h_cross * ramp\n",
    "    \n",
    "    # Now subtract off the peak time (this makes the spine interpolation easier)\n",
    "    amp = np.sqrt(h_plus**2 + h_cross**2)\n",
    "    time = time - time[np.argmax(amp)]\n",
    "    \n",
    "    if not interpolate:\n",
    "        print(\"Not performing the interpolation\")\n",
    "        return time, h_plus, h_cross\n",
    "    \n",
    "    ## Now build the interpolants \n",
    "    cs_plus = InterpolatedUnivariateSpline(time, h_plus)\n",
    "    cs_cross = InterpolatedUnivariateSpline(time, h_cross)\n",
    "\n",
    "    ## Now create an evenly-spaced time array and interpolate the data \n",
    "    time_cs = np.arange(time[0].value, time[-1].value, dt)\n",
    "\n",
    "    h_plus_cs = cs_plus(time_cs) \n",
    "    h_cross_cs = cs_cross(time_cs) \n",
    "    \n",
    "    ## Return these new interpolated values\n",
    "    ##return time, h_plus, h_cross, np.sqrt(h_plus**2 + h_cross**2)\n",
    "    return time_cs, h_plus_cs, h_cross_cs, np.sqrt(h_plus_cs**2 + h_cross_cs**2)\n"
   ]
  },
  {
   "cell_type": "markdown",
   "metadata": {
    "Collapsed": "true"
   },
   "source": [
    "### Get BW reconstructed waveforms\n"
   ]
  },
  {
   "cell_type": "code",
   "execution_count": 9,
   "metadata": {
    "Collapsed": "false"
   },
   "outputs": [],
   "source": [
    "def GetBWDir(p):\n",
    "    return p + '/BayesWave/Run/trigtime_1126259462.000000000_0.0_0.0_0/'\n",
    "\n",
    "def GetMedianData(p, det = 'H1'):\n",
    "    \"\"\" Given a coupling constant value and an SNR, return the columns of the median waveform data \"\"\"\n",
    "    \n",
    "    ## Grab Livingston data\n",
    "    f = GetBWDir(p) + \"post/signal/signal_median_time_domain_waveform_\" + det + \".dat\"\n",
    "    time, d1, d2, d3, d4, d5 = np.loadtxt(f, comments=\"#\",usecols=([0,1,2,3,4,5]),unpack=True)\n",
    "    \n",
    "    ## Subtract peak time\n",
    "    time = SubtractPeakTime(time, d1)\n",
    "    \n",
    "    return time, d1 #, d2, d3, d4, d5\n",
    "\n",
    "def GetInjectedData(p, det = 'H1'):\n",
    "\n",
    "    f = GetBWDir(p) + 'post/whitened_data_' + det + '.dat'\n",
    "    data = np.loadtxt(f)\n",
    "    \n",
    "    s_rate = 2048 # Hz\n",
    "    dt = 1.0/s_rate\n",
    "    time = np.array([dt * t for t in range(len(data))])\n",
    "    \n",
    "    time = SubtractPeakTime(time, data)\n",
    "    return time, data"
   ]
  },
  {
   "cell_type": "markdown",
   "metadata": {
    "Collapsed": "false"
   },
   "source": [
    "### Plot reconstructions"
   ]
  },
  {
   "cell_type": "code",
   "execution_count": 61,
   "metadata": {
    "Collapsed": "false"
   },
   "outputs": [],
   "source": [
    "p = '/home/maria.okounkova/BeyondGRAnalysis/BilbyPE/Test_FullSearchNoTiltNoSkyLoc_35_0p99'\n",
    "\n",
    "#BW_inj_time, BW_inj_strain = GetInjectedData(p)\n",
    "#BW_rec_time, BW_rec_strain = GetMedianData(p)\n",
    "#t_frame, data_frame = GetFramesData(p)\n",
    "#BilbyParameters = GetBilbyParameters(p)\n",
    "#bilby_dict = GetBilbyDict(BilbyParameters)\n",
    "#truth_dict = GetInjectedParameters(p)"
   ]
  },
  {
   "cell_type": "code",
   "execution_count": 68,
   "metadata": {},
   "outputs": [
    {
     "data": {
      "text/plain": [
       "{'a_1': [0, 0, 0.329892752405],\n",
       " 'a_2': [0, 0, -0.439940981499],\n",
       " 'mass_ratio': 0.8188310079446952,\n",
       " 'chirp_mass': 29.422167356249002,\n",
       " 'dt': 0.00048828125,\n",
       " 't_gps': 1126259462.0,\n",
       " 'peak_time_in_segment': 8.0,\n",
       " 'segment_length': 16.0,\n",
       " 'dist_mpc': 405.7935217454469,\n",
       " 'mass': 68.0,\n",
       " 'q': 1.2212532137858916,\n",
       " 'chiA': [0, 0, 0.329892752405],\n",
       " 'chiB': [0, 0, -0.439940981499],\n",
       " 'f_low': 0,\n",
       " 'theta': 3.141592653589793,\n",
       " 'phi': 0,\n",
       " 'ra': 1.952318922,\n",
       " 'dec': -1.26967171703,\n",
       " 'pol': 0.824043851821,\n",
       " 'source': 'Waveforms/Lev5/dCS_Strain_0p0.h5',\n",
       " 'H_SNR': 75.0,\n",
       " 'L_SNR': 57.84123272985948}"
      ]
     },
     "execution_count": 68,
     "metadata": {},
     "output_type": "execute_result"
    }
   ],
   "source": [
    "truth_dict"
   ]
  },
  {
   "cell_type": "code",
   "execution_count": null,
   "metadata": {},
   "outputs": [],
   "source": [
    "params_dict = truth_dict\n",
    "file = '/home/maria.okounkova/BeyondGRAnalysis/Waveforms/Lev5/dCS_Strain_0p0.h5'\n",
    "time, h_plus, h_cross, amp = ReadExtrapolatedModes(file, params_dict, interpolate = True)"
   ]
  },
  {
   "cell_type": "code",
   "execution_count": 92,
   "metadata": {
    "Collapsed": "false"
   },
   "outputs": [],
   "source": [
    "truth_dict['phi'] = -pi/4 - 0.0485\n",
    "time_sur, h_plus_sur, h_cross_sur, amp_sur = EvaluateSurrogate(truth_dict)"
   ]
  },
  {
   "cell_type": "code",
   "execution_count": 94,
   "metadata": {},
   "outputs": [
    {
     "data": {
      "image/png": "[encoded data removed]",
      "text/plain": [
       "<Figure size 1008x576 with 1 Axes>"
      ]
     },
     "metadata": {
      "needs_background": "light"
     },
     "output_type": "display_data"
    }
   ],
   "source": [
    "plt.figure(figsize=(14,8))\n",
    "plt.plot(time, h_cross, lw = 1.0)\n",
    "plt.plot(time_sur, h_cross_sur, lw = 1.0)\n",
    "plt.grid()\n",
    "plt.xlim(-0.15, 0.05)\n",
    "plt.show()"
   ]
  },
  {
   "cell_type": "code",
   "execution_count": null,
   "metadata": {},
   "outputs": [],
   "source": [
    "GetBilbyParameters(p)"
   ]
  },
  {
   "cell_type": "code",
   "execution_count": null,
   "metadata": {},
   "outputs": [],
   "source": []
  }
 ],
 "metadata": {
  "kernelspec": {
   "display_name": "Python 3",
   "language": "python",
   "name": "python3"
  },
  "language_info": {
   "codemirror_mode": {
    "name": "ipython",
    "version": 3
   },
   "file_extension": ".py",
   "mimetype": "text/x-python",
   "name": "python",
   "nbconvert_exporter": "python",
   "pygments_lexer": "ipython3",
   "version": "3.6.8"
  }
 },
 "nbformat": 4,
 "nbformat_minor": 4
}
