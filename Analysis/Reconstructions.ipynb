{
 "cells": [
  {
   "cell_type": "markdown",
   "metadata": {
    "Collapsed": "false"
   },
   "source": [
    "## Imports"
   ]
  },
  {
   "cell_type": "code",
   "execution_count": 7,
   "metadata": {
    "Collapsed": "false"
   },
   "outputs": [],
   "source": [
    "import json\n",
    "import matplotlib\n",
    "import matplotlib.pyplot as plt\n",
    "import numpy as np\n",
    "import seaborn as sns\n",
    "import corner\n",
    "from astropy import constants as const\n",
    "from gwpy.timeseries import TimeSeries\n",
    "\n",
    "# Plot parameters\n",
    "matplotlib.rcParams['mathtext.fontset'] = 'stix'\n",
    "matplotlib.rcParams['font.family'] = 'STIXGeneral'\n",
    "matplotlib.rcParams['axes.labelsize'] = 24\n",
    "matplotlib.rcParams['xtick.labelsize'] = 30\n",
    "matplotlib.rcParams['ytick.labelsize'] = 30\n",
    "matplotlib.rcParams['xtick.major.size'] = 20\n",
    "matplotlib.rcParams['ytick.major.size'] = 20\n",
    "matplotlib.rcParams['xtick.top'] = True\n",
    "matplotlib.rcParams['xtick.direction'] = 'in'\n",
    "matplotlib.rcParams['xtick.minor.visible'] = True\n",
    "matplotlib.rcParams['xtick.minor.size'] = 10\n",
    "matplotlib.rcParams['ytick.minor.size'] = 10\n",
    "matplotlib.rcParams['legend.fontsize'] = 18\n",
    "matplotlib.rcParams['legend.frameon'] = True\n",
    "matplotlib.rcParams['lines.linewidth'] = 3"
   ]
  },
  {
   "cell_type": "markdown",
   "metadata": {
    "Collapsed": "false"
   },
   "source": [
    "### Helper functions"
   ]
  },
  {
   "cell_type": "code",
   "execution_count": 4,
   "metadata": {
    "Collapsed": "false"
   },
   "outputs": [],
   "source": [
    "def GetPeakTime(time, data): \n",
    "    \"\"\" Grab the peak time of some data \"\"\"\n",
    "    t_peak = time[np.argmax(data)]\n",
    "    return t_peak\n",
    "\n",
    "def SubtractPeakTime(time, data): \n",
    "    \"\"\" Subtract the peak time of some data \"\"\"\n",
    "    t_peak = GetPeakTime(time, data)\n",
    "    return time - t_peak\n",
    "    "
   ]
  },
  {
   "cell_type": "markdown",
   "metadata": {
    "Collapsed": "false"
   },
   "source": [
    "### Grab waveform from frames files"
   ]
  },
  {
   "cell_type": "code",
   "execution_count": 12,
   "metadata": {
    "Collapsed": "false"
   },
   "outputs": [],
   "source": [
    "def GetFramesData(p, det = 'H1'):\n",
    "    \n",
    "    sH = TimeSeries.read(source = p + '/Frames_dCS/' + det + '.gwf', channel=det+\":LDAS_STRAIN\")\n",
    "    tH = np.array(sH.times)\n",
    "    tH = SubtractPeakTime(tH, sH)\n",
    "    return tH, sH"
   ]
  },
  {
   "cell_type": "markdown",
   "metadata": {
    "Collapsed": "false"
   },
   "source": [
    "### Get BW reconstructed waveforms"
   ]
  },
  {
   "cell_type": "markdown",
   "metadata": {
    "Collapsed": "false"
   },
   "source": [
    "### Get Surrogate waveforms"
   ]
  },
  {
   "cell_type": "markdown",
   "metadata": {
    "Collapsed": "true"
   },
   "source": [
    "#### Import surrogate"
   ]
  },
  {
   "cell_type": "code",
   "execution_count": 23,
   "metadata": {
    "Collapsed": "false"
   },
   "outputs": [
    {
     "name": "stderr",
     "output_type": "stream",
     "text": [
      "/home/maria.okounkova/.local/lib/python3.6/site-packages/gwtools/rotations.py:63: UserWarning: Could not import GWFrames, needed for rotations module\n",
      "  _warnings.warn(\"Could not import GWFrames, needed for rotations module\")\n",
      "/home/maria.okounkova/.local/lib/python3.6/site-packages/gwtools/__init__.py:11: UserWarning: Could not import rotations, decompositions, or fitfuncs. These are not needed by GWSurrogate.\n",
      "  _warnings.warn(\"Could not import rotations, decompositions, or fitfuncs. These are not needed by GWSurrogate.\")\n"
     ]
    },
    {
     "name": "stdout",
     "output_type": "stream",
     "text": [
      "setting __package__ to gwsurrogate.new so relative imports work\n",
      "__name__ = gwsurrogate.new.spline_evaluation\n",
      "__package__= gwsurrogate.new\n",
      "setting __package__ to gwsurrogate.new so relative imports work\n",
      "setting __package__ to gwsurrogate.new so relative imports work\n"
     ]
    },
    {
     "name": "stderr",
     "output_type": "stream",
     "text": [
      "/home/maria.okounkova/.local/lib/python3.6/site-packages/gwsurrogate/new/precessing_surrogate.py:245: H5pyDeprecationWarning: dataset.value has been deprecated. Use dataset[()] instead.\n",
      "  self.t = h5file['t_ds'].value\n",
      "/home/maria.okounkova/.local/lib/python3.6/site-packages/gwsurrogate/new/precessing_surrogate.py:272: H5pyDeprecationWarning: dataset.value has been deprecated. Use dataset[()] instead.\n",
      "  'coefs': group['%s_coefs'%(key)].value,\n",
      "/home/maria.okounkova/.local/lib/python3.6/site-packages/gwsurrogate/new/precessing_surrogate.py:273: H5pyDeprecationWarning: dataset.value has been deprecated. Use dataset[()] instead.\n",
      "  'bfOrders': group['%s_bfOrders'%(key)].value\n",
      "/home/maria.okounkova/.local/lib/python3.6/site-packages/gwsurrogate/new/precessing_surrogate.py:282: H5pyDeprecationWarning: dataset.value has been deprecated. Use dataset[()] instead.\n",
      "  'coefs': group['%s_%d_coefs'%(key, i)].value,\n",
      "/home/maria.okounkova/.local/lib/python3.6/site-packages/gwsurrogate/new/precessing_surrogate.py:283: H5pyDeprecationWarning: dataset.value has been deprecated. Use dataset[()] instead.\n",
      "  'bfOrders': group['%s_%d_bfOrders'%(key, i)].value\n",
      "/home/maria.okounkova/.local/lib/python3.6/site-packages/gwsurrogate/new/precessing_surrogate.py:733: H5pyDeprecationWarning: dataset.value has been deprecated. Use dataset[()] instead.\n",
      "  self.t = h5file['t_coorb'].value\n",
      "/home/maria.okounkova/.local/lib/python3.6/site-packages/gwsurrogate/new/precessing_surrogate.py:691: H5pyDeprecationWarning: dataset.value has been deprecated. Use dataset[()] instead.\n",
      "  data['EI_basis'] = h5_group['EIBasis'].value\n",
      "/home/maria.okounkova/.local/lib/python3.6/site-packages/gwsurrogate/new/precessing_surrogate.py:692: H5pyDeprecationWarning: dataset.value has been deprecated. Use dataset[()] instead.\n",
      "  data['nodeIndices'] = h5_group['nodeIndices'].value\n",
      "/home/maria.okounkova/.local/lib/python3.6/site-packages/gwsurrogate/new/precessing_surrogate.py:694: H5pyDeprecationWarning: dataset.value has been deprecated. Use dataset[()] instead.\n",
      "  for i in range(len(data['nodeIndices']))]\n",
      "/home/maria.okounkova/.local/lib/python3.6/site-packages/gwsurrogate/new/precessing_surrogate.py:696: H5pyDeprecationWarning: dataset.value has been deprecated. Use dataset[()] instead.\n",
      "  for i in range(len(data['nodeIndices']))]\n"
     ]
    },
    {
     "name": "stdout",
     "output_type": "stream",
     "text": [
      "Loaded NRSur7dq4 model\n"
     ]
    }
   ],
   "source": [
    "import gwsurrogate\n",
    "sur = gwsurrogate.LoadSurrogate('NRSur7dq4')"
   ]
  },
  {
   "cell_type": "markdown",
   "metadata": {
    "Collapsed": "false"
   },
   "source": [
    "#### Evaluate Surrogate"
   ]
  },
  {
   "cell_type": "code",
   "execution_count": null,
   "metadata": {
    "Collapsed": "false"
   },
   "outputs": [],
   "source": [
    "\n",
    "\n",
    "def \n",
    "\n",
    "time_sur, h_plus_sur, h_cross_sur, amp_sur = EvaluateSurrogate(params_dict, surrogate_projection=True)\n",
    "\n",
    "\n",
    "## Surrogate evaluation\n",
    "def EvaluateSurrogate(params_dict, surrogate_projection=True):\n",
    "    \"\"\" Evaluate the surrogate waveform \n",
    "        If surrogate_projection is true, then use the native surrogate inclination calculation routine\n",
    "        Otherwise combine ourselves using SWSH\"\"\"\n",
    "    \n",
    "    if (surrogate_projection):\n",
    "        ## Use the native surrogate inclination computation\n",
    "   \n",
    "        \"\"\" Surrogate documentation: If inclination/phi_ref are specified, the complex strain (h =\n",
    "                 hplus -i hcross) evaluated at (inclination, pi/2 - phi_ref) on\n",
    "                 the sky of the reference frame is returned.\n",
    "         \n",
    "            In order to agree with NR convetions, need phi_ref = pi/2 - phi\"\"\"\n",
    "\n",
    "        data = sur(params_dict['q'], params_dict['a_1'], params_dict['a_2'], \\\n",
    "                   dt = params_dict['dt'], units = 'mks', M = params_dict['mass'], \\\n",
    "                   dist_mpc = params_dict['dist_mpc'], f_low = params_dict['f_low'], \\\n",
    "                   inclination = params_dict['theta'], ellMax = 4, phi_ref = pi/2 - params_dict['phi']) \n",
    "\n",
    "        time = data[0]\n",
    "        h_plus = np.real(data[1])\n",
    "        h_cross = -1 * np.imag(data[1])\n",
    "        \n",
    "        time = time - time[0]\n",
    "        #ramp = np.array([Ramp(t, 0.27, 0.3) for t in time])\n",
    "        ramp = np.array([Ramp(t, 0.22, 0.25) for t in time])\n",
    "    \n",
    "        h_plus = h_plus * ramp\n",
    "        h_cross = h_cross * ramp\n",
    "    \n",
    "        ## Now subtract off the peak time (this makes the spine interpolation easier)\n",
    "        amp = np.sqrt(h_plus**2 + h_cross**2)\n",
    "        time = time - time[np.argmax(amp)]\n",
    "    \n",
    "        return time, h_plus, h_cross, np.sqrt(h_plus**2 + h_cross**2)\n",
    "    \n",
    "    "
   ]
  },
  {
   "cell_type": "code",
   "execution_count": 21,
   "metadata": {
    "Collapsed": "false"
   },
   "outputs": [],
   "source": [
    "def GetBWDir(p):\n",
    "    return p + '/BayesWave/Run/trigtime_1126259462.000000000_0.0_0.0_0/'\n",
    "\n",
    "def GetMedianData(p, det = 'H1'):\n",
    "    \"\"\" Given a coupling constant value and an SNR, return the columns of the median waveform data \"\"\"\n",
    "    \n",
    "    ## Grab Livingston data\n",
    "    f = GetBWDir(p) + \"post/signal/signal_median_time_domain_waveform_\" + det + \".dat\"\n",
    "    time, d1, d2, d3, d4, d5 = np.loadtxt(f, comments=\"#\",usecols=([0,1,2,3,4,5]),unpack=True)\n",
    "    \n",
    "    ## Subtract peak time\n",
    "    time = SubtractPeakTime(time, d1)\n",
    "    \n",
    "    return time, d1 #, d2, d3, d4, d5\n",
    "\n",
    "def GetInjectedData(p, det = 'H1'):\n",
    "\n",
    "    f = GetBWDir(p) + 'post/whitened_data_' + det + '.dat'\n",
    "    data = np.loadtxt(f)\n",
    "    \n",
    "    s_rate = 2048 # Hz\n",
    "    dt = 1.0/s_rate\n",
    "    time = np.array([dt * t for t in range(len(data))])\n",
    "    \n",
    "    time = SubtractPeakTime(time, data)\n",
    "    return time, data"
   ]
  },
  {
   "cell_type": "markdown",
   "metadata": {
    "Collapsed": "false"
   },
   "source": [
    "### Plot reconstructions"
   ]
  },
  {
   "cell_type": "code",
   "execution_count": 22,
   "metadata": {
    "Collapsed": "false"
   },
   "outputs": [
    {
     "data": {
      "image/png": "[encoded data removed]",
      "text/plain": [
       "<Figure size 720x720 with 1 Axes>"
      ]
     },
     "metadata": {
      "needs_background": "light"
     },
     "output_type": "display_data"
    }
   ],
   "source": [
    "p = '/home/maria.okounkova/BeyondGRAnalysis/BilbyPE/dCS_0p0_75'\n",
    "\n",
    "t_inj, data_inj = GetInjectedData(p)\n",
    "t_med, data_med = GetMedianData(p)\n",
    "t_frame, data_frame = GetFramesData(p)\n",
    "\n",
    "plt.figure(figsize=(10,10))\n",
    "plt.plot(t_inj, data_inj)\n",
    "plt.plot(t_med, data_med)\n",
    "#plt.plot(t_frame, data_frame)\n",
    "plt.show()"
   ]
  },
  {
   "cell_type": "markdown",
   "metadata": {
    "Collapsed": "false"
   },
   "source": [
    "## Compute overlaps"
   ]
  },
  {
   "cell_type": "code",
   "execution_count": 61,
   "metadata": {
    "Collapsed": "false"
   },
   "outputs": [
    {
     "name": "stdout",
     "output_type": "stream",
     "text": [
      "/home/maria.okounkova/BeyondGRAnalysis/Frames/dCS_0p0/dCS_0p0_mtotal_68_dist_400/BW_dCS_0p0_mtotal_68_dist_400/trigtime_1126259462.410700560_0.0_0.0_0/\n",
      "/home/maria.okounkova/BeyondGRAnalysis/Frames/dCS_0p0/dCS_0p0_mtotal_68_dist_400/BW_dCS_0p0_mtotal_68_dist_400/trigtime_1126259462.410700560_0.0_0.0_0/\n",
      "/home/maria.okounkova/BeyondGRAnalysis/Frames/dCS_0p0/dCS_0p0_mtotal_68_dist_400/BW_dCS_0p0_mtotal_68_dist_400/trigtime_1126259462.410700560_0.0_0.0_0/\n",
      "/home/maria.okounkova/BeyondGRAnalysis/Frames/dCS_0p0/dCS_0p0_mtotal_68_dist_400/BW_dCS_0p0_mtotal_68_dist_400/trigtime_1126259462.410700560_0.0_0.0_0/\n",
      "/home/maria.okounkova/BeyondGRAnalysis/Frames/dCS_0p0/dCS_0p0_mtotal_68_dist_400/BW_dCS_0p0_mtotal_68_dist_400/trigtime_1126259462.410700560_0.0_0.0_0/\n",
      "/home/maria.okounkova/BeyondGRAnalysis/Frames/dCS_0p0/dCS_0p0_mtotal_68_dist_400/BW_dCS_0p0_mtotal_68_dist_400/trigtime_1126259462.410700560_0.0_0.0_0/\n",
      "[0.001494397364503408]\n",
      "0.0 m\n",
      "/home/maria.okounkova/BeyondGRAnalysis/Frames/dCS_0p1/dCS_0p1_mtotal_68_dist_400/BW_dCS_0p1_mtotal_68_dist_400/trigtime_1126259462.410700560_0.0_0.0_0/\n",
      "/home/maria.okounkova/BeyondGRAnalysis/Frames/dCS_0p1/dCS_0p1_mtotal_68_dist_400/BW_dCS_0p1_mtotal_68_dist_400/trigtime_1126259462.410700560_0.0_0.0_0/\n",
      "/home/maria.okounkova/BeyondGRAnalysis/Frames/dCS_0p1/dCS_0p1_mtotal_68_dist_400/BW_dCS_0p1_mtotal_68_dist_400/trigtime_1126259462.410700560_0.0_0.0_0/\n",
      "/home/maria.okounkova/BeyondGRAnalysis/Frames/dCS_0p1/dCS_0p1_mtotal_68_dist_400/BW_dCS_0p1_mtotal_68_dist_400/trigtime_1126259462.410700560_0.0_0.0_0/\n",
      "/home/maria.okounkova/BeyondGRAnalysis/Frames/dCS_0p1/dCS_0p1_mtotal_68_dist_400/BW_dCS_0p1_mtotal_68_dist_400/trigtime_1126259462.410700560_0.0_0.0_0/\n",
      "/home/maria.okounkova/BeyondGRAnalysis/Frames/dCS_0p1/dCS_0p1_mtotal_68_dist_400/BW_dCS_0p1_mtotal_68_dist_400/trigtime_1126259462.410700560_0.0_0.0_0/\n",
      "[0.0013922268570017993]\n",
      "10.04105025874085 m\n",
      "/home/maria.okounkova/BeyondGRAnalysis/Frames/dCS_0p2/dCS_0p2_mtotal_68_dist_400/BW_dCS_0p2_mtotal_68_dist_400/trigtime_1126259462.410700560_0.0_0.0_0/\n",
      "/home/maria.okounkova/BeyondGRAnalysis/Frames/dCS_0p2/dCS_0p2_mtotal_68_dist_400/BW_dCS_0p2_mtotal_68_dist_400/trigtime_1126259462.410700560_0.0_0.0_0/\n",
      "/home/maria.okounkova/BeyondGRAnalysis/Frames/dCS_0p2/dCS_0p2_mtotal_68_dist_400/BW_dCS_0p2_mtotal_68_dist_400/trigtime_1126259462.410700560_0.0_0.0_0/\n",
      "/home/maria.okounkova/BeyondGRAnalysis/Frames/dCS_0p2/dCS_0p2_mtotal_68_dist_400/BW_dCS_0p2_mtotal_68_dist_400/trigtime_1126259462.410700560_0.0_0.0_0/\n",
      "/home/maria.okounkova/BeyondGRAnalysis/Frames/dCS_0p2/dCS_0p2_mtotal_68_dist_400/BW_dCS_0p2_mtotal_68_dist_400/trigtime_1126259462.410700560_0.0_0.0_0/\n",
      "/home/maria.okounkova/BeyondGRAnalysis/Frames/dCS_0p2/dCS_0p2_mtotal_68_dist_400/BW_dCS_0p2_mtotal_68_dist_400/trigtime_1126259462.410700560_0.0_0.0_0/\n",
      "[0.000703895395066656]\n",
      "20.0821005174817 m\n",
      "/home/maria.okounkova/BeyondGRAnalysis/Frames/dCS_0p25/dCS_0p25_mtotal_68_dist_400/BW_dCS_0p25_mtotal_68_dist_400/trigtime_1126259462.410700560_0.0_0.0_0/\n",
      "/home/maria.okounkova/BeyondGRAnalysis/Frames/dCS_0p25/dCS_0p25_mtotal_68_dist_400/BW_dCS_0p25_mtotal_68_dist_400/trigtime_1126259462.410700560_0.0_0.0_0/\n",
      "/home/maria.okounkova/BeyondGRAnalysis/Frames/dCS_0p25/dCS_0p25_mtotal_68_dist_400/BW_dCS_0p25_mtotal_68_dist_400/trigtime_1126259462.410700560_0.0_0.0_0/\n",
      "/home/maria.okounkova/BeyondGRAnalysis/Frames/dCS_0p25/dCS_0p25_mtotal_68_dist_400/BW_dCS_0p25_mtotal_68_dist_400/trigtime_1126259462.410700560_0.0_0.0_0/\n",
      "/home/maria.okounkova/BeyondGRAnalysis/Frames/dCS_0p25/dCS_0p25_mtotal_68_dist_400/BW_dCS_0p25_mtotal_68_dist_400/trigtime_1126259462.410700560_0.0_0.0_0/\n",
      "/home/maria.okounkova/BeyondGRAnalysis/Frames/dCS_0p25/dCS_0p25_mtotal_68_dist_400/BW_dCS_0p25_mtotal_68_dist_400/trigtime_1126259462.410700560_0.0_0.0_0/\n",
      "[0.0008763687614234961]\n",
      "25.102625646852122 m\n",
      "/home/maria.okounkova/BeyondGRAnalysis/Frames/dCS_0p3/dCS_0p3_mtotal_68_dist_400/BW_dCS_0p3_mtotal_68_dist_400/trigtime_1126259462.410700560_0.0_0.0_0/\n",
      "/home/maria.okounkova/BeyondGRAnalysis/Frames/dCS_0p3/dCS_0p3_mtotal_68_dist_400/BW_dCS_0p3_mtotal_68_dist_400/trigtime_1126259462.410700560_0.0_0.0_0/\n",
      "/home/maria.okounkova/BeyondGRAnalysis/Frames/dCS_0p3/dCS_0p3_mtotal_68_dist_400/BW_dCS_0p3_mtotal_68_dist_400/trigtime_1126259462.410700560_0.0_0.0_0/\n",
      "/home/maria.okounkova/BeyondGRAnalysis/Frames/dCS_0p3/dCS_0p3_mtotal_68_dist_400/BW_dCS_0p3_mtotal_68_dist_400/trigtime_1126259462.410700560_0.0_0.0_0/\n",
      "/home/maria.okounkova/BeyondGRAnalysis/Frames/dCS_0p3/dCS_0p3_mtotal_68_dist_400/BW_dCS_0p3_mtotal_68_dist_400/trigtime_1126259462.410700560_0.0_0.0_0/\n",
      "/home/maria.okounkova/BeyondGRAnalysis/Frames/dCS_0p3/dCS_0p3_mtotal_68_dist_400/BW_dCS_0p3_mtotal_68_dist_400/trigtime_1126259462.410700560_0.0_0.0_0/\n",
      "[0.0008818223197684105]\n",
      "30.123150776222545 m\n"
     ]
    },
    {
     "data": {
      "image/png": "[encoded data removed]",
      "text/plain": [
       "<Figure size 864x360 with 1 Axes>"
      ]
     },
     "metadata": {
      "image/png": {
       "height": 352,
       "width": 856
      },
      "needs_background": "light"
     },
     "output_type": "display_data"
    }
   ],
   "source": [
    "\n",
    "def InnerProduct(freq, hA, hB, PSD):\n",
    "\n",
    "    \"\"\" Compute the inner product using the conventions of \n",
    "    https://arxiv.org/abs/2003.09456 Eq. 8\"\"\"\n",
    "    \n",
    "    ## Spacing in frequency\n",
    "    df = freq[1] - freq[0]\n",
    "    \n",
    "    ## Terms inside the integral\n",
    "    product = hA * np.conj(hB) / PSD \n",
    "    \n",
    "    ## Compute the integral \n",
    "    total = 4.0 * np.real(np.sum(product)) * df\n",
    "    return total\n",
    "    \n",
    "def Overlap(ell, dist_mpc, mass):\n",
    "    \n",
    "    \"\"\" Compute the overlap between the injected \n",
    "        waveform and the BW waveform for a given dCS\n",
    "        coupling constant and SNR. Uses the conventions \n",
    "        of https://arxiv.org/abs/2003.09456 \"\"\"\n",
    "    \n",
    "    ## compute the network inner products\n",
    "    \n",
    "    total_bw_inj = 0.0\n",
    "    total_bw_bw = 0.0\n",
    "    total_inj_inj = 0.0\n",
    "    \n",
    "    ## Compute the inner products summer over detectors.\n",
    "    ## See Eq. 7 of https://arxiv.org/abs/2003.09456\n",
    "    for detector in [\"L1\", \"H1\"]:\n",
    "        \n",
    "        ## Grab the psd, bw, and injected data for this detector\n",
    "        freq, psd = GetPSD(ell, dist_mpc, mass, detector)\n",
    "        freq, bw, d2, d3, d4, d5 = GetBWFrequencyDomainWaveform(ell, dist_mpc, mass, detector)\n",
    "        freq, inj = GetInjectedFrequencyDomainWaveform(ell, dist_mpc, mass, detector)\n",
    "        \n",
    "        total_bw_inj = total_bw_inj + InnerProduct(freq, bw, inj, psd)\n",
    "        total_bw_bw = total_bw_bw + InnerProduct(freq, bw, bw, psd)\n",
    "        total_inj_inj = total_inj_inj + InnerProduct(freq, inj, inj, psd)\n",
    "        \n",
    "    #print(total_bw_inj, total_bw_bw, total_inj_inj)\n",
    "    \n",
    "    ## Eq. 6 in https://arxiv.org/abs/2003.09456\n",
    "    overlap = total_bw_inj / np.sqrt(total_bw_bw  * total_inj_inj)\n",
    "    return overlap\n",
    "    \n",
    "\n",
    "plt.figure(figsize=(12, 5))\n",
    "\n",
    "ells = [0.0, 0.1, 0.2, 0.25, 0.3]\n",
    "#colors = ['blue', '#148c8a', '#45ba7e']\n",
    "dist_arr = [400]\n",
    "mass = 68\n",
    "\n",
    "for ell in ells:\n",
    "    \n",
    "    ## compute the overlap for the median waveform\n",
    "    deltas = [1.0 - Overlap(ell, dist, mass) for dist in dist_arr]\n",
    "    print(deltas)\n",
    "    plt.plot(dist_arr, deltas, '--o', label=r'$\\ell$ = ' + EllinKm(ell, mass), markersize=10)\n",
    "    \n",
    "## Add in 1/SNR^2 curve \n",
    "#snrs = np.linspace(SNRs[0], SNRs[-1], 100)\n",
    "#snr_curve = snrs**-2.0\n",
    "#plt.plot(snrs, snr_curve*100, color='black')\n",
    "plt.legend()\n",
    "plt.yscale('log')\n",
    "plt.xscale('log')\n",
    "plt.ylabel('$\\Delta_\\mathrm{B,I}$')\n",
    "plt.xlabel('Dist [mpc]')\n",
    "plt.tight_layout()\n",
    "plt.savefig('Deltas.pdf')\n",
    "\n",
    "plt.show()\n",
    "    "
   ]
  },
  {
   "cell_type": "code",
   "execution_count": null,
   "metadata": {
    "Collapsed": "false"
   },
   "outputs": [],
   "source": []
  }
 ],
 "metadata": {
  "kernelspec": {
   "display_name": "Python 3",
   "language": "python",
   "name": "python3"
  },
  "language_info": {
   "codemirror_mode": {
    "name": "ipython",
    "version": 3
   },
   "file_extension": ".py",
   "mimetype": "text/x-python",
   "name": "python",
   "nbconvert_exporter": "python",
   "pygments_lexer": "ipython3",
   "version": "3.6.8"
  }
 },
 "nbformat": 4,
 "nbformat_minor": 4
}
