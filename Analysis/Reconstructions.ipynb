{
 "cells": [
  {
   "cell_type": "markdown",
   "metadata": {
    "Collapsed": "false"
   },
   "source": [
    "### Imports"
   ]
  },
  {
   "cell_type": "code",
   "execution_count": 7,
   "metadata": {
    "Collapsed": "false"
   },
   "outputs": [],
   "source": [
    "import json\n",
    "import matplotlib\n",
    "import matplotlib.pyplot as plt\n",
    "import numpy as np\n",
    "import seaborn as sns\n",
    "import corner\n",
    "from astropy import constants as const\n",
    "from gwpy.timeseries import TimeSeries\n",
    "from pycbc.detector import Detector\n",
    "import bilby\n",
    "from pesummary.io import read\n",
    "from math import pi\n",
    "\n",
    "\n",
    "# Plot parameters\n",
    "matplotlib.rcParams['mathtext.fontset'] = 'stix'\n",
    "matplotlib.rcParams['font.family'] = 'STIXGeneral'\n",
    "matplotlib.rcParams['axes.labelsize'] = 24\n",
    "matplotlib.rcParams['xtick.labelsize'] = 30\n",
    "matplotlib.rcParams['ytick.labelsize'] = 30\n",
    "matplotlib.rcParams['xtick.major.size'] = 20\n",
    "matplotlib.rcParams['ytick.major.size'] = 20\n",
    "matplotlib.rcParams['xtick.top'] = True\n",
    "matplotlib.rcParams['xtick.direction'] = 'in'\n",
    "matplotlib.rcParams['xtick.minor.visible'] = True\n",
    "matplotlib.rcParams['xtick.minor.size'] = 10\n",
    "matplotlib.rcParams['ytick.minor.size'] = 10\n",
    "matplotlib.rcParams['legend.fontsize'] = 18\n",
    "matplotlib.rcParams['legend.frameon'] = True\n",
    "matplotlib.rcParams['lines.linewidth'] = 3"
   ]
  },
  {
   "cell_type": "markdown",
   "metadata": {
    "Collapsed": "false"
   },
   "source": [
    "### Helper functions"
   ]
  },
  {
   "cell_type": "code",
   "execution_count": 8,
   "metadata": {
    "Collapsed": "false"
   },
   "outputs": [],
   "source": [
    "def GetPeakTime(time, data): \n",
    "    \"\"\" Grab the peak time of some data \"\"\"\n",
    "    t_peak = time[np.argmax(data)]\n",
    "    return t_peak\n",
    "\n",
    "def SubtractPeakTime(time, data): \n",
    "    \"\"\" Subtract the peak time of some data \"\"\"\n",
    "    t_peak = GetPeakTime(time, data)\n",
    "    return time - t_peak\n",
    "    \n",
    "def dt_eval(time):\n",
    "    \"\"\" Return the time step of a given time array \"\"\"\n",
    "    return (time[1] - time[0])"
   ]
  },
  {
   "cell_type": "markdown",
   "metadata": {
    "Collapsed": "false"
   },
   "source": [
    "### Grab waveform from frames files"
   ]
  },
  {
   "cell_type": "code",
   "execution_count": 9,
   "metadata": {
    "Collapsed": "false"
   },
   "outputs": [],
   "source": [
    "def GetFramesData(p, det = 'H1'):\n",
    "    \n",
    "    sH = TimeSeries.read(source = p + '/Frames/' + det + '.gwf', channel=det+\":LDAS_STRAIN\")\n",
    "    tH = np.array(sH.times)\n",
    "    return tH, sH"
   ]
  },
  {
   "cell_type": "markdown",
   "metadata": {
    "Collapsed": "false"
   },
   "source": [
    "### Grab injected parameters (for surrogate)"
   ]
  },
  {
   "cell_type": "code",
   "execution_count": 4,
   "metadata": {
    "Collapsed": "false"
   },
   "outputs": [],
   "source": [
    "def GetInjectedParameters(p):\n",
    "    \"\"\" Return a dictionary of values from the parameters.json file \n",
    "        corresponding to the frames, where p is the path to the file \"\"\"\n",
    "    \n",
    "    f = open(p + '/parameters.json')\n",
    "    params = json.load(f)\n",
    "    f.close()\n",
    "    return params"
   ]
  },
  {
   "cell_type": "markdown",
   "metadata": {
    "Collapsed": "false"
   },
   "source": [
    "### Get Bilby parameters"
   ]
  },
  {
   "cell_type": "code",
   "execution_count": 28,
   "metadata": {
    "Collapsed": "false"
   },
   "outputs": [],
   "source": [
    "def GetBilbyParameters(p):\n",
    "\n",
    "    result = bilby.core.result.read_in_result(p + \"/outdir/fast_tutorial_result.json\")\n",
    "    maxL_ind = np.argmax(result.posterior['log_likelihood'])\n",
    "    maxL_point = result.posterior.iloc[maxL_ind]\n",
    "    maxP_ind = np.argmax(result.posterior['log_likelihood'] + result.posterior['log_prior'])\n",
    "    maxP_point = result.posterior.iloc[maxP_ind]\n",
    "    \n",
    "    return maxP_point\n",
    "\n",
    "def GetBilbyDict(BilbyRes):\n",
    "    \n",
    "    BilbyDict = {} ##maxL_point\n",
    "    print(BilbyRes)\n",
    "    BilbyDict['q'] = 1.0/BilbyRes['mass_ratio']\n",
    "    BilbyDict['dt'] = 1.0/2048.\n",
    "    q = BilbyDict['q']\n",
    "    BilbyDict['mass'] = BilbyRes['chirp_mass'] * (q/(1+q)**2)**(-3/5)\n",
    "    BilbyDict['dist_mpc'] = BilbyRes['luminosity_distance'] \n",
    "    BilbyDict['f_low'] = 0.0\n",
    "    BilbyDict['theta'] = BilbyRes['theta_jn']\n",
    "    BilbyDict['phi'] = BilbyRes['phase'] ## Is this right?\n",
    "    a_1 = BilbyRes['a_1']\n",
    "    a_2 = BilbyRes['a_2']\n",
    "    BilbyDict['a_1'] = [0, 0, a_1] ## Assume spin-aligned for now\n",
    "    BilbyDict['a_2'] = [0, 0, -a_2] ## Assume spin anti-aligned for now\n",
    "    BilbyDict['ra'] = BilbyRes['ra']\n",
    "    BilbyDict['dec'] = BilbyRes['dec']\n",
    "    BilbyDict['t_gps'] = BilbyRes['geocent_time']\n",
    "    BilbyDict['pol'] = BilbyRes['psi'] ## Is this right?\n",
    "    return BilbyDict\n",
    "    \n",
    "    "
   ]
  },
  {
   "cell_type": "markdown",
   "metadata": {
    "Collapsed": "false"
   },
   "source": [
    "### Get Surrogate waveforms"
   ]
  },
  {
   "cell_type": "markdown",
   "metadata": {
    "Collapsed": "true"
   },
   "source": [
    "#### Import surrogate"
   ]
  },
  {
   "cell_type": "code",
   "execution_count": 6,
   "metadata": {
    "Collapsed": "false"
   },
   "outputs": [
    {
     "name": "stderr",
     "output_type": "stream",
     "text": [
      "/home/maria.okounkova/.local/lib/python3.6/site-packages/gwtools/rotations.py:63: UserWarning: Could not import GWFrames, needed for rotations module\n",
      "  _warnings.warn(\"Could not import GWFrames, needed for rotations module\")\n",
      "/home/maria.okounkova/.local/lib/python3.6/site-packages/gwtools/__init__.py:11: UserWarning: Could not import rotations, decompositions, or fitfuncs. These are not needed by GWSurrogate.\n",
      "  _warnings.warn(\"Could not import rotations, decompositions, or fitfuncs. These are not needed by GWSurrogate.\")\n"
     ]
    },
    {
     "name": "stdout",
     "output_type": "stream",
     "text": [
      "setting __package__ to gwsurrogate.new so relative imports work\n",
      "__name__ = gwsurrogate.new.spline_evaluation\n",
      "__package__= gwsurrogate.new\n",
      "setting __package__ to gwsurrogate.new so relative imports work\n",
      "setting __package__ to gwsurrogate.new so relative imports work\n"
     ]
    },
    {
     "name": "stderr",
     "output_type": "stream",
     "text": [
      "/home/maria.okounkova/.local/lib/python3.6/site-packages/gwsurrogate/new/precessing_surrogate.py:245: H5pyDeprecationWarning: dataset.value has been deprecated. Use dataset[()] instead.\n",
      "  self.t = h5file['t_ds'].value\n",
      "/home/maria.okounkova/.local/lib/python3.6/site-packages/gwsurrogate/new/precessing_surrogate.py:272: H5pyDeprecationWarning: dataset.value has been deprecated. Use dataset[()] instead.\n",
      "  'coefs': group['%s_coefs'%(key)].value,\n",
      "/home/maria.okounkova/.local/lib/python3.6/site-packages/gwsurrogate/new/precessing_surrogate.py:273: H5pyDeprecationWarning: dataset.value has been deprecated. Use dataset[()] instead.\n",
      "  'bfOrders': group['%s_bfOrders'%(key)].value\n",
      "/home/maria.okounkova/.local/lib/python3.6/site-packages/gwsurrogate/new/precessing_surrogate.py:282: H5pyDeprecationWarning: dataset.value has been deprecated. Use dataset[()] instead.\n",
      "  'coefs': group['%s_%d_coefs'%(key, i)].value,\n",
      "/home/maria.okounkova/.local/lib/python3.6/site-packages/gwsurrogate/new/precessing_surrogate.py:283: H5pyDeprecationWarning: dataset.value has been deprecated. Use dataset[()] instead.\n",
      "  'bfOrders': group['%s_%d_bfOrders'%(key, i)].value\n",
      "/home/maria.okounkova/.local/lib/python3.6/site-packages/gwsurrogate/new/precessing_surrogate.py:733: H5pyDeprecationWarning: dataset.value has been deprecated. Use dataset[()] instead.\n",
      "  self.t = h5file['t_coorb'].value\n",
      "/home/maria.okounkova/.local/lib/python3.6/site-packages/gwsurrogate/new/precessing_surrogate.py:691: H5pyDeprecationWarning: dataset.value has been deprecated. Use dataset[()] instead.\n",
      "  data['EI_basis'] = h5_group['EIBasis'].value\n",
      "/home/maria.okounkova/.local/lib/python3.6/site-packages/gwsurrogate/new/precessing_surrogate.py:692: H5pyDeprecationWarning: dataset.value has been deprecated. Use dataset[()] instead.\n",
      "  data['nodeIndices'] = h5_group['nodeIndices'].value\n",
      "/home/maria.okounkova/.local/lib/python3.6/site-packages/gwsurrogate/new/precessing_surrogate.py:694: H5pyDeprecationWarning: dataset.value has been deprecated. Use dataset[()] instead.\n",
      "  for i in range(len(data['nodeIndices']))]\n",
      "/home/maria.okounkova/.local/lib/python3.6/site-packages/gwsurrogate/new/precessing_surrogate.py:696: H5pyDeprecationWarning: dataset.value has been deprecated. Use dataset[()] instead.\n",
      "  for i in range(len(data['nodeIndices']))]\n"
     ]
    },
    {
     "name": "stdout",
     "output_type": "stream",
     "text": [
      "Loaded NRSur7dq4 model\n"
     ]
    }
   ],
   "source": [
    "import gwsurrogate\n",
    "sur = gwsurrogate.LoadSurrogate('NRSur7dq4')"
   ]
  },
  {
   "cell_type": "markdown",
   "metadata": {
    "Collapsed": "false"
   },
   "source": [
    "#### Evaluate Surrogate"
   ]
  },
  {
   "cell_type": "code",
   "execution_count": 11,
   "metadata": {
    "Collapsed": "false"
   },
   "outputs": [],
   "source": [
    "## Surrogate evaluation\n",
    "def EvaluateSurrogate(params_dict):\n",
    "    \"\"\" Evaluate the surrogate waveform \"\"\"\n",
    "   \n",
    "    \"\"\" Surrogate documentation: If inclination/phi_ref are specified, the complex strain (h =\n",
    "             hplus -i hcross) evaluated at (inclination, pi/2 - phi_ref) on\n",
    "             the sky of the reference frame is returned.\n",
    "\n",
    "        In order to agree with NR convetions, need phi_ref = pi/2 - phi\"\"\"\n",
    "\n",
    "    data = sur(params_dict['q'], params_dict['a_1'], params_dict['a_2'], \\\n",
    "               dt = params_dict['dt'], units = 'mks', M = params_dict['mass'], \\\n",
    "               dist_mpc = params_dict['dist_mpc'], f_low = params_dict['f_low'], \\\n",
    "               inclination = params_dict['theta'], ellMax = 4, phi_ref = pi/2 - params_dict['phi']) \n",
    "\n",
    "    time = data[0]\n",
    "    h_plus = np.real(data[1])\n",
    "    h_cross = -1 * np.imag(data[1])\n",
    "\n",
    "    ## Now subtract off the peak time (this makes the spine interpolation easier)\n",
    "    amp = np.sqrt(h_plus**2 + h_cross**2)\n",
    "    time = time - time[np.argmax(amp)]\n",
    "\n",
    "    return time, h_plus, h_cross, np.sqrt(h_plus**2 + h_cross**2)\n",
    "\n",
    "\n"
   ]
  },
  {
   "cell_type": "markdown",
   "metadata": {
    "Collapsed": "false"
   },
   "source": [
    "### Get BW reconstructed waveforms\n"
   ]
  },
  {
   "cell_type": "code",
   "execution_count": 12,
   "metadata": {
    "Collapsed": "false"
   },
   "outputs": [],
   "source": [
    "def GetBWDir(p):\n",
    "    return p + '/BayesWave/Run/trigtime_1126259462.000000000_0.0_0.0_0/'\n",
    "\n",
    "def GetMedianData(p, det = 'H1'):\n",
    "    \"\"\" Given a coupling constant value and an SNR, return the columns of the median waveform data \"\"\"\n",
    "    \n",
    "    ## Grab Livingston data\n",
    "    f = GetBWDir(p) + \"post/signal/signal_median_time_domain_waveform_\" + det + \".dat\"\n",
    "    time, d1, d2, d3, d4, d5 = np.loadtxt(f, comments=\"#\",usecols=([0,1,2,3,4,5]),unpack=True)\n",
    "    \n",
    "    ## Subtract peak time\n",
    "    time = SubtractPeakTime(time, d1)\n",
    "    \n",
    "    return time, d1 #, d2, d3, d4, d5\n",
    "\n",
    "def GetInjectedData(p, det = 'H1'):\n",
    "\n",
    "    f = GetBWDir(p) + 'post/whitened_data_' + det + '.dat'\n",
    "    data = np.loadtxt(f)\n",
    "    \n",
    "    s_rate = 2048 # Hz\n",
    "    dt = 1.0/s_rate\n",
    "    time = np.array([dt * t for t in range(len(data))])\n",
    "    \n",
    "    time = SubtractPeakTime(time, data)\n",
    "    return time, data"
   ]
  },
  {
   "cell_type": "markdown",
   "metadata": {
    "Collapsed": "false"
   },
   "source": [
    "### Plot reconstructions"
   ]
  },
  {
   "cell_type": "code",
   "execution_count": 25,
   "metadata": {
    "Collapsed": "false"
   },
   "outputs": [],
   "source": [
    "p = '/home/maria.okounkova/BeyondGRAnalysis/BilbyPE/dCS_0p0_125'\n",
    "\n",
    "BW_inj_time, BW_inj_strain = GetInjectedData(p)\n",
    "BW_rec_time, BW_rec_strain = GetMedianData(p)\n",
    "t_frame, data_frame = GetFramesData(p)"
   ]
  },
  {
   "cell_type": "code",
   "execution_count": 24,
   "metadata": {
    "Collapsed": "false"
   },
   "outputs": [
    {
     "data": {
      "image/png": "[encoded data removed]",
      "text/plain": [
       "<Figure size 720x720 with 1 Axes>"
      ]
     },
     "metadata": {
      "needs_background": "light"
     },
     "output_type": "display_data"
    }
   ],
   "source": [
    "plt.figure(figsize=(10,10))\n",
    "plt.plot(BW_inj_time, BW_inj_strain)\n",
    "plt.plot(BW_rec_time, BW_rec_strain)\n",
    "#plt.plot(t_frame, data_frame, '--')\n",
    "plt.xlim(-0.6, 0.05)\n",
    "plt.show()"
   ]
  },
  {
   "cell_type": "code",
   "execution_count": null,
   "metadata": {
    "Collapsed": "false"
   },
   "outputs": [],
   "source": []
  },
  {
   "cell_type": "code",
   "execution_count": 29,
   "metadata": {
    "Collapsed": "false"
   },
   "outputs": [
    {
     "name": "stdout",
     "output_type": "stream",
     "text": [
      "mass_ratio             9.652020e-01\n",
      "chirp_mass             2.964289e+01\n",
      "a_1                    5.358215e-01\n",
      "a_2                    5.486778e-01\n",
      "luminosity_distance    2.474476e+02\n",
      "psi                    2.781709e+00\n",
      "phase                  1.743555e+00\n",
      "geocent_time           1.126259e+09\n",
      "tilt_1                 0.000000e+00\n",
      "tilt_2                 3.141593e+00\n",
      "phi_12                 0.000000e+00\n",
      "phi_jl                 0.000000e+00\n",
      "dec                   -1.269672e+00\n",
      "ra                     1.952319e+00\n",
      "theta_jn               3.141593e+00\n",
      "log_likelihood         1.073743e+04\n",
      "log_prior             -1.704539e+01\n",
      "Name: 36660, dtype: float64\n"
     ]
    }
   ],
   "source": [
    "BilbyParameters = GetBilbyParameters('/home/maria.okounkova/BeyondGRAnalysis/BilbyPE/dCS_0p0_125')\n",
    "bilby_dict = GetBilbyDict(BilbyParameters)\n",
    "My_Params_Dict = bilby_dict #truth_dict\n",
    "time, h_plus, h_cross, amp = EvaluateSurrogate(My_Params_Dict)\n",
    "timeH, strainH, timeL, strainL = PadAndProject(time, h_plus, h_cross, My_Params_Dict)\n",
    "\n",
    "#params_dict = GetBilbyParameters(p)\n",
    "#truth_dict = GetInjectedParameters(p)"
   ]
  },
  {
   "cell_type": "code",
   "execution_count": null,
   "metadata": {
    "Collapsed": "false"
   },
   "outputs": [],
   "source": [
    "plt.figure(figsize=(10,10))\n",
    "plt.plot(BW_inj_time, BW_inj_strain)\n",
    "plt.plot(BW_rec_time, BW_rec_strain)\n",
    "#plt.plot(t_frame, data_frame, '--')\n",
    "plt.xlim(-0.6, 0.05)\n",
    "plt.show()"
   ]
  },
  {
   "cell_type": "code",
   "execution_count": 133,
   "metadata": {
    "Collapsed": "false"
   },
   "outputs": [],
   "source": []
  },
  {
   "cell_type": "code",
   "execution_count": 179,
   "metadata": {
    "Collapsed": "false"
   },
   "outputs": [],
   "source": []
  },
  {
   "cell_type": "code",
   "execution_count": null,
   "metadata": {
    "Collapsed": "false"
   },
   "outputs": [],
   "source": []
  }
 ],
 "metadata": {
  "kernelspec": {
   "display_name": "Python 3",
   "language": "python",
   "name": "python3"
  },
  "language_info": {
   "codemirror_mode": {
    "name": "ipython",
    "version": 3
   },
   "file_extension": ".py",
   "mimetype": "text/x-python",
   "name": "python",
   "nbconvert_exporter": "python",
   "pygments_lexer": "ipython3",
   "version": "3.6.8"
  }
 },
 "nbformat": 4,
 "nbformat_minor": 4
}
