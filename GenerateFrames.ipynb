{
 "cells": [
  {
   "cell_type": "code",
   "execution_count": 26,
   "metadata": {
    "Collapsed": "false"
   },
   "outputs": [],
   "source": [
    "import h5py\n",
    "from astropy import constants as const\n",
    "import numpy as np\n",
    "import matplotlib.pyplot as plt\n",
    "import matplotlib \n",
    "import math\n",
    "\n",
    "from scipy import signal\n",
    "from scipy.interpolate import CubicSpline\n",
    "from pycbc.detector import Detector\n",
    "from gwpy.timeseries import TimeSeries\n",
    "from gwpy.detector import Channel\n",
    "from math import pi\n",
    "\n",
    "from shutil import copyfile\n",
    "import os\n",
    "\n",
    "from matplotlib import rc\n",
    "\n",
    "import scri\n",
    "import NRSur7dq2\n",
    "\n",
    "#rc('text', usetex=True)\n",
    "\n",
    "# Plot parameters\n",
    "matplotlib.rcParams['mathtext.fontset'] = 'stix'\n",
    "matplotlib.rcParams['font.family'] = 'STIXGeneral'\n",
    "matplotlib.rcParams['axes.labelsize'] = 24\n",
    "matplotlib.rcParams['xtick.labelsize'] = 30\n",
    "matplotlib.rcParams['ytick.labelsize'] = 30\n",
    "matplotlib.rcParams['xtick.major.size'] = 20\n",
    "matplotlib.rcParams['ytick.major.size'] = 20\n",
    "matplotlib.rcParams['xtick.top'] = True\n",
    "matplotlib.rcParams['xtick.direction'] = 'in'\n",
    "matplotlib.rcParams['xtick.minor.visible'] = True\n",
    "matplotlib.rcParams['xtick.minor.size'] = 10\n",
    "matplotlib.rcParams['ytick.minor.size'] = 10\n",
    "matplotlib.rcParams['legend.fontsize'] = 18\n",
    "matplotlib.rcParams['legend.frameon'] = True\n",
    "matplotlib.rcParams['lines.linewidth'] = 3\n"
   ]
  },
  {
   "cell_type": "markdown",
   "metadata": {
    "Collapsed": "false"
   },
   "source": [
    "## Functions for reading in waveforms, and ramp function for tapering"
   ]
  },
  {
   "cell_type": "code",
   "execution_count": 38,
   "metadata": {
    "Collapsed": "false"
   },
   "outputs": [],
   "source": [
    "def swsh(s, modes, theta, phi, psi=0):\n",
    "    \"\"\"\n",
    "    Return a value of a spin-weighted spherical harmonic of spin-weight s. \n",
    "    If passed a list of several modes, then a numpy array is returned with \n",
    "    SWSH values of each mode for the given point.\n",
    "    For one mode:       swsh(s,[(l,m)],theta,phi,psi=0)\n",
    "    For several modes:  swsh(s,[(l1,m1),(l2,m2),(l3,m3),...],theta,phi,psi=0)\n",
    "    \"\"\"\n",
    "    import spherical_functions as sf\n",
    "    import quaternion as qt\n",
    "    return sf.SWSH(qt.from_spherical_coords(theta, phi), s, modes) * np.exp(1j * s * psi)\n",
    "\n",
    "def ReadExtrapolatedModes(file, modes, theta, phi, order = 2, mass = 68 * const.M_sun, distance = 400000 * const.kpc, dt=1/2048):\n",
    "    \"\"\" Read in an extrapolated SXS-format gravitational waveform mode, and \n",
    "        output the waveform in astrophysical units\"\"\"\n",
    "\n",
    "    f = h5py.File(file, 'r')\n",
    "    \n",
    "    ## Grab the time axis -- the same for all modes\n",
    "    data = f['Extrapolated_N'+str(order)+'.dir']['Y_l2_m2.dat']\n",
    "    time = data[:,0]\n",
    "    time = time - time[0]\n",
    "    \n",
    "    h_plus = np.zeros(len(time))\n",
    "    h_cross = np.zeros(len(time))\n",
    "    \n",
    "    ## fix the time to the ADM mass\n",
    "    mass = mass * 0.9917351317248174\n",
    "    \n",
    "    for mode in modes:\n",
    "        \n",
    "        l = mode[0]\n",
    "        m = mode[1]\n",
    "        \n",
    "        data = f['Extrapolated_N'+str(order)+'.dir']['Y_l' + str(l) + '_m'  + str(m) + '.dat']\n",
    "        \n",
    "        Ylm = swsh(-2, [(l,m)], theta=theta, phi=phi, psi=0) \n",
    "        \n",
    "        coef = data[:,1] + 1j * data[:,2]\n",
    "        h = coef * Ylm\n",
    " \n",
    "        h_plus = h_plus + np.real(h)\n",
    "        h_cross = h_cross - np.imag(h) \n",
    "    \n",
    "    print('mass', mass)\n",
    "    plus_adj = h_plus*const.G*mass/((const.c)**2*distance)\n",
    "    cross_adj = h_cross*const.G*mass/((const.c)**2*distance)\n",
    "    time_adj = time*mass*const.G/(const.c**3)\n",
    "    \n",
    "    times = np.arange(time_adj[0].value, time_adj[-1].value, dt)\n",
    "    cs_plus = CubicSpline(time_adj,plus_adj)\n",
    "    cs_cross = CubicSpline(time_adj,cross_adj)\n",
    "    \n",
    "    plus = cs_plus(times)\n",
    "    cross = cs_cross(times)\n",
    "    \n",
    "    return times, plus, cross, dt\n",
    "\n",
    "def Ramp(time, t_s, t_r):\n",
    "    \"\"\" Ramp function for tapering the waveform\"\"\"\n",
    "    if (time < t_s):\n",
    "        return 0.0\n",
    "    elif time > (t_s + t_r):\n",
    "        return 1.0\n",
    "    else:\n",
    "        t = (time - t_s)/t_r\n",
    "        return t**5*(126 + t*(-420 + t*(540 + t*(-315 + 70*t))))\n",
    "    \n",
    "def ProjectToDetectors(ra, dec, pol, t0, plus, cross, time):\n",
    "    '''\n",
    "    ra - Right Ascension\n",
    "    dec - Declination\n",
    "    pol - Polarization Angle\n",
    "    t0 - reference time for when signal reaches Hanford\n",
    "    '''\n",
    "    d_H1 = Detector(\"H1\")\n",
    "    d_L1 = Detector(\"L1\")\n",
    "    \n",
    "    #The time delay of the signal between the detectors\n",
    "    t_delay = d_L1.time_delay_from_detector(d_H1, ra, dec, t0)\n",
    "    \n",
    "    #Antenna Patterns\n",
    "    Fp_H1, Fc_H1 = d_H1.antenna_pattern(ra, dec, pol, t0)\n",
    "    Fp_L1, Fc_L1 = d_L1.antenna_pattern(ra, dec, pol, t0 + t_delay)\n",
    "    \n",
    "    #project\n",
    "    h_H1 = Fp_H1*plus + Fc_H1*cross\n",
    "    h_L1 = Fp_L1*plus + Fc_L1*cross\n",
    "    \n",
    "    #Shift times\n",
    "    time_H1 = time\n",
    "    time_L1 = time + t_delay\n",
    "    print(t_delay)\n",
    "    \n",
    "    return h_H1, h_L1, time_H1, time_L1\n",
    "    "
   ]
  },
  {
   "cell_type": "markdown",
   "metadata": {
    "Collapsed": "false"
   },
   "source": [
    "## Generate the frames files"
   ]
  },
  {
   "cell_type": "code",
   "execution_count": 39,
   "metadata": {
    "Collapsed": "false"
   },
   "outputs": [
    {
     "name": "stdout",
     "output_type": "stream",
     "text": [
      "37.38665093292035 30.61334906707965 -0.016651158553696054\n"
     ]
    }
   ],
   "source": [
    "## Simulation parameters -- hard-code the GW150914 NR simulation parameters for now. Future code will be more flexible and take in all of the relevant metadata\n",
    "def ComputeChiEff(chi1, chi2, m1, m2):\n",
    "    return (m1 * chi1[2] + m2 * chi2[2])/(m1 + m2)\n",
    "\n",
    "adm_mass = 0.9917351317248174\n",
    "q = 1.2212532137858916\n",
    "mass = 68.0 \n",
    "m2 = mass / (1 + q)\n",
    "m1 = mass - m2\n",
    "chirp_mass = (m1*m2)**(3.0/5.0)/(mass)**(1.0/5.0)\n",
    "eta = (m1*m2)/(mass)**2\n",
    "chi1 = np.array([0, 0, 0.33])\n",
    "chi2 = np.array([0, 0, -0.44])\n",
    "chi_eff = ComputeChiEff(chi1, chi2, m1, m2)\n",
    "print(m1, m2, chi_eff)"
   ]
  },
  {
   "cell_type": "code",
   "execution_count": 40,
   "metadata": {
    "Collapsed": "false"
   },
   "outputs": [],
   "source": [
    "def GenerateFrames(rh_dir, modes, theta, phi, mass, distance, t_gps = 1126259462.4107006, peak_time_in_segment = 8.0, \n",
    "                   segment_length = 16.0, sample_rate = 2048, ra = 4.7614763656, \n",
    "                   dec=-0.531780006467, pol=0.310886773011):\n",
    "    \"\"\" modes are the modes we wish to include \n",
    "        theta and phi are the angles of these modes to be put into the spherical harmonic functions \n",
    "        mass is the total mass of the system in solar masses\n",
    "        distance is the distance to the system in megaparsecs \"\"\"\n",
    "    \n",
    "    ## Read in the data\n",
    "    rh_file = rh_dir + \"/rhOverM_Asymptotic_GeometricUnits_CoM.h5\"\n",
    "    t, h_plus, h_cross, dt = ReadExtrapolatedModes(rh_file, modes, theta = theta, phi = phi, order = 2,  \\\n",
    "                                          mass = mass * const.M_sun, distance = distance * 1000 * const.kpc)\n",
    "    \n",
    "    ramp = np.array([Ramp(time, 0.1, 0.3) for time in t])\n",
    "    \n",
    "    h_plus = h_plus * ramp\n",
    "    h_cross = h_cross * ramp\n",
    "    \n",
    "    ## shift and pad the waveform before we do anything else\n",
    "    \n",
    "    t_peak = t[np.argmax(h_plus**2 + h_cross**2)]\n",
    "\n",
    "    ## Parameters for shifting and padding the data\n",
    "    shift_amount = (peak_time_in_segment - t_peak)\n",
    "    start_pad = int(shift_amount * sample_rate)\n",
    "    end_pad = int(sample_rate*segment_length - len(h_plus) - start_pad)\n",
    "    segment_start = math.floor(t_gps) - int(peak_time_in_segment)\n",
    "\n",
    "    h_plus = np.pad(h_plus, (start_pad, end_pad), 'constant', constant_values=(0.0, 0.0))\n",
    "    h_cross = np.pad(h_cross, (start_pad, end_pad), 'constant', constant_values=(0.0, 0.0))\n",
    "    t = np.arange(0., segment_length, dt) + t_gps - peak_time_in_segment\n",
    "    \n",
    "    strainH, strainL, timeH, timeL = ProjectToDetectors(ra=ra, dec=dec, pol=pol, \\\n",
    "                                                    t0=t_gps, plus=h_plus, cross=h_cross, time=t)\n",
    "    \n",
    "     ## Write the time series    \n",
    "    out_dir = rh_dir + '/' + rh_dir.split('/')[-1] + '_mtotal_' + str(mass) + '_dist_' + str(distance)\n",
    "    os.mkdir(out_dir)\n",
    "    \n",
    "    H1_padded = TimeSeries(strainH,sample_rate=1/dt,epoch=timeH[0],channel=\"H1:LDAS_STRAIN\")\n",
    "    L1_padded = TimeSeries(strainL,sample_rate=1/dt,epoch=timeL[0],channel=\"L1:LDAS_STRAIN\")\n",
    "    H1_name = \"H-H1_HOFT-\" + str(segment_start) + \\\n",
    "                    \"-\" + str(int(segment_length)) + \".gwf\"\n",
    "    L1_name = \"L-L1_HOFT-\" + str(segment_start) + \\\n",
    "                    \"-\" + str(int(segment_length)) + \".gwf\"\n",
    "    H1_padded.write(out_dir + \"/\" + H1_name)\n",
    "    L1_padded.write(out_dir + \"/\" + L1_name)\n",
    "\n",
    "    ## Copy over the noise files\n",
    "    copyfile('PSDs/design/aLIGOZeroDetHighPower-PSD.txt', out_dir + '/aLIGOZeroDetHighPower-PSD.txt')\n",
    "    copyfile('PSDs/design/aLIGOZeroDetHighPower-PSD_25Hz.txt', out_dir + '/aLIGOZeroDetHighPower-PSD_25Hz.txt')\n",
    "    \n",
    "    ## Make the bayeswave cache files\n",
    "    with open(out_dir + '/H1_Cache.lcf', 'a') as file:\n",
    "        file.write(\"-\\t-\\t-\\t-\\tfile://localhost\" + out_dir + '/' + H1_name + '\\n')\n",
    "    with open(out_dir + '/L1_Cache.lcf', 'a') as file:\n",
    "        file.write(\"-\\t-\\t-\\t-\\tfile://localhost\" + out_dir + '/' + L1_name + '\\n')\n",
    "        \n",
    "    ## Copy over the bayewave ini files\n",
    "    copyfile('run_bw.sh', out_dir + '/run_bw.sh')\n",
    "    copyfile('dCS.ini', out_dir + '/dCS.ini')\n",
    "    \n",
    "    ## Make the metadata file\n",
    "    with open(out_dir + '/Parameters.txt', 'a') as file:\n",
    "        ## Temporarily hard-code the values for the GW150914 run\n",
    "        file.write('dCS parameter value: 0.0' + '\\n')\n",
    "        file.write('Initial ADM energy: ' + str(adm_mass) + '\\n')\n",
    "        file.write('Initial Orbital frequency [Code units]: 0.019337522744' + '\\n')\n",
    "        file.write('Initial Separation [Code units]: 13.0' + '\\n')\n",
    "        file.write('Initial Eccentricity: 8.94e-05' + '\\n')\n",
    "        file.write('Number of Orbits: 11.9180876311' + '\\n')\n",
    "        file.write('Simulation common Horizon time [code units]: 2547.00520838' + '\\n')\n",
    "        \n",
    "        file.write('Sample rate: ' + str(sample_rate) + '\\n')\n",
    "        file.write('Mass Ratio: ' + str(q) + '\\n')\n",
    "        file.write('Remnant mass [code units]: 0.951971474722' + '\\n')\n",
    "        print(mass)\n",
    "        file.write('Total mass [solar masses]: ' + str(mass) + '\\n')\n",
    "        file.write('Mass 1: ' + str(m1) + '\\n')\n",
    "        file.write('Mass 2: ' + str(m2) + '\\n')\n",
    "        file.write('Chirp mass: ' + str(chirp_mass) + '\\n')\n",
    "        file.write('Symmetric mass ratio: ' + str(eta) + '\\n')\n",
    "        file.write('Dimensionless Spin 1 [heavier BH]: ' + str(chi1) + '\\n')\n",
    "        file.write('Dimensionless Spin 2 [lighter BH]: ' + str(chi2) + '\\n')\n",
    "        file.write('Chi effective: ' + str(chi_eff) + '\\n')\n",
    "        file.write('Chi precessing: 0.0 \\n')\n",
    "        \n",
    "        file.write('Distance [Mpc]: ' + str(distance) + '\\n')\n",
    "        file.write('Inclination [theta]: ' + str(theta) + '\\n')\n",
    "        file.write('Azimuthal angle [phi]: ' + str(phi) + '\\n')\n",
    "        file.write('Right ascention: ' + str(4.7614763656) + '\\n')\n",
    "        file.write('Declination: ' + str(-0.531780006467) + '\\n')\n",
    "        file.write('Polarization: ' + str(0.310886773011) + '\\n')\n",
    "        file.write('t_gps [sec]: ' + str(t_gps) + '\\n')\n",
    "        file.write('Peak time in segment [sec]: ' + str(peak_time_in_segment) + '\\n')\n",
    "        file.write('Segment length [sec]: ' + str(16.0) + '\\n')\n",
    "\n",
    "        \n",
    "        \n",
    "        \n",
    "        \n",
    "    "
   ]
  },
  {
   "cell_type": "code",
   "execution_count": 41,
   "metadata": {
    "Collapsed": "false"
   },
   "outputs": [
    {
     "name": "stdout",
     "output_type": "stream",
     "text": [
      "mass 1.3409878310141159e+32 kg\n",
      "0.005239059443450027\n",
      "68\n"
     ]
    }
   ],
   "source": [
    "all_modes = [[l,m] for l in range(2,9) for m in range(-l,l+1)]\n",
    "#GenerateFrames(\"/home/maria.okounkova/BeyondGRAnalysis/Waveforms/dCS_0p0_Lev2\", [(2,2), (2,-2)], pi, 0, 68, 400)\n",
    "GenerateFrames(\"/home/maria.okounkova/BeyondGRAnalysis/Waveforms/dCS_0p0_Lev2\", all_modes, pi, 0, 68, 400)"
   ]
  },
  {
   "cell_type": "markdown",
   "metadata": {
    "Collapsed": "false"
   },
   "source": [
    "## Read in TimeSeries from frames file and plot"
   ]
  },
  {
   "cell_type": "code",
   "execution_count": 42,
   "metadata": {
    "Collapsed": "false"
   },
   "outputs": [],
   "source": [
    "def PlotSeriesFromFile(file, plot_fft = False):\n",
    "    \"\"\" \"\"\"\n",
    "\n",
    "    s1 = TimeSeries.read(source = file + 'H-H1_HOFT-1126259454-16.gwf', channel=\"H1:LDAS_STRAIN\")\n",
    "    t1 = s1.times\n",
    "    t_peak = t1[np.argmax(np.absolute(s1))]\n",
    "    s2 = TimeSeries.read(source = file + 'L-L1_HOFT-1126259454-16.gwf', channel=\"L1:LDAS_STRAIN\")\n",
    "    t2 = s2.times\n",
    "    \n",
    "    t_peak = t1[np.argmax(np.absolute(s1))]\n",
    "    print(\"t_peak = \",t_peak)\n",
    "\n",
    "    plt.figure(figsize=(14, 8))\n",
    "    \n",
    "    if plot_fft:\n",
    "        fft1 = s1.fft()\n",
    "        plt.plot(fft1.frequencies, np.abs(fft1.value), color='#461ced', lw=1.0, label='Hanford', )\n",
    "        fft2 = s2.fft()\n",
    "        plt.plot(fft2.frequencies, np.abs(fft2.value), color='#de1666', lw=1.0, label='Livingston')\n",
    "        plt.xlabel('Frequency [Hz]')\n",
    "        plt.ylabel('h')\n",
    "        plt.xlim(0, 400)\n",
    "        plt.yscale('log')\n",
    "        plt.axvline(25, color='black', label='25 Hz')\n",
    "        plt.legend()\n",
    "        plt.ylim(1e-26, 1e-23)\n",
    "    \n",
    "    else:\n",
    "        plt.plot(t1, s1, label='Hanford', color='#461ced', lw=1.0)\n",
    "        plt.plot(t2, s2, label='Livingston', color='#de1666', lw=1.0)\n",
    "        plt.xlabel('Time [sec]')\n",
    "        plt.legend()\n",
    "        plt.ylabel('h')\n",
    "        tt = 1126259462.4107006\n",
    "        plt.legend()\n",
    "        plt.xlim(tt - 0.8, tt + 0.1)\n",
    "        \n",
    "    plt.show()\n",
    "    "
   ]
  },
  {
   "cell_type": "code",
   "execution_count": 43,
   "metadata": {
    "Collapsed": "false"
   },
   "outputs": [
    {
     "name": "stdout",
     "output_type": "stream",
     "text": [
      "t_peak =  1126259462.4111888 s\n"
     ]
    },
    {
     "data": {
      "image/png": "[encoded data removed]",
      "text/plain": [
       "<Figure size 1008x576 with 1 Axes>"
      ]
     },
     "metadata": {
      "needs_background": "light"
     },
     "output_type": "display_data"
    }
   ],
   "source": [
    "PlotSeriesFromFile(\"/home/maria.okounkova/public_html/SimplerFrames_ADMCorrected/\", plot_fft = True)\n"
   ]
  },
  {
   "cell_type": "code",
   "execution_count": null,
   "metadata": {
    "Collapsed": "false"
   },
   "outputs": [],
   "source": []
  }
 ],
 "metadata": {
  "kernelspec": {
   "display_name": "Python 3",
   "language": "python",
   "name": "python3"
  },
  "language_info": {
   "codemirror_mode": {
    "name": "ipython",
    "version": 3
   },
   "file_extension": ".py",
   "mimetype": "text/x-python",
   "name": "python",
   "nbconvert_exporter": "python",
   "pygments_lexer": "ipython3",
   "version": "3.6.8"
  }
 },
 "nbformat": 4,
 "nbformat_minor": 4
}
