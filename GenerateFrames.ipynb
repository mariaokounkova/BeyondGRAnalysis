{
 "cells": [
  {
   "cell_type": "code",
   "execution_count": 52,
   "metadata": {
    "Collapsed": "false"
   },
   "outputs": [],
   "source": [
    "import h5py\n",
    "from astropy import constants as const\n",
    "import numpy as np\n",
    "import matplotlib.pyplot as plt\n",
    "import matplotlib \n",
    "import math\n",
    "\n",
    "from scipy import signal\n",
    "from scipy.interpolate import CubicSpline\n",
    "from pycbc.detector import Detector\n",
    "from gwpy.timeseries import TimeSeries\n",
    "from gwpy.detector import Channel\n",
    "\n",
    "from shutil import copyfile\n",
    "import os\n",
    "\n",
    "from matplotlib import rc\n",
    "\n",
    "#rc('text', usetex=True)\n",
    "\n",
    "# Plot parameters\n",
    "matplotlib.rcParams['mathtext.fontset'] = 'stix'\n",
    "matplotlib.rcParams['font.family'] = 'STIXGeneral'\n",
    "matplotlib.rcParams['axes.labelsize'] = 24\n",
    "matplotlib.rcParams['xtick.labelsize'] = 30\n",
    "matplotlib.rcParams['ytick.labelsize'] = 30\n",
    "matplotlib.rcParams['xtick.major.size'] = 20\n",
    "matplotlib.rcParams['ytick.major.size'] = 20\n",
    "matplotlib.rcParams['xtick.top'] = True\n",
    "matplotlib.rcParams['xtick.direction'] = 'in'\n",
    "matplotlib.rcParams['xtick.minor.visible'] = True\n",
    "matplotlib.rcParams['xtick.minor.size'] = 10\n",
    "matplotlib.rcParams['ytick.minor.size'] = 10\n",
    "matplotlib.rcParams['legend.fontsize'] = 18\n",
    "matplotlib.rcParams['legend.frameon'] = True\n",
    "matplotlib.rcParams['lines.linewidth'] = 3\n"
   ]
  },
  {
   "cell_type": "markdown",
   "metadata": {
    "Collapsed": "false"
   },
   "source": [
    "## Functions for reading in waveforms, and ramp function for tapering"
   ]
  },
  {
   "cell_type": "code",
   "execution_count": 56,
   "metadata": {
    "Collapsed": "false"
   },
   "outputs": [],
   "source": [
    "def ReadExtrapolatedModes(file, modes, order = 2, mass = 68 * const.M_sun, distance = 400000 * const.kpc, dt=1/2048):\n",
    "    \"\"\" Read in an extrapolated SXS-format gravitational waveform mode, and \n",
    "        output the waveform in astrophysical units\"\"\"\n",
    "\n",
    "    f = h5py.File(file, 'r')\n",
    "    \n",
    "    ## Grab the time axis -- the same for all modes\n",
    "    data = f['Extrapolated_N'+str(order)+'.dir']['Y_l2_m2.dat']\n",
    "    time = data[:,0]\n",
    "    time = time - time[0]\n",
    "    \n",
    "    ## Add up the modes\n",
    "    re = np.zeros(len(time))\n",
    "    im = np.zeros(len(time))\n",
    "    \n",
    "    for mode in modes:\n",
    "        \n",
    "        data = f['Extrapolated_N'+str(order)+'.dir']['Y_l' + str(mode[0]) + '_m'  + str(mode[1]) + '.dat']\n",
    "        re = re + np.array(data[:,1])\n",
    "        im = im + np.array(data[:,1])\n",
    "    \n",
    "    re_adj = re*const.G*mass/((const.c)**2*distance)\n",
    "    im_adj = im*const.G*mass/((const.c)**2*distance)\n",
    "    time_adj = time*mass*const.G/(const.c**3)\n",
    "    \n",
    "    times = np.arange(time_adj[0].value, time_adj[-1].value, dt)\n",
    "    cs_r = CubicSpline(time_adj,re_adj)\n",
    "    cs_i = CubicSpline(time_adj,im_adj)\n",
    "    \n",
    "    real = cs_r(times)\n",
    "    imag = cs_i(times)\n",
    "    \n",
    "    return times, real, imag, dt\n",
    "\n",
    "def Ramp(time, t_s, t_r):\n",
    "    \"\"\" Ramp function for tapering the waveform\"\"\"\n",
    "    if (time < t_s):\n",
    "        return 0.0\n",
    "    elif time > (t_s + t_r):\n",
    "        return 1.0\n",
    "    else:\n",
    "        t = (time - t_s)/t_r\n",
    "        return t**5*(126 + t*(-420 + t*(540 + t*(-315 + 70*t))))\n",
    "    \n",
    "def ProjectToDetectors(ra, dec, pol, t0, plus, cross, time):\n",
    "    '''\n",
    "    ra - Right Ascension\n",
    "    dec - Declination\n",
    "    pol - Polarization Angle\n",
    "    t0 - reference time for when signal reaches Hanford\n",
    "    '''\n",
    "    d_H1 = Detector(\"H1\")\n",
    "    d_L1 = Detector(\"L1\")\n",
    "    \n",
    "    #The time delay of the signal between the detectors\n",
    "    t_delay = d_L1.time_delay_from_detector(d_H1, ra, dec, t0)\n",
    "    \n",
    "    #Antenna Patterns\n",
    "    Fp_H1, Fc_H1 = d_H1.antenna_pattern(ra, dec, pol, t0)\n",
    "    Fp_L1, Fc_L1 = d_L1.antenna_pattern(ra, dec, pol, t0 + t_delay)\n",
    "    \n",
    "    #project\n",
    "    h_H1 = Fp_H1*plus + Fc_H1*cross\n",
    "    h_L1 = Fp_L1*plus + Fc_L1*cross\n",
    "    \n",
    "    #Shift times\n",
    "    time_H1 = time\n",
    "    time_L1 = time + t_delay\n",
    "    print(t_delay)\n",
    "    \n",
    "    return h_H1, h_L1, time_H1, time_L1\n",
    "    "
   ]
  },
  {
   "cell_type": "markdown",
   "metadata": {
    "Collapsed": "false"
   },
   "source": [
    "## Generate the frames files"
   ]
  },
  {
   "cell_type": "code",
   "execution_count": 67,
   "metadata": {
    "Collapsed": "false"
   },
   "outputs": [],
   "source": [
    "def GenerateFrames(rh_dir, modes, mass, distance, t_gps = 1126259462.4107006, peak_time_in_segment = 8.0, \n",
    "                   segment_length = 16.0, sample_rate = 2048, ra = 4.7614763656, \n",
    "                   dec=-0.531780006467, pol=0.310886773011):\n",
    "    \"\"\" mass is the total mass of the system in solar masses\n",
    "        distance is the distance to the system in megaparsecs \"\"\"\n",
    "    \n",
    "    ## Read in the data\n",
    "    rh_file = rh_dir + \"/rhOverM_Asymptotic_GeometricUnits_CoM.h5\"\n",
    "    t, re, img, dt = ReadExtrapolatedModes(rh_file, modes, order = 2,  \\\n",
    "                                          mass = mass * const.M_sun, distance = distance * 1000 * const.kpc)\n",
    "    \n",
    "    ramp = np.array([Ramp(time, 0.1, 0.3) for time in t])\n",
    "    \n",
    "    re = re * ramp\n",
    "    img = img * ramp\n",
    "    \n",
    "    h_plus = re + img\n",
    "    h_cross = re - img\n",
    "    \n",
    "    ## shift and pad the waveform before we do anything else\n",
    "    \n",
    "    t_peak = t[np.argmax(h_plus**2 + h_cross**2)]\n",
    "\n",
    "    ## Parameters for shifting and padding the data\n",
    "    shift_amount = (peak_time_in_segment - t_peak)\n",
    "    start_pad = int(shift_amount * sample_rate)\n",
    "    end_pad = int(sample_rate*segment_length - len(h_plus) - start_pad)\n",
    "    segment_start = math.floor(t_gps) - int(peak_time_in_segment)\n",
    "\n",
    "    h_plus = np.pad(h_plus, (start_pad, end_pad), 'constant', constant_values=(0.0, 0.0))\n",
    "    h_cross = np.pad(h_cross, (start_pad, end_pad), 'constant', constant_values=(0.0, 0.0))\n",
    "    t = np.arange(0., segment_length, dt) + t_gps - peak_time_in_segment\n",
    "    \n",
    "    strainH, strainL, timeH, timeL = ProjectToDetectors(ra=ra, dec=dec, pol=pol, \\\n",
    "                                                    t0=t_gps, plus=h_plus, cross=h_cross, time=t)\n",
    "    \n",
    "    out_dir = rh_dir + '/' + rh_dir.split('/')[-1] + '_mtotal_' + str(mass) + '_dist_' + str(distance)\n",
    "    os.mkdir(out_dir)\n",
    "    \n",
    "    H1_padded = TimeSeries(strainH,sample_rate=1/dt,epoch=timeH[0],channel=\"H1:LDAS_STRAIN\")\n",
    "    L1_padded = TimeSeries(strainL,sample_rate=1/dt,epoch=timeL[0],channel=\"L1:LDAS_STRAIN\")\n",
    "    H1_name = \"H-H1_HOFT-\" + str(segment_start) + \\\n",
    "                    \"-\" + str(int(segment_length)) + \".gwf\"\n",
    "    L1_name = \"L-L1_HOFT-\" + str(segment_start) + \\\n",
    "                    \"-\" + str(int(segment_length)) + \".gwf\"\n",
    "    H1_padded.write(out_dir + \"/\" + H1_name)\n",
    "    L1_padded.write(out_dir + \"/\" + L1_name)\n",
    "\n",
    "    ## Copy over the noise files\n",
    "    copyfile('PSDs/design/aLIGOZeroDetHighPower-PSD.txt', out_dir + '/aLIGOZeroDetHighPower-PSD.txt')\n",
    "    copyfile('PSDs/design/aLIGOZeroDetHighPower-PSD_25Hz.txt', out_dir + '/aLIGOZeroDetHighPower-PSD_25Hz.txt')\n",
    "    \n",
    "    ## Make the bayeswave cache files\n",
    "    with open(out_dir + '/H1_Cache.lcf', 'a') as file:\n",
    "        file.write(\"-\\t-\\t-\\t-\\tfile://localhost\" + out_dir + '/' + H1_name + '\\n')\n",
    "    with open(out_dir + '/L1_Cache.lcf', 'a') as file:\n",
    "        file.write(\"-\\t-\\t-\\t-\\tfile://localhost\" + out_dir + '/' + L1_name + '\\n')\n",
    "        \n",
    "    ## Copy over the bayewave ini files\n",
    "    copyfile('run_bw.sh', out_dir + '/run_bw.sh')\n",
    "    copyfile('dCS.ini', out_dir + '/dCS.ini')"
   ]
  },
  {
   "cell_type": "code",
   "execution_count": 68,
   "metadata": {
    "Collapsed": "false"
   },
   "outputs": [
    {
     "name": "stdout",
     "output_type": "stream",
     "text": [
      "0.005239059443450027\n"
     ]
    }
   ],
   "source": [
    "all_modes = [[l,m] for l in range(2,9) for m in range(-l,l+1)]\n",
    "GenerateFrames(\"/home/maria.okounkova/BeyondGRAnalysis/Waveforms/dCS_0p0_Lev2\", all_modes, 68, 400)"
   ]
  },
  {
   "cell_type": "markdown",
   "metadata": {
    "Collapsed": "false"
   },
   "source": [
    "## Read in TimeSeries from frames file and plot"
   ]
  },
  {
   "cell_type": "code",
   "execution_count": 69,
   "metadata": {
    "Collapsed": "false"
   },
   "outputs": [],
   "source": [
    "def PlotSeriesFromFile(file, plot_fft = False):\n",
    "    \"\"\" \"\"\"\n",
    "\n",
    "    s1 = TimeSeries.read(source = file, channel=\"H1:LDAS_STRAIN\")\n",
    "    t1 = s1.times\n",
    "    t_peak = t1[np.argmax(np.absolute(s1))]\n",
    "    print(\"t_peak = \",t_peak)\n",
    "\n",
    "    plt.figure(figsize=(10, 8))\n",
    "    \n",
    "    if plot_fft:\n",
    "        fft = s1.fft()\n",
    "        plt.plot(fft.frequencies, np.abs(fft.value))\n",
    "        plt.xlabel('Frequency [Hz]')\n",
    "        plt.ylabel('h')\n",
    "        plt.xlim(0, 400)\n",
    "        plt.yscale('log')\n",
    "        plt.axvline(25, color='black', label='25 Hz')\n",
    "        plt.legend()\n",
    "        plt.ylim(1e-25, 2e-21)\n",
    "    \n",
    "    else:\n",
    "        plt.plot(t1, s1, label='H1', color='orange')\n",
    "        plt.xlabel('Time [sec]')\n",
    "        plt.legend()\n",
    "        plt.ylabel('h')\n",
    "        \n",
    "    plt.show()\n",
    "    "
   ]
  },
  {
   "cell_type": "code",
   "execution_count": 70,
   "metadata": {
    "Collapsed": "false"
   },
   "outputs": [
    {
     "name": "stdout",
     "output_type": "stream",
     "text": [
      "t_peak =  1126259462.4107006 s\n"
     ]
    },
    {
     "data": {
      "image/png": "[encoded data removed]",
      "text/plain": [
       "<Figure size 720x576 with 1 Axes>"
      ]
     },
     "metadata": {
      "needs_background": "light"
     },
     "output_type": "display_data"
    },
    {
     "name": "stdout",
     "output_type": "stream",
     "text": [
      "t_peak =  1126259462.4107006 s\n"
     ]
    },
    {
     "data": {
      "image/png": "[encoded data removed]",
      "text/plain": [
       "<Figure size 720x576 with 1 Axes>"
      ]
     },
     "metadata": {
      "needs_background": "light"
     },
     "output_type": "display_data"
    }
   ],
   "source": [
    "PlotSeriesFromFile(\"/home/maria.okounkova/BeyondGRAnalysis/Waveforms/dCS_0p0_Lev2/dCS_0p0_Lev2_mtotal_68_dist_400/H-H1_HOFT-1126259454-16.gwf\", plot_fft = False)\n",
    "PlotSeriesFromFile(\"/home/maria.okounkova/BeyondGRAnalysis/Waveforms/dCS_0p0_Lev2/dCS_0p0_Lev2_mtotal_68_dist_400/H-H1_HOFT-1126259454-16.gwf\", plot_fft = True)"
   ]
  },
  {
   "cell_type": "code",
   "execution_count": null,
   "metadata": {
    "Collapsed": "false"
   },
   "outputs": [],
   "source": []
  }
 ],
 "metadata": {
  "kernelspec": {
   "display_name": "Python 3",
   "language": "python",
   "name": "python3"
  },
  "language_info": {
   "codemirror_mode": {
    "name": "ipython",
    "version": 3
   },
   "file_extension": ".py",
   "mimetype": "text/x-python",
   "name": "python",
   "nbconvert_exporter": "python",
   "pygments_lexer": "ipython3",
   "version": "3.6.8"
  }
 },
 "nbformat": 4,
 "nbformat_minor": 4
}
