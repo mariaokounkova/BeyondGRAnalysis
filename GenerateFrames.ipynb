{
 "cells": [
  {
   "cell_type": "code",
   "execution_count": 3,
   "metadata": {
    "Collapsed": "false"
   },
   "outputs": [],
   "source": [
    "import h5py\n",
    "from astropy import constants as const\n",
    "import numpy as np\n",
    "import matplotlib.pyplot as plt\n",
    "import matplotlib \n",
    "\n",
    "from scipy import signal\n",
    "from scipy.interpolate import CubicSpline\n",
    "from pycbc.detector import Detector\n",
    "from gwpy.timeseries import TimeSeries\n",
    "from gwpy.detector import Channel\n",
    "\n",
    "from matplotlib import rc\n",
    "\n",
    "#rc('text', usetex=True)\n",
    "\n",
    "# Plot parameters\n",
    "matplotlib.rcParams['mathtext.fontset'] = 'stix'\n",
    "matplotlib.rcParams['font.family'] = 'STIXGeneral'\n",
    "matplotlib.rcParams['axes.labelsize'] = 24\n",
    "matplotlib.rcParams['xtick.labelsize'] = 30\n",
    "matplotlib.rcParams['ytick.labelsize'] = 30\n",
    "matplotlib.rcParams['xtick.major.size'] = 20\n",
    "matplotlib.rcParams['ytick.major.size'] = 20\n",
    "matplotlib.rcParams['xtick.top'] = True\n",
    "matplotlib.rcParams['xtick.direction'] = 'in'\n",
    "matplotlib.rcParams['xtick.minor.visible'] = True\n",
    "matplotlib.rcParams['xtick.minor.size'] = 10\n",
    "matplotlib.rcParams['ytick.minor.size'] = 10\n",
    "matplotlib.rcParams['legend.fontsize'] = 18\n",
    "matplotlib.rcParams['legend.frameon'] = True\n",
    "matplotlib.rcParams['lines.linewidth'] = 3\n"
   ]
  },
  {
   "cell_type": "markdown",
   "metadata": {
    "Collapsed": "false"
   },
   "source": [
    "## Functions for reading in waveforms, and ramp function for tapering"
   ]
  },
  {
   "cell_type": "code",
   "execution_count": 19,
   "metadata": {
    "Collapsed": "false"
   },
   "outputs": [],
   "source": [
    "def ReadExtrapolatedMode(file, mode = (2,2), order = 2, mass = 68 * const.M_sun, distance = 400000 * const.kpc, dt=1/2048):\n",
    "    \"\"\" Read in an extrapolated SXS-format gravitational waveform mode \"\"\"\n",
    "\n",
    "    l = mode[0]\n",
    "    m = mode[1]\n",
    "    f = h5py.File(file, 'r')\n",
    "    data = f['Extrapolated_N'+str(order)+'.dir']['Y_l' + str(l) + '_m'  + str(m) + '.dat']\n",
    "    time, re, im = data[:,0], data[:,1], data[:,2]\n",
    "    time = time - time[0]\n",
    "    \n",
    "    ## Combine the real and imaginary parts of the data\n",
    "    re_adj = re*const.G*mass/((const.c)**2*distance)\n",
    "    im_adj = im*const.G*mass/((const.c)**2*distance)\n",
    "    time_adj = time*mass*const.G/(const.c**3)\n",
    "    \n",
    "    times = np.arange(time_adj[0].value, time_adj[-1].value, dt)\n",
    "    cs_r = CubicSpline(time_adj,re_adj)\n",
    "    cs_i = CubicSpline(time_adj,im_adj)\n",
    "    \n",
    "    real = cs_r(times)\n",
    "    imag = cs_i(times)\n",
    "    \n",
    "    return times, real, imag, dt\n",
    "\n",
    "def Ramp(time, t_s, t_r):\n",
    "    \"\"\" Ramp function for tapering the waveform\"\"\"\n",
    "    if (time < t_s):\n",
    "        return 0.0\n",
    "    elif time > (t_s + t_r):\n",
    "        return 1.0\n",
    "    else:\n",
    "        t = (time - t_s)/t_r\n",
    "        return t**5*(126 + t*(-420 + t*(540 + t*(-315 + 70*t))))\n",
    "    \n",
    "def ProjectToDetectors(ra, dec, pol, t0, plus, cross, time):\n",
    "    '''\n",
    "    ra - Right Ascension\n",
    "    dec - Declination\n",
    "    pol - Polarization Angle\n",
    "    t0 - reference time for when signal reaches Hanford\n",
    "    '''\n",
    "    d_H1 = Detector(\"H1\")\n",
    "    d_L1 = Detector(\"L1\")\n",
    "    \n",
    "    #The time delay of the signal between the detectors\n",
    "    t_delay = d_L1.time_delay_from_detector(d_H1, ra, dec, t0)\n",
    "    \n",
    "    #Antenna Patterns\n",
    "    Fp_H1, Fc_H1 = d_H1.antenna_pattern(ra, dec, pol, t0)\n",
    "    Fp_L1, Fc_L1 = d_L1.antenna_pattern(ra, dec, pol, t0 + t_delay)\n",
    "    \n",
    "    #project\n",
    "    h_H1 = Fp_H1*plus + Fc_H1*cross\n",
    "    h_L1 = Fp_L1*plus + Fc_L1*cross\n",
    "    \n",
    "    #Shift times\n",
    "    time_H1 = time\n",
    "    time_L1 = time + t_delay\n",
    "    print(t_delay)\n",
    "    \n",
    "    return h_H1, h_L1, time_H1, time_L1\n",
    "    "
   ]
  },
  {
   "cell_type": "markdown",
   "metadata": {
    "Collapsed": "false"
   },
   "source": [
    "## Generate the frames files"
   ]
  },
  {
   "cell_type": "code",
   "execution_count": 32,
   "metadata": {
    "Collapsed": "false"
   },
   "outputs": [],
   "source": [
    "def GenerateFrames(rh_dir, mass, distance, t_gps = 1126259462.4107006, peak_time_in_segment = 8.0, \n",
    "                   segment_length = 16.0, sample_rate = 2048, ra = 4.7614763656, \n",
    "                   dec=-0.531780006467, pol=0.310886773011):\n",
    "    \"\"\" mass is the total mass of the system in solar masses\n",
    "        distance is the distance to the system in megaparsecs \"\"\"\n",
    "    \n",
    "    #rh_file = \"/home/maria.okounkova/BeyondGRAnalysis/Waveforms_22/Lev2/rhOverM_Asymptotic_GeometricUnits_CoM.h5\"\n",
    "    ## Read in the data\n",
    "    rh_file = rh_dir + \"/rhOverM_Asymptotic_GeometricUnits_CoM.h5\"\n",
    "    t, re, img, dt = ReadExtrapolatedMode(rh_file, mode = (2,2), order = 2,  \\\n",
    "                                          mass = mass * const.M_sun, distance = distance * 1000 * const.kpc)\n",
    "    \n",
    "    ramp = np.array([Ramp(time, 0.1, 0.3) for time in t])\n",
    "    \n",
    "    re = re * ramp\n",
    "    img = img * ramp\n",
    "    \n",
    "    h_plus = re + img\n",
    "    h_cross = re - img\n",
    "    \n",
    "    ## shift and pad the waveform before we do anything else\n",
    "    t_peak = t[np.argmax(h_plus**2 + h_cross**2)]\n",
    "\n",
    "    ## want the peak time to correspond to 6 seconds\n",
    "    shift_amount = (peak_time_in_segment - t_peak)\n",
    "    start_pad = int(shift_amount * 2048)\n",
    "    end_pad = int(sample_rate*segment_length - len(h_plus) - start_pad)\n",
    "\n",
    "    h_plus = np.pad(h_plus, (start_pad, end_pad), 'constant', constant_values=(0.0, 0.0))\n",
    "    h_cross = np.pad(h_cross, (start_pad, end_pad), 'constant', constant_values=(0.0, 0.0))\n",
    "    t = np.arange(0., segment_length, dt) + t_gps - peak_time_in_segment\n",
    "    \n",
    "    strainH, strainL, timeH, timeL = ProjectToDetectors(ra=ra, dec=dec, pol=pol, \\\n",
    "                                                    t0=t_gps, plus=h_plus, cross=h_cross, time=t)\n",
    "    \n",
    "    H1_padded = TimeSeries(strainH,sample_rate=1/dt,epoch=timeH[0],channel=\"H1:LDAS_STRAIN\")\n",
    "    L1_padded = TimeSeries(strainL,sample_rate=1/dt,epoch=timeL[0],channel=\"L1:LDAS_STRAIN\")\n",
    "    H1_padded.write(rh_dir + \"/H1_\"+str(mass)+\"_\"+str(distance)+\".gwf\")\n",
    "    L1_padded.write(rh_dir + \"/L1_\"+str(mass)+\"_\"+str(distance)+\".gwf\")"
   ]
  },
  {
   "cell_type": "code",
   "execution_count": 33,
   "metadata": {
    "Collapsed": "false"
   },
   "outputs": [
    {
     "name": "stdout",
     "output_type": "stream",
     "text": [
      "0.005239059443450027\n"
     ]
    }
   ],
   "source": [
    "GenerateFrames(\"/home/maria.okounkova/BeyondGRAnalysis/WaveformsSimpler/dCS_0p0_Lev2\", 68, 10)"
   ]
  },
  {
   "cell_type": "markdown",
   "metadata": {
    "Collapsed": "false"
   },
   "source": [
    "Do to:\n",
    "\n",
    "rename the .gwf files\n",
    "\n",
    "the dCS files\n",
    "\n",
    "\n",
    "\n"
   ]
  },
  {
   "cell_type": "markdown",
   "metadata": {
    "Collapsed": "false"
   },
   "source": [
    "## Read in TimeSeries from frames file and plot"
   ]
  },
  {
   "cell_type": "code",
   "execution_count": 22,
   "metadata": {
    "Collapsed": "false"
   },
   "outputs": [],
   "source": [
    "def PlotSeriesFromFile(file, plot_fft = False):\n",
    "    \"\"\" \"\"\"\n",
    "\n",
    "    s1 = TimeSeries.read(source = file, channel=\"H1:LDAS_STRAIN\")\n",
    "    t1 = s1.times\n",
    "    t_peak = t1[np.argmax(np.absolute(s1))]\n",
    "    print(\"t_peak = \",t_peak)\n",
    "\n",
    "    plt.figure(figsize=(10, 8))\n",
    "    \n",
    "    if plot_fft:\n",
    "        fft = s1.fft()\n",
    "        plt.plot(fft.frequencies, np.abs(fft.value))\n",
    "        plt.xlabel('Frequency [Hz]')\n",
    "        plt.ylabel('h')\n",
    "        plt.xlim(0, 400)\n",
    "        plt.yscale('log')\n",
    "        plt.axvline(25, color='black', label='25 Hz')\n",
    "        plt.legend()\n",
    "        plt.ylim(1e-25, 2e-21)\n",
    "    \n",
    "    else:\n",
    "        plt.plot(t1, s1, label='H1', color='orange')\n",
    "        plt.xlabel('Time [sec]')\n",
    "        plt.legend()\n",
    "        plt.ylabel('h')\n",
    "        \n",
    "    plt.show()\n",
    "    "
   ]
  },
  {
   "cell_type": "code",
   "execution_count": 34,
   "metadata": {
    "Collapsed": "false"
   },
   "outputs": [
    {
     "name": "stdout",
     "output_type": "stream",
     "text": [
      "t_peak =  1126259462.4116771 s\n"
     ]
    },
    {
     "data": {
      "image/png": "[encoded data removed]",
      "text/plain": [
       "<Figure size 720x576 with 1 Axes>"
      ]
     },
     "metadata": {
      "needs_background": "light"
     },
     "output_type": "display_data"
    }
   ],
   "source": [
    "PlotSeriesFromFile(\"/home/maria.okounkova/BeyondGRAnalysis/WaveformsSimpler/dCS_0p0_Lev2/H1_68_10.gwf\", plot_fft = False)"
   ]
  },
  {
   "cell_type": "code",
   "execution_count": null,
   "metadata": {
    "Collapsed": "false"
   },
   "outputs": [],
   "source": []
  }
 ],
 "metadata": {
  "kernelspec": {
   "display_name": "Python 3",
   "language": "python",
   "name": "python3"
  },
  "language_info": {
   "codemirror_mode": {
    "name": "ipython",
    "version": 3
   },
   "file_extension": ".py",
   "mimetype": "text/x-python",
   "name": "python",
   "nbconvert_exporter": "python",
   "pygments_lexer": "ipython3",
   "version": "3.6.8"
  }
 },
 "nbformat": 4,
 "nbformat_minor": 4
}
